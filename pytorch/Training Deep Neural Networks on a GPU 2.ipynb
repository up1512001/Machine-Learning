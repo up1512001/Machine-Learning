{
 "cells": [
  {
   "cell_type": "code",
   "execution_count": null,
   "metadata": {},
   "outputs": [],
   "source": []
  },
  {
   "cell_type": "code",
   "execution_count": 1,
   "metadata": {},
   "outputs": [],
   "source": [
    "import torch\n",
    "import numpy as np\n",
    "from torchvision.datasets import MNIST\n",
    "from torchvision.transforms import ToTensor\n",
    "# from torchvision.utils.data.sampler import \n",
    "from torch.utils.data.sampler import SubsetRandomSampler\n",
    "from torch.utils.data.dataloader import DataLoader"
   ]
  },
  {
   "cell_type": "code",
   "execution_count": 2,
   "metadata": {},
   "outputs": [],
   "source": [
    "dataset = MNIST(root='data/',download=True,transform=ToTensor())"
   ]
  },
  {
   "cell_type": "code",
   "execution_count": 3,
   "metadata": {},
   "outputs": [
    {
     "data": {
      "text/plain": [
       "Dataset MNIST\n",
       "    Number of datapoints: 60000\n",
       "    Root location: data/\n",
       "    Split: Train\n",
       "    StandardTransform\n",
       "Transform: ToTensor()"
      ]
     },
     "execution_count": 3,
     "metadata": {},
     "output_type": "execute_result"
    }
   ],
   "source": [
    "dataset"
   ]
  },
  {
   "cell_type": "code",
   "execution_count": 4,
   "metadata": {},
   "outputs": [
    {
     "name": "stdout",
     "output_type": "stream",
     "text": [
      "Label: 7\n"
     ]
    },
    {
     "data": {
      "image/png": "[encoded data removed]",
      "text/plain": [
       "<Figure size 432x288 with 1 Axes>"
      ]
     },
     "metadata": {
      "needs_background": "light"
     },
     "output_type": "display_data"
    }
   ],
   "source": [
    "import matplotlib.pyplot as plt\n",
    "%matplotlib inline\n",
    "img ,  lab = dataset[15]\n",
    "plt.imshow(img[0],cmap='gray')\n",
    "print('Label:',lab)"
   ]
  },
  {
   "cell_type": "code",
   "execution_count": 5,
   "metadata": {},
   "outputs": [],
   "source": [
    "# Spliting Indices into validation sets\n",
    "def split_indices(n,val_pct):\n",
    "    # detremine size of validation set\n",
    "    n_val = int(n*val_pct)\n",
    "    # creating random permutations from 0 to n-1\n",
    "    indx = np.random.permutation(n)\n",
    "    # pick first n_val indices for validation set\n",
    "    return indx[n_val:],indx[:n_val]"
   ]
  },
  {
   "cell_type": "code",
   "execution_count": 6,
   "metadata": {},
   "outputs": [
    {
     "name": "stdout",
     "output_type": "stream",
     "text": [
      "Train indices length: 48000\n",
      "Validation indices length: 12000\n"
     ]
    }
   ],
   "source": [
    "train_indices, val_indices = split_indices(len(dataset),val_pct=0.2)\n",
    "print('Train indices length:',len(train_indices))\n",
    "print('Validation indices length:',len(val_indices))"
   ]
  },
  {
   "cell_type": "code",
   "execution_count": 7,
   "metadata": {},
   "outputs": [
    {
     "data": {
      "text/plain": [
       "array([54493, 24491, 31451, 30365, 44449,  9618, 35686,  3176, 41715,\n",
       "        7032,  7585, 28917, 17275, 36194, 32067, 29781, 42470, 16088,\n",
       "       18995, 16435])"
      ]
     },
     "execution_count": 7,
     "metadata": {},
     "output_type": "execute_result"
    }
   ],
   "source": [
    "train_indices[:20]"
   ]
  },
  {
   "cell_type": "code",
   "execution_count": 8,
   "metadata": {},
   "outputs": [
    {
     "data": {
      "text/plain": [
       "array([30898, 26839, 36178, 59362, 36004,  9461, 35219, 33449, 33215,\n",
       "       16792, 52292, 36483, 21431, 55877, 46434, 20094, 37657, 53130,\n",
       "       36313, 38823])"
      ]
     },
     "execution_count": 8,
     "metadata": {},
     "output_type": "execute_result"
    }
   ],
   "source": [
    "val_indices[:20]"
   ]
  },
  {
   "cell_type": "code",
   "execution_count": 9,
   "metadata": {},
   "outputs": [],
   "source": [
    "batch_size = 100\n",
    "\n",
    "# traning sampler data loder\n",
    "train_sampler = SubsetRandomSampler(train_indices)\n",
    "train_dl = DataLoader(dataset,batch_size,sampler=train_sampler)\n",
    "\n",
    "# validation sampler data loder\n",
    "valid_sampler = SubsetRandomSampler(val_indices)\n",
    "valid_dl = DataLoader(dataset,batch_size,sampler=valid_sampler)"
   ]
  },
  {
   "cell_type": "code",
   "execution_count": 10,
   "metadata": {},
   "outputs": [],
   "source": [
    "# model\n",
    "import torch.nn.functional as F\n",
    "import torch.nn as nn"
   ]
  },
  {
   "cell_type": "code",
   "execution_count": 11,
   "metadata": {},
   "outputs": [],
   "source": [
    "class MnistModel(nn.Module):\n",
    "    '''feed forward neural network with 2 hidden layers'''\n",
    "    def __init__(self,input_size,hidden_size1,hidden_size2,output_size):\n",
    "        super().__init__()\n",
    "        # hidden layer 1\n",
    "        self.linear1 = nn.Linear(input_size,hidden_size1)\n",
    "        #  hidden layer 2\n",
    "        self.linear2 = nn.Linear(hidden_size1,hidden_size2)\n",
    "        # output layer\n",
    "        self.linear3 = nn.Linear(hidden_size2,output_size)\n",
    "        \n",
    "    def forward(self,xb):\n",
    "        # flatten image tensor\n",
    "        xb = xb.view(xb.size(0),-1)\n",
    "        # getting intermediate output using hidden layer 1\n",
    "        out = self.linear1(xb)\n",
    "        # Applying Activation Function layer 1\n",
    "        out = F.relu(out)\n",
    "        # getting second output using hidden layer 2\n",
    "        out = self.linear2(out)\n",
    "        # Applying Activation Function\n",
    "        out = F.relu(out)\n",
    "        # getting output by third layer\n",
    "        out = self.linear3(out)\n",
    "        return out\n",
    "        "
   ]
  },
  {
   "cell_type": "code",
   "execution_count": 12,
   "metadata": {},
   "outputs": [],
   "source": [
    "input_size = 784\n",
    "num_classes = 10\n",
    "\n",
    "model = MnistModel(input_size,hidden_size1=64,hidden_size2=32,output_size=num_classes)"
   ]
  },
  {
   "cell_type": "code",
   "execution_count": 13,
   "metadata": {},
   "outputs": [
    {
     "name": "stdout",
     "output_type": "stream",
     "text": [
      "torch.Size([64, 784])\n",
      "torch.Size([64])\n",
      "torch.Size([32, 64])\n",
      "torch.Size([32])\n",
      "torch.Size([10, 32])\n",
      "torch.Size([10])\n"
     ]
    }
   ],
   "source": [
    "for t in model.parameters():\n",
    "    print(t.shape)"
   ]
  },
  {
   "cell_type": "code",
   "execution_count": 14,
   "metadata": {},
   "outputs": [],
   "source": [
    "def get_default_device():\n",
    "    '''if cuda found then use GPU else CPU'''\n",
    "    if torch.cuda.is_available():\n",
    "        return torch.device('cuda')\n",
    "    else:\n",
    "        return torch.device('cpu')"
   ]
  },
  {
   "cell_type": "code",
   "execution_count": 15,
   "metadata": {},
   "outputs": [
    {
     "data": {
      "text/plain": [
       "device(type='cpu')"
      ]
     },
     "execution_count": 15,
     "metadata": {},
     "output_type": "execute_result"
    }
   ],
   "source": [
    "device = get_default_device()\n",
    "device"
   ]
  },
  {
   "cell_type": "code",
   "execution_count": 26,
   "metadata": {},
   "outputs": [],
   "source": [
    "def to_device(data,device):\n",
    "    '''if cuda available then move tensors in GPU memory'''\n",
    "    if isinstance(data,(list,tuple)):\n",
    "        return [to_device(x,device) for x in data]\n",
    "    return data.to(device,non_blocking=True)"
   ]
  },
  {
   "cell_type": "code",
   "execution_count": 27,
   "metadata": {},
   "outputs": [],
   "source": [
    "class DeviceDataLoader():\n",
    "    \"\"\"Wrap a dataloader to move data to a device\"\"\"\n",
    "    def __init__(self,dl,device):\n",
    "        self.dl=dl\n",
    "        self.device=device\n",
    "    \n",
    "    def __iter__(self):\n",
    "        \"\"\"Yield a batch of data after moving it to devices\"\"\"\n",
    "        for b in self.dl:\n",
    "            yield to_device(b,self.device)\n",
    "            \n",
    "    def __len__(self):\n",
    "        \"\"\"Number of batches\"\"\"\n",
    "        return len(self.dl)\n",
    "    "
   ]
  },
  {
   "cell_type": "code",
   "execution_count": 28,
   "metadata": {},
   "outputs": [],
   "source": [
    "train_dl = DeviceDataLoader(train_dl,device)\n",
    "valid_dl = DeviceDataLoader(valid_dl,device)"
   ]
  },
  {
   "cell_type": "code",
   "execution_count": 29,
   "metadata": {},
   "outputs": [
    {
     "name": "stdout",
     "output_type": "stream",
     "text": [
      "xb.device : cpu\n",
      "yb : tensor([1, 2, 3, 7, 6, 8, 7, 2, 0, 2, 6, 2, 9, 4, 9, 7, 4, 7, 1, 4, 2, 9, 0, 0,\n",
      "        5, 6, 8, 2, 3, 4, 4, 6, 5, 4, 0, 1, 4, 1, 0, 0, 8, 7, 0, 5, 5, 3, 1, 0,\n",
      "        4, 0, 9, 0, 0, 4, 7, 6, 6, 7, 9, 9, 8, 2, 7, 5, 7, 9, 6, 4, 7, 7, 2, 8,\n",
      "        1, 1, 6, 1, 7, 2, 9, 6, 0, 3, 1, 8, 0, 7, 7, 2, 3, 6, 8, 9, 0, 7, 3, 7,\n",
      "        5, 2, 5, 2])\n"
     ]
    }
   ],
   "source": [
    "for xb,yb in valid_dl:\n",
    "    print('xb.device :',xb.device)\n",
    "    print('yb :',yb)\n",
    "    break"
   ]
  },
  {
   "cell_type": "code",
   "execution_count": 30,
   "metadata": {},
   "outputs": [
    {
     "name": "stdout",
     "output_type": "stream",
     "text": [
      "xb.device cpu\n",
      "yb: tensor([6, 6, 2, 9, 8, 5, 4, 9, 3, 0, 4, 2, 4, 2, 1, 5, 4, 6, 1, 5, 8, 4, 9, 5,\n",
      "        3, 6, 0, 8, 9, 0, 8, 2, 1, 8, 5, 8, 3, 5, 9, 9, 1, 2, 7, 0, 0, 0, 1, 1,\n",
      "        4, 1, 6, 0, 8, 9, 9, 0, 9, 2, 7, 4, 9, 6, 0, 9, 3, 6, 1, 6, 9, 1, 9, 8,\n",
      "        9, 2, 5, 8, 5, 6, 2, 5, 0, 2, 8, 9, 5, 5, 8, 0, 3, 2, 4, 2, 4, 8, 5, 5,\n",
      "        0, 2, 6, 8])\n"
     ]
    }
   ],
   "source": [
    "for xb, yb in valid_dl:\n",
    "    print('xb.device',xb.device)\n",
    "    print('yb:',yb)\n",
    "    break"
   ]
  },
  {
   "cell_type": "code",
   "execution_count": 31,
   "metadata": {},
   "outputs": [],
   "source": [
    "# train model"
   ]
  },
  {
   "cell_type": "code",
   "execution_count": 38,
   "metadata": {},
   "outputs": [],
   "source": [
    "def loss_batch(model,loss_func,xb,yb,opt=None,metric=None):\n",
    "    preds = model(xb)\n",
    "    loss = loss_func(preds,yb)\n",
    "    \n",
    "    if opt is not None:\n",
    "        loss.backward()\n",
    "        opt.step()\n",
    "        opt.zero_grad()\n",
    "    metric_result = None\n",
    "    if metric is not None:\n",
    "        metric_result = metric(preds,yb)\n",
    "    \n",
    "    return loss.item(), len(xb),metric_result"
   ]
  },
  {
   "cell_type": "code",
   "execution_count": 39,
   "metadata": {},
   "outputs": [],
   "source": [
    "def evaluate(model,loss_fn,valid_dl,metric=None):\n",
    "    with torch.no_grad():\n",
    "        results = [loss_batch(model,loss_fn,xb,yb,metric=metric)for xb,yb in valid_dl]\n",
    "        \n",
    "        losses, nums, metrics = zip(*results)\n",
    "        \n",
    "        total = np.sum(nums)\n",
    "        \n",
    "        avg_loss = np.sum(np.multiply(losses,nums))/total\n",
    "        \n",
    "        avg_metric = None\n",
    "        if metric is not None:\n",
    "            avg_metric = np.sum(np.multiply(metrics,nums))/total\n",
    "        \n",
    "        return avg_loss,total,avg_metric"
   ]
  },
  {
   "cell_type": "code",
   "execution_count": 40,
   "metadata": {},
   "outputs": [],
   "source": [
    "def fit(epochs,model,lr,loss_fn,train_dl,valid_dl,metric=None,opt_fn=None):\n",
    "    losses , metrics = [] , []\n",
    "    \n",
    "    if opt_fn is None: opt_fn = torch.optim.Adam\n",
    "    opt = opt_fn(model.parameters(),lr=lr)\n",
    "    \n",
    "    for epoch in range(epochs):\n",
    "        \n",
    "        for xb,yb in train_dl:\n",
    "            loss_batch(model,loss_fn,xb,yb,opt)\n",
    "            \n",
    "        result = evaluate(model,loss_fn,valid_dl,metric)\n",
    "        val_loss,total,val_metric = result\n",
    "        \n",
    "        losses.append(val_loss)\n",
    "        metrics.append(val_metric)\n",
    "        \n",
    "        if metric is None:\n",
    "            print('Epoch [{}/{}] , Loss : {:.4f}'.format(epoch+1,epochs,val_loss))\n",
    "        else:\n",
    "            print('Epoch [{}/{}] , Loss : {:.4f} {} : {:.4f}'.format(epoch+1,epochs,val_loss,metric.__name__,val_metric))\n",
    "            \n",
    "    return losses,metrics\n",
    "        \n",
    "        "
   ]
  },
  {
   "cell_type": "code",
   "execution_count": 41,
   "metadata": {},
   "outputs": [],
   "source": [
    "def accuracy(outputs,labels):\n",
    "    _,preds = torch.max(outputs,dim=1)\n",
    "    return torch.sum(preds==labels).item()/len(preds)"
   ]
  },
  {
   "cell_type": "code",
   "execution_count": 42,
   "metadata": {},
   "outputs": [
    {
     "data": {
      "text/plain": [
       "MnistModel(\n",
       "  (linear1): Linear(in_features=784, out_features=64, bias=True)\n",
       "  (linear2): Linear(in_features=64, out_features=32, bias=True)\n",
       "  (linear3): Linear(in_features=32, out_features=10, bias=True)\n",
       ")"
      ]
     },
     "execution_count": 42,
     "metadata": {},
     "output_type": "execute_result"
    }
   ],
   "source": [
    "# model on CPU\n",
    "model = MnistModel(input_size,hidden_size1=64,hidden_size2=32,output_size=num_classes)\n",
    "to_device(model,device)"
   ]
  },
  {
   "cell_type": "code",
   "execution_count": 43,
   "metadata": {},
   "outputs": [],
   "source": [
    "val_loss,total,val_acc = evaluate(model,F.cross_entropy,valid_dl,metric=accuracy)\n"
   ]
  },
  {
   "cell_type": "code",
   "execution_count": 44,
   "metadata": {},
   "outputs": [
    {
     "name": "stdout",
     "output_type": "stream",
     "text": [
      "Loss : 2.306528433163961 , Accuracy : 0.09691666666666666\n"
     ]
    }
   ],
   "source": [
    "print('Loss : {} , Accuracy : {}'.format(val_loss,val_acc))"
   ]
  },
  {
   "cell_type": "code",
   "execution_count": 45,
   "metadata": {},
   "outputs": [
    {
     "name": "stdout",
     "output_type": "stream",
     "text": [
      "Epoch [1/5] , Loss : 1.1596 accuracy : 0.5186\n",
      "Epoch [2/5] , Loss : 1.2428 accuracy : 0.4998\n",
      "Epoch [3/5] , Loss : 1.1475 accuracy : 0.5018\n",
      "Epoch [4/5] , Loss : 1.5701 accuracy : 0.3752\n",
      "Epoch [5/5] , Loss : 1.4452 accuracy : 0.4619\n"
     ]
    }
   ],
   "source": [
    "losses1,metric1 = fit(5,model,0.1,F.cross_entropy,train_dl,valid_dl,accuracy)"
   ]
  },
  {
   "cell_type": "code",
   "execution_count": 46,
   "metadata": {},
   "outputs": [
    {
     "name": "stdout",
     "output_type": "stream",
     "text": [
      "Epoch [1/5] , Loss : 2.3312 accuracy : 0.1121\n",
      "Epoch [2/5] , Loss : 2.3788 accuracy : 0.0945\n",
      "Epoch [3/5] , Loss : 2.3702 accuracy : 0.1015\n",
      "Epoch [4/5] , Loss : 2.3270 accuracy : 0.1015\n",
      "Epoch [5/5] , Loss : 2.3376 accuracy : 0.1015\n"
     ]
    }
   ],
   "source": [
    "losses2,metric2 = fit(5,model,0.8,F.cross_entropy,train_dl,valid_dl,accuracy)"
   ]
  },
  {
   "cell_type": "code",
   "execution_count": 47,
   "metadata": {},
   "outputs": [
    {
     "name": "stdout",
     "output_type": "stream",
     "text": [
      "Epoch [1/5] , Loss : 2.3027 accuracy : 0.1121\n",
      "Epoch [2/5] , Loss : 2.3029 accuracy : 0.1121\n",
      "Epoch [3/5] , Loss : 2.3030 accuracy : 0.1121\n",
      "Epoch [4/5] , Loss : 2.3024 accuracy : 0.1049\n",
      "Epoch [5/5] , Loss : 2.3023 accuracy : 0.1121\n"
     ]
    }
   ],
   "source": [
    "losses3,metric3 = fit(5,model,0.01,F.cross_entropy,train_dl,valid_dl,accuracy)"
   ]
  },
  {
   "cell_type": "code",
   "execution_count": 48,
   "metadata": {},
   "outputs": [
    {
     "name": "stdout",
     "output_type": "stream",
     "text": [
      "Epoch [1/5] , Loss : 2.3375 accuracy : 0.0981\n",
      "Epoch [2/5] , Loss : 2.3138 accuracy : 0.1015\n",
      "Epoch [3/5] , Loss : 2.3348 accuracy : 0.1121\n",
      "Epoch [4/5] , Loss : 2.3280 accuracy : 0.1121\n",
      "Epoch [5/5] , Loss : 2.3307 accuracy : 0.1015\n"
     ]
    }
   ],
   "source": [
    "losses4,metric4 = fit(5,model,0.5,F.cross_entropy,train_dl,valid_dl,accuracy)"
   ]
  },
  {
   "cell_type": "code",
   "execution_count": 49,
   "metadata": {},
   "outputs": [
    {
     "name": "stdout",
     "output_type": "stream",
     "text": [
      "Epoch [1/5] , Loss : 2.3053 accuracy : 0.1121\n",
      "Epoch [2/5] , Loss : 2.3021 accuracy : 0.1121\n",
      "Epoch [3/5] , Loss : 2.3019 accuracy : 0.1121\n",
      "Epoch [4/5] , Loss : 2.3018 accuracy : 0.1121\n",
      "Epoch [5/5] , Loss : 2.3018 accuracy : 0.1121\n"
     ]
    }
   ],
   "source": [
    "losses5,metric5 = fit(5,model,0.001,F.cross_entropy,train_dl,valid_dl,accuracy)"
   ]
  },
  {
   "cell_type": "code",
   "execution_count": 50,
   "metadata": {},
   "outputs": [
    {
     "name": "stdout",
     "output_type": "stream",
     "text": [
      "Epoch [1/5] , Loss : 2.3150 accuracy : 0.1015\n",
      "Epoch [2/5] , Loss : 2.3071 accuracy : 0.1121\n",
      "Epoch [3/5] , Loss : 2.3084 accuracy : 0.1049\n",
      "Epoch [4/5] , Loss : 2.3052 accuracy : 0.1015\n",
      "Epoch [5/5] , Loss : 2.3141 accuracy : 0.1121\n"
     ]
    }
   ],
   "source": [
    "losses6,metric6 = fit(5,model,0.1,F.cross_entropy,train_dl,valid_dl,accuracy)"
   ]
  },
  {
   "cell_type": "code",
   "execution_count": 51,
   "metadata": {},
   "outputs": [
    {
     "name": "stdout",
     "output_type": "stream",
     "text": [
      "Epoch [1/5] , Loss : 2.3056 accuracy : 0.0945\n",
      "Epoch [2/5] , Loss : 2.3076 accuracy : 0.0945\n",
      "Epoch [3/5] , Loss : 2.3080 accuracy : 0.1121\n",
      "Epoch [4/5] , Loss : 2.3097 accuracy : 0.1015\n",
      "Epoch [5/5] , Loss : 2.3045 accuracy : 0.1049\n"
     ]
    }
   ],
   "source": [
    "losses7,metric7 = fit(5,model,0.07,F.cross_entropy,train_dl,valid_dl,accuracy)"
   ]
  },
  {
   "cell_type": "code",
   "execution_count": 52,
   "metadata": {},
   "outputs": [
    {
     "name": "stdout",
     "output_type": "stream",
     "text": [
      "Epoch [1/10] , Loss : 2.3258 accuracy : 0.1005\n",
      "Epoch [2/10] , Loss : 2.3206 accuracy : 0.1049\n",
      "Epoch [3/10] , Loss : 2.3141 accuracy : 0.1049\n",
      "Epoch [4/10] , Loss : 2.3203 accuracy : 0.0959\n",
      "Epoch [5/10] , Loss : 2.3129 accuracy : 0.1049\n",
      "Epoch [6/10] , Loss : 2.3141 accuracy : 0.0995\n",
      "Epoch [7/10] , Loss : 2.3102 accuracy : 0.1049\n",
      "Epoch [8/10] , Loss : 2.3101 accuracy : 0.1121\n",
      "Epoch [9/10] , Loss : 2.3174 accuracy : 0.1005\n",
      "Epoch [10/10] , Loss : 2.3356 accuracy : 0.1049\n"
     ]
    }
   ],
   "source": [
    "losses8,metric8 = fit(10,model,0.23,F.cross_entropy,train_dl,valid_dl,accuracy)"
   ]
  },
  {
   "cell_type": "code",
   "execution_count": null,
   "metadata": {},
   "outputs": [],
   "source": []
  },
  {
   "cell_type": "code",
   "execution_count": null,
   "metadata": {},
   "outputs": [],
   "source": []
  },
  {
   "cell_type": "code",
   "execution_count": null,
   "metadata": {},
   "outputs": [],
   "source": []
  }
 ],
 "metadata": {
  "kernelspec": {
   "display_name": "Python 3",
   "language": "python",
   "name": "python3"
  },
  "language_info": {
   "codemirror_mode": {
    "name": "ipython",
    "version": 3
   },
   "file_extension": ".py",
   "mimetype": "text/x-python",
   "name": "python",
   "nbconvert_exporter": "python",
   "pygments_lexer": "ipython3",
   "version": "3.8.5"
  }
 },
 "nbformat": 4,
 "nbformat_minor": 4
}
