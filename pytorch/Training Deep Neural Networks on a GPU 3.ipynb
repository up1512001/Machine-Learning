{
 "cells": [
  {
   "cell_type": "code",
   "execution_count": null,
   "metadata": {},
   "outputs": [],
   "source": []
  },
  {
   "cell_type": "code",
   "execution_count": 1,
   "metadata": {},
   "outputs": [],
   "source": [
    "import torch\n",
    "import numpy as np\n",
    "from torchvision.datasets import MNIST\n",
    "from torchvision.transforms import ToTensor\n",
    "# from torchvision.utils.data.sampler import \n",
    "from torch.utils.data.sampler import SubsetRandomSampler\n",
    "from torch.utils.data.dataloader import DataLoader"
   ]
  },
  {
   "cell_type": "code",
   "execution_count": 2,
   "metadata": {},
   "outputs": [],
   "source": [
    "dataset = MNIST(root='data/',download=True,transform=ToTensor())"
   ]
  },
  {
   "cell_type": "code",
   "execution_count": 3,
   "metadata": {},
   "outputs": [
    {
     "data": {
      "text/plain": [
       "Dataset MNIST\n",
       "    Number of datapoints: 60000\n",
       "    Root location: data/\n",
       "    Split: Train\n",
       "    StandardTransform\n",
       "Transform: ToTensor()"
      ]
     },
     "execution_count": 3,
     "metadata": {},
     "output_type": "execute_result"
    }
   ],
   "source": [
    "dataset"
   ]
  },
  {
   "cell_type": "code",
   "execution_count": 4,
   "metadata": {},
   "outputs": [
    {
     "name": "stdout",
     "output_type": "stream",
     "text": [
      "Label: 7\n"
     ]
    },
    {
     "data": {
      "image/png": "[encoded data removed]",
      "text/plain": [
       "<Figure size 432x288 with 1 Axes>"
      ]
     },
     "metadata": {
      "needs_background": "light"
     },
     "output_type": "display_data"
    }
   ],
   "source": [
    "import matplotlib.pyplot as plt\n",
    "%matplotlib inline\n",
    "img ,  lab = dataset[15]\n",
    "plt.imshow(img[0],cmap='gray')\n",
    "print('Label:',lab)"
   ]
  },
  {
   "cell_type": "code",
   "execution_count": 5,
   "metadata": {},
   "outputs": [],
   "source": [
    "# Spliting Indices into validation sets\n",
    "def split_indices(n,val_pct):\n",
    "    # detremine size of validation set\n",
    "    n_val = int(n*val_pct)\n",
    "    # creating random permutations from 0 to n-1\n",
    "    indx = np.random.permutation(n)\n",
    "    # pick first n_val indices for validation set\n",
    "    return indx[n_val:],indx[:n_val]"
   ]
  },
  {
   "cell_type": "code",
   "execution_count": 6,
   "metadata": {},
   "outputs": [
    {
     "name": "stdout",
     "output_type": "stream",
     "text": [
      "Train indices length: 48000\n",
      "Validation indices length: 12000\n"
     ]
    }
   ],
   "source": [
    "train_indices, val_indices = split_indices(len(dataset),val_pct=0.2)\n",
    "print('Train indices length:',len(train_indices))\n",
    "print('Validation indices length:',len(val_indices))"
   ]
  },
  {
   "cell_type": "code",
   "execution_count": 7,
   "metadata": {},
   "outputs": [
    {
     "data": {
      "text/plain": [
       "array([27396, 46782, 20023, 44491, 21707, 16712,  5655, 20987, 40719,\n",
       "       45276, 37441, 48701, 21502, 30854, 16487, 31332,  4608,  2717,\n",
       "       44474, 44263])"
      ]
     },
     "execution_count": 7,
     "metadata": {},
     "output_type": "execute_result"
    }
   ],
   "source": [
    "train_indices[:20]"
   ]
  },
  {
   "cell_type": "code",
   "execution_count": 8,
   "metadata": {},
   "outputs": [
    {
     "data": {
      "text/plain": [
       "array([11942, 33735, 38101, 17405, 33468, 42590, 12838, 28790, 28640,\n",
       "       47412, 26270, 31101, 50718, 23365, 18368, 57241, 43284, 31300,\n",
       "       40601, 10358])"
      ]
     },
     "execution_count": 8,
     "metadata": {},
     "output_type": "execute_result"
    }
   ],
   "source": [
    "val_indices[:20]"
   ]
  },
  {
   "cell_type": "code",
   "execution_count": 9,
   "metadata": {},
   "outputs": [],
   "source": [
    "batch_size = 100\n",
    "\n",
    "# traning sampler data loder\n",
    "train_sampler = SubsetRandomSampler(train_indices)\n",
    "train_dl = DataLoader(dataset,batch_size,sampler=train_sampler)\n",
    "\n",
    "# validation sampler data loder\n",
    "valid_sampler = SubsetRandomSampler(val_indices)\n",
    "valid_dl = DataLoader(dataset,batch_size,sampler=valid_sampler)"
   ]
  },
  {
   "cell_type": "code",
   "execution_count": 10,
   "metadata": {},
   "outputs": [],
   "source": [
    "# model\n",
    "import torch.nn.functional as F\n",
    "import torch.nn as nn"
   ]
  },
  {
   "cell_type": "code",
   "execution_count": 11,
   "metadata": {},
   "outputs": [],
   "source": [
    "class MnistModel(nn.Module):\n",
    "    '''feed forward neural network with 2 hidden layers'''\n",
    "    def __init__(self,input_size,hidden_size1,hidden_size2,output_size):\n",
    "        super().__init__()\n",
    "        # hidden layer 1\n",
    "        self.linear1 = nn.Linear(input_size,hidden_size1)\n",
    "        #  hidden layer 2\n",
    "        self.linear2 = nn.Linear(hidden_size1,hidden_size2)\n",
    "        # output layer\n",
    "        self.linear3 = nn.Linear(hidden_size2,output_size)\n",
    "        \n",
    "    def forward(self,xb):\n",
    "        # flatten image tensor\n",
    "        xb = xb.view(xb.size(0),-1)\n",
    "        # getting intermediate output using hidden layer 1\n",
    "        out = self.linear1(xb)\n",
    "        # Applying Activation Function layer 1\n",
    "        out = F.relu(out)\n",
    "        # getting second output using hidden layer 2\n",
    "        out = self.linear2(out)\n",
    "        # Applying Activation Function\n",
    "        out = F.relu(out)\n",
    "        # getting output by third layer\n",
    "        out = self.linear3(out)\n",
    "        return out\n",
    "        "
   ]
  },
  {
   "cell_type": "code",
   "execution_count": 12,
   "metadata": {},
   "outputs": [],
   "source": [
    "input_size = 784\n",
    "num_classes = 10\n",
    "\n",
    "model = MnistModel(input_size,hidden_size1=64,hidden_size2=32,output_size=num_classes)"
   ]
  },
  {
   "cell_type": "code",
   "execution_count": 13,
   "metadata": {},
   "outputs": [
    {
     "name": "stdout",
     "output_type": "stream",
     "text": [
      "torch.Size([64, 784])\n",
      "torch.Size([64])\n",
      "torch.Size([32, 64])\n",
      "torch.Size([32])\n",
      "torch.Size([10, 32])\n",
      "torch.Size([10])\n"
     ]
    }
   ],
   "source": [
    "for t in model.parameters():\n",
    "    print(t.shape)"
   ]
  },
  {
   "cell_type": "code",
   "execution_count": 14,
   "metadata": {},
   "outputs": [],
   "source": [
    "def get_default_device():\n",
    "    '''if cuda found then use GPU else CPU'''\n",
    "    if torch.cuda.is_available():\n",
    "        return torch.device('cuda')\n",
    "    else:\n",
    "        return torch.device('cpu')"
   ]
  },
  {
   "cell_type": "code",
   "execution_count": 15,
   "metadata": {},
   "outputs": [
    {
     "data": {
      "text/plain": [
       "device(type='cpu')"
      ]
     },
     "execution_count": 15,
     "metadata": {},
     "output_type": "execute_result"
    }
   ],
   "source": [
    "device = get_default_device()\n",
    "device"
   ]
  },
  {
   "cell_type": "code",
   "execution_count": 16,
   "metadata": {},
   "outputs": [],
   "source": [
    "def to_device(data,device):\n",
    "    '''if cuda available then move tensors in GPU memory'''\n",
    "    if isinstance(data,(list,tuple)):\n",
    "        return [to_device(x,device) for x in data]\n",
    "    return data.to(device,non_blocking=True)"
   ]
  },
  {
   "cell_type": "code",
   "execution_count": 17,
   "metadata": {},
   "outputs": [],
   "source": [
    "class DeviceDataLoader():\n",
    "    \"\"\"Wrap a dataloader to move data to a device\"\"\"\n",
    "    def __init__(self,dl,device):\n",
    "        self.dl=dl\n",
    "        self.device=device\n",
    "    \n",
    "    def __iter__(self):\n",
    "        \"\"\"Yield a batch of data after moving it to devices\"\"\"\n",
    "        for b in self.dl:\n",
    "            yield to_device(b,self.device)\n",
    "            \n",
    "    def __len__(self):\n",
    "        \"\"\"Number of batches\"\"\"\n",
    "        return len(self.dl)\n",
    "    "
   ]
  },
  {
   "cell_type": "code",
   "execution_count": 18,
   "metadata": {},
   "outputs": [],
   "source": [
    "train_dl = DeviceDataLoader(train_dl,device)\n",
    "valid_dl = DeviceDataLoader(valid_dl,device)"
   ]
  },
  {
   "cell_type": "code",
   "execution_count": 19,
   "metadata": {},
   "outputs": [
    {
     "name": "stdout",
     "output_type": "stream",
     "text": [
      "xb.device : cpu\n",
      "yb : tensor([2, 9, 4, 3, 0, 6, 6, 3, 5, 6, 2, 4, 7, 2, 2, 4, 3, 0, 1, 7, 7, 9, 7, 0,\n",
      "        9, 1, 2, 6, 1, 8, 2, 2, 4, 4, 9, 4, 4, 9, 1, 6, 4, 9, 3, 1, 2, 8, 4, 5,\n",
      "        7, 2, 2, 8, 0, 7, 5, 5, 0, 9, 6, 9, 0, 6, 7, 9, 2, 4, 7, 5, 2, 4, 4, 8,\n",
      "        4, 7, 2, 3, 6, 7, 5, 9, 1, 2, 2, 9, 8, 1, 3, 9, 5, 3, 9, 4, 9, 2, 8, 3,\n",
      "        0, 1, 6, 1])\n"
     ]
    }
   ],
   "source": [
    "for xb,yb in valid_dl:\n",
    "    print('xb.device :',xb.device)\n",
    "    print('yb :',yb)\n",
    "    break"
   ]
  },
  {
   "cell_type": "code",
   "execution_count": 20,
   "metadata": {},
   "outputs": [
    {
     "name": "stdout",
     "output_type": "stream",
     "text": [
      "xb.device cpu\n",
      "yb: tensor([6, 0, 7, 3, 6, 9, 8, 2, 7, 2, 3, 0, 7, 6, 7, 6, 8, 8, 2, 1, 8, 2, 8, 1,\n",
      "        2, 5, 3, 6, 6, 1, 7, 2, 7, 5, 7, 2, 0, 4, 9, 1, 3, 7, 1, 7, 1, 8, 5, 4,\n",
      "        7, 2, 4, 2, 5, 0, 6, 8, 7, 3, 8, 1, 2, 6, 7, 6, 8, 2, 7, 9, 4, 2, 5, 2,\n",
      "        8, 0, 6, 1, 4, 1, 3, 5, 3, 6, 3, 5, 4, 1, 1, 2, 8, 6, 7, 3, 2, 5, 3, 3,\n",
      "        5, 0, 8, 7])\n"
     ]
    }
   ],
   "source": [
    "for xb, yb in valid_dl:\n",
    "    print('xb.device',xb.device)\n",
    "    print('yb:',yb)\n",
    "    break"
   ]
  },
  {
   "cell_type": "code",
   "execution_count": 21,
   "metadata": {},
   "outputs": [],
   "source": [
    "# train model"
   ]
  },
  {
   "cell_type": "code",
   "execution_count": 22,
   "metadata": {},
   "outputs": [],
   "source": [
    "def loss_batch(model,loss_func,xb,yb,opt=None,metric=None):\n",
    "    preds = model(xb)\n",
    "    loss = loss_func(preds,yb)\n",
    "    \n",
    "    if opt is not None:\n",
    "        loss.backward()\n",
    "        opt.step()\n",
    "        opt.zero_grad()\n",
    "    metric_result = None\n",
    "    if metric is not None:\n",
    "        metric_result = metric(preds,yb)\n",
    "    \n",
    "    return loss.item(), len(xb),metric_result"
   ]
  },
  {
   "cell_type": "code",
   "execution_count": 23,
   "metadata": {},
   "outputs": [],
   "source": [
    "def evaluate(model,loss_fn,valid_dl,metric=None):\n",
    "    with torch.no_grad():\n",
    "        results = [loss_batch(model,loss_fn,xb,yb,metric=metric)for xb,yb in valid_dl]\n",
    "        \n",
    "        losses, nums, metrics = zip(*results)\n",
    "        \n",
    "        total = np.sum(nums)\n",
    "        \n",
    "        avg_loss = np.sum(np.multiply(losses,nums))/total\n",
    "        \n",
    "        avg_metric = None\n",
    "        if metric is not None:\n",
    "            avg_metric = np.sum(np.multiply(metrics,nums))/total\n",
    "        \n",
    "        return avg_loss,total,avg_metric"
   ]
  },
  {
   "cell_type": "code",
   "execution_count": 24,
   "metadata": {},
   "outputs": [],
   "source": [
    "def fit(epochs,model,lr,loss_fn,train_dl,valid_dl,metric=None,opt_fn=None):\n",
    "    losses , metrics = [] , []\n",
    "    \n",
    "    if opt_fn is None: opt_fn = torch.optim.SGD\n",
    "    opt = opt_fn(model.parameters(),lr=lr)\n",
    "    \n",
    "    for epoch in range(epochs):\n",
    "        \n",
    "        for xb,yb in train_dl:\n",
    "            loss_batch(model,loss_fn,xb,yb,opt)\n",
    "            \n",
    "        result = evaluate(model,loss_fn,valid_dl,metric)\n",
    "        val_loss,total,val_metric = result\n",
    "        \n",
    "        losses.append(val_loss)\n",
    "        metrics.append(val_metric)\n",
    "        \n",
    "        if metric is None:\n",
    "            print('Epoch [{}/{}] , Loss : {:.4f}'.format(epoch+1,epochs,val_loss))\n",
    "        else:\n",
    "            print('Epoch [{}/{}] , Loss : {:.4f} {} : {:.4f}'.format(epoch+1,epochs,val_loss,metric.__name__,val_metric))\n",
    "            \n",
    "    return losses,metrics\n",
    "        \n",
    "        "
   ]
  },
  {
   "cell_type": "code",
   "execution_count": 25,
   "metadata": {},
   "outputs": [],
   "source": [
    "def accuracy(outputs,labels):\n",
    "    _,preds = torch.max(outputs,dim=1)\n",
    "    return torch.sum(preds==labels).item()/len(preds)"
   ]
  },
  {
   "cell_type": "code",
   "execution_count": 26,
   "metadata": {},
   "outputs": [
    {
     "data": {
      "text/plain": [
       "MnistModel(\n",
       "  (linear1): Linear(in_features=784, out_features=64, bias=True)\n",
       "  (linear2): Linear(in_features=64, out_features=49, bias=True)\n",
       "  (linear3): Linear(in_features=49, out_features=10, bias=True)\n",
       ")"
      ]
     },
     "execution_count": 26,
     "metadata": {},
     "output_type": "execute_result"
    }
   ],
   "source": [
    "# model on CPU\n",
    "model = MnistModel(input_size,hidden_size1=64,hidden_size2=49,output_size=num_classes)\n",
    "to_device(model,device)"
   ]
  },
  {
   "cell_type": "code",
   "execution_count": 27,
   "metadata": {},
   "outputs": [],
   "source": [
    "val_loss,total,val_acc = evaluate(model,F.cross_entropy,valid_dl,metric=accuracy)\n"
   ]
  },
  {
   "cell_type": "code",
   "execution_count": 28,
   "metadata": {},
   "outputs": [
    {
     "name": "stdout",
     "output_type": "stream",
     "text": [
      "Loss : 2.3095740815003714 , Accuracy : 0.07883333333333334\n"
     ]
    }
   ],
   "source": [
    "print('Loss : {} , Accuracy : {}'.format(val_loss,val_acc))"
   ]
  },
  {
   "cell_type": "code",
   "execution_count": 29,
   "metadata": {},
   "outputs": [
    {
     "name": "stdout",
     "output_type": "stream",
     "text": [
      "Epoch [1/10] , Loss : 0.3399 accuracy : 0.8986\n",
      "Epoch [2/10] , Loss : 0.2557 accuracy : 0.9249\n",
      "Epoch [3/10] , Loss : 0.2130 accuracy : 0.9396\n",
      "Epoch [4/10] , Loss : 0.1735 accuracy : 0.9508\n",
      "Epoch [5/10] , Loss : 0.1495 accuracy : 0.9576\n",
      "Epoch [6/10] , Loss : 0.1433 accuracy : 0.9573\n",
      "Epoch [7/10] , Loss : 0.1276 accuracy : 0.9622\n",
      "Epoch [8/10] , Loss : 0.1166 accuracy : 0.9649\n",
      "Epoch [9/10] , Loss : 0.1114 accuracy : 0.9665\n",
      "Epoch [10/10] , Loss : 0.1086 accuracy : 0.9673\n"
     ]
    }
   ],
   "source": [
    "losses1,metric1 = fit(10,model,0.1,F.cross_entropy,train_dl,valid_dl,accuracy)"
   ]
  },
  {
   "cell_type": "code",
   "execution_count": 30,
   "metadata": {},
   "outputs": [
    {
     "name": "stdout",
     "output_type": "stream",
     "text": [
      "Epoch [1/10] , Loss : 0.1000 accuracy : 0.9696\n",
      "Epoch [2/10] , Loss : 0.0995 accuracy : 0.9695\n",
      "Epoch [3/10] , Loss : 0.0985 accuracy : 0.9702\n",
      "Epoch [4/10] , Loss : 0.0987 accuracy : 0.9701\n",
      "Epoch [5/10] , Loss : 0.0981 accuracy : 0.9704\n",
      "Epoch [6/10] , Loss : 0.0983 accuracy : 0.9707\n",
      "Epoch [7/10] , Loss : 0.0979 accuracy : 0.9706\n",
      "Epoch [8/10] , Loss : 0.0976 accuracy : 0.9707\n",
      "Epoch [9/10] , Loss : 0.0970 accuracy : 0.9711\n",
      "Epoch [10/10] , Loss : 0.0971 accuracy : 0.9713\n"
     ]
    }
   ],
   "source": [
    "losses2,metric2 = fit(10,model,0.01,F.cross_entropy,train_dl,valid_dl,accuracy)"
   ]
  },
  {
   "cell_type": "code",
   "execution_count": 31,
   "metadata": {},
   "outputs": [
    {
     "name": "stdout",
     "output_type": "stream",
     "text": [
      "Epoch [1/10] , Loss : 0.0965 accuracy : 0.9708\n",
      "Epoch [2/10] , Loss : 0.0964 accuracy : 0.9712\n",
      "Epoch [3/10] , Loss : 0.0965 accuracy : 0.9712\n",
      "Epoch [4/10] , Loss : 0.0964 accuracy : 0.9711\n",
      "Epoch [5/10] , Loss : 0.0964 accuracy : 0.9711\n",
      "Epoch [6/10] , Loss : 0.0963 accuracy : 0.9714\n",
      "Epoch [7/10] , Loss : 0.0963 accuracy : 0.9712\n",
      "Epoch [8/10] , Loss : 0.0964 accuracy : 0.9712\n",
      "Epoch [9/10] , Loss : 0.0964 accuracy : 0.9710\n",
      "Epoch [10/10] , Loss : 0.0963 accuracy : 0.9714\n"
     ]
    }
   ],
   "source": [
    "losses3,metric3 = fit(10,model,0.001,F.cross_entropy,train_dl,valid_dl,accuracy)"
   ]
  },
  {
   "cell_type": "code",
   "execution_count": 32,
   "metadata": {},
   "outputs": [],
   "source": [
    "# losses4,metric4 = fit(15,model,0.001,F.cross_entropy,train_dl,valid_dl,accuracy)"
   ]
  },
  {
   "cell_type": "code",
   "execution_count": 33,
   "metadata": {},
   "outputs": [],
   "source": [
    "# losses5,metric5 = fit(5,model,0.01,F.cross_entropy,train_dl,valid_dl,accuracy)"
   ]
  },
  {
   "cell_type": "code",
   "execution_count": 34,
   "metadata": {},
   "outputs": [],
   "source": [
    "# losses6,metric6 = fit(5,model,0.009,F.cross_entropy,train_dl,valid_dl,accuracy)"
   ]
  },
  {
   "cell_type": "code",
   "execution_count": 35,
   "metadata": {},
   "outputs": [],
   "source": [
    "# losses7,metric7 = fit(5,model,0.002,F.cross_entropy,train_dl,valid_dl,accuracy)"
   ]
  },
  {
   "cell_type": "code",
   "execution_count": 36,
   "metadata": {},
   "outputs": [],
   "source": [
    "# losses8,metric8 = fit(10,model,0.0006,F.cross_entropy,train_dl,valid_dl,accuracy)"
   ]
  },
  {
   "cell_type": "markdown",
   "metadata": {},
   "source": [
    "## Using 784 , 56 , 18 , 10 neural network with SGD got around 0.9705 accuracy  "
   ]
  },
  {
   "cell_type": "markdown",
   "metadata": {},
   "source": [
    "## using 784, 56 ,14, 10 neural network with SGD got around 0.9687"
   ]
  },
  {
   "cell_type": "markdown",
   "metadata": {},
   "source": [
    "## Using 784 , 100 , 10 , 10 neural network with SGD got around 0.9742"
   ]
  },
  {
   "cell_type": "markdown",
   "metadata": {},
   "source": [
    "## Using 784 , 49 , 16 , 10 neural network with SGD got around 0.9694"
   ]
  },
  {
   "cell_type": "markdown",
   "metadata": {},
   "source": [
    "## Using 784 , 64 , 49 , 10 neural network with SGD got around 0.9714"
   ]
  },
  {
   "cell_type": "code",
   "execution_count": null,
   "metadata": {},
   "outputs": [],
   "source": []
  }
 ],
 "metadata": {
  "kernelspec": {
   "display_name": "Python 3",
   "language": "python",
   "name": "python3"
  },
  "language_info": {
   "codemirror_mode": {
    "name": "ipython",
    "version": 3
   },
   "file_extension": ".py",
   "mimetype": "text/x-python",
   "name": "python",
   "nbconvert_exporter": "python",
   "pygments_lexer": "ipython3",
   "version": "3.8.5"
  }
 },
 "nbformat": 4,
 "nbformat_minor": 4
}
