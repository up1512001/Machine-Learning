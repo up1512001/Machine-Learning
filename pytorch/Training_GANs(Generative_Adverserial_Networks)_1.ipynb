{
  "nbformat": 4,
  "nbformat_minor": 0,
  "metadata": {
    "colab": {
      "name": "Training GANs(Generative Adverserial Networks) 1.ipynb",
      "provenance": [],
      "collapsed_sections": []
    },
    "kernelspec": {
      "name": "python3",
      "display_name": "Python 3"
    },
    "language_info": {
      "name": "python"
    },
    "accelerator": "GPU",
    "widgets": {
      "application/vnd.jupyter.widget-state+json": {
        "bd30a01f282f456cb4048decb1e8e56a": {
          "model_module": "@jupyter-widgets/controls",
          "model_name": "HBoxModel",
          "state": {
            "_view_name": "HBoxView",
            "_dom_classes": [],
            "_model_name": "HBoxModel",
            "_view_module": "@jupyter-widgets/controls",
            "_model_module_version": "1.5.0",
            "_view_count": null,
            "_view_module_version": "1.5.0",
            "box_style": "",
            "layout": "IPY_MODEL_9ba812aea2ff46b7acc59f24844605d6",
            "_model_module": "@jupyter-widgets/controls",
            "children": [
              "IPY_MODEL_8a57d7e473954c36b7b62561e88d8c7e",
              "IPY_MODEL_aad4843885df4e068a961093bc8127c4"
            ]
          }
        },
        "9ba812aea2ff46b7acc59f24844605d6": {
          "model_module": "@jupyter-widgets/base",
          "model_name": "LayoutModel",
          "state": {
            "_view_name": "LayoutView",
            "grid_template_rows": null,
            "right": null,
            "justify_content": null,
            "_view_module": "@jupyter-widgets/base",
            "overflow": null,
            "_model_module_version": "1.2.0",
            "_view_count": null,
            "flex_flow": null,
            "width": null,
            "min_width": null,
            "border": null,
            "align_items": null,
            "bottom": null,
            "_model_module": "@jupyter-widgets/base",
            "top": null,
            "grid_column": null,
            "overflow_y": null,
            "overflow_x": null,
            "grid_auto_flow": null,
            "grid_area": null,
            "grid_template_columns": null,
            "flex": null,
            "_model_name": "LayoutModel",
            "justify_items": null,
            "grid_row": null,
            "max_height": null,
            "align_content": null,
            "visibility": null,
            "align_self": null,
            "height": null,
            "min_height": null,
            "padding": null,
            "grid_auto_rows": null,
            "grid_gap": null,
            "max_width": null,
            "order": null,
            "_view_module_version": "1.2.0",
            "grid_template_areas": null,
            "object_position": null,
            "object_fit": null,
            "grid_auto_columns": null,
            "margin": null,
            "display": null,
            "left": null
          }
        },
        "8a57d7e473954c36b7b62561e88d8c7e": {
          "model_module": "@jupyter-widgets/controls",
          "model_name": "FloatProgressModel",
          "state": {
            "_view_name": "ProgressView",
            "style": "IPY_MODEL_e749d36464ac45afb0b0dd799b09df08",
            "_dom_classes": [],
            "description": "",
            "_model_name": "FloatProgressModel",
            "bar_style": "success",
            "max": 9912422,
            "_view_module": "@jupyter-widgets/controls",
            "_model_module_version": "1.5.0",
            "value": 9912422,
            "_view_count": null,
            "_view_module_version": "1.5.0",
            "orientation": "horizontal",
            "min": 0,
            "description_tooltip": null,
            "_model_module": "@jupyter-widgets/controls",
            "layout": "IPY_MODEL_0a2f2a0c7dab458ebc5bdd6bb0d71ca5"
          }
        },
        "aad4843885df4e068a961093bc8127c4": {
          "model_module": "@jupyter-widgets/controls",
          "model_name": "HTMLModel",
          "state": {
            "_view_name": "HTMLView",
            "style": "IPY_MODEL_b6148ab9688b4054ba8ab9cb0a7a8017",
            "_dom_classes": [],
            "description": "",
            "_model_name": "HTMLModel",
            "placeholder": "​",
            "_view_module": "@jupyter-widgets/controls",
            "_model_module_version": "1.5.0",
            "value": " 9913344/? [05:37&lt;00:00, 29380.92it/s]",
            "_view_count": null,
            "_view_module_version": "1.5.0",
            "description_tooltip": null,
            "_model_module": "@jupyter-widgets/controls",
            "layout": "IPY_MODEL_5a7720c52c8d4668b7fb329bbba51371"
          }
        },
        "e749d36464ac45afb0b0dd799b09df08": {
          "model_module": "@jupyter-widgets/controls",
          "model_name": "ProgressStyleModel",
          "state": {
            "_view_name": "StyleView",
            "_model_name": "ProgressStyleModel",
            "description_width": "initial",
            "_view_module": "@jupyter-widgets/base",
            "_model_module_version": "1.5.0",
            "_view_count": null,
            "_view_module_version": "1.2.0",
            "bar_color": null,
            "_model_module": "@jupyter-widgets/controls"
          }
        },
        "0a2f2a0c7dab458ebc5bdd6bb0d71ca5": {
          "model_module": "@jupyter-widgets/base",
          "model_name": "LayoutModel",
          "state": {
            "_view_name": "LayoutView",
            "grid_template_rows": null,
            "right": null,
            "justify_content": null,
            "_view_module": "@jupyter-widgets/base",
            "overflow": null,
            "_model_module_version": "1.2.0",
            "_view_count": null,
            "flex_flow": null,
            "width": null,
            "min_width": null,
            "border": null,
            "align_items": null,
            "bottom": null,
            "_model_module": "@jupyter-widgets/base",
            "top": null,
            "grid_column": null,
            "overflow_y": null,
            "overflow_x": null,
            "grid_auto_flow": null,
            "grid_area": null,
            "grid_template_columns": null,
            "flex": null,
            "_model_name": "LayoutModel",
            "justify_items": null,
            "grid_row": null,
            "max_height": null,
            "align_content": null,
            "visibility": null,
            "align_self": null,
            "height": null,
            "min_height": null,
            "padding": null,
            "grid_auto_rows": null,
            "grid_gap": null,
            "max_width": null,
            "order": null,
            "_view_module_version": "1.2.0",
            "grid_template_areas": null,
            "object_position": null,
            "object_fit": null,
            "grid_auto_columns": null,
            "margin": null,
            "display": null,
            "left": null
          }
        },
        "b6148ab9688b4054ba8ab9cb0a7a8017": {
          "model_module": "@jupyter-widgets/controls",
          "model_name": "DescriptionStyleModel",
          "state": {
            "_view_name": "StyleView",
            "_model_name": "DescriptionStyleModel",
            "description_width": "",
            "_view_module": "@jupyter-widgets/base",
            "_model_module_version": "1.5.0",
            "_view_count": null,
            "_view_module_version": "1.2.0",
            "_model_module": "@jupyter-widgets/controls"
          }
        },
        "5a7720c52c8d4668b7fb329bbba51371": {
          "model_module": "@jupyter-widgets/base",
          "model_name": "LayoutModel",
          "state": {
            "_view_name": "LayoutView",
            "grid_template_rows": null,
            "right": null,
            "justify_content": null,
            "_view_module": "@jupyter-widgets/base",
            "overflow": null,
            "_model_module_version": "1.2.0",
            "_view_count": null,
            "flex_flow": null,
            "width": null,
            "min_width": null,
            "border": null,
            "align_items": null,
            "bottom": null,
            "_model_module": "@jupyter-widgets/base",
            "top": null,
            "grid_column": null,
            "overflow_y": null,
            "overflow_x": null,
            "grid_auto_flow": null,
            "grid_area": null,
            "grid_template_columns": null,
            "flex": null,
            "_model_name": "LayoutModel",
            "justify_items": null,
            "grid_row": null,
            "max_height": null,
            "align_content": null,
            "visibility": null,
            "align_self": null,
            "height": null,
            "min_height": null,
            "padding": null,
            "grid_auto_rows": null,
            "grid_gap": null,
            "max_width": null,
            "order": null,
            "_view_module_version": "1.2.0",
            "grid_template_areas": null,
            "object_position": null,
            "object_fit": null,
            "grid_auto_columns": null,
            "margin": null,
            "display": null,
            "left": null
          }
        },
        "ed630c35ca5a4d52aacb0b8858269c8d": {
          "model_module": "@jupyter-widgets/controls",
          "model_name": "HBoxModel",
          "state": {
            "_view_name": "HBoxView",
            "_dom_classes": [],
            "_model_name": "HBoxModel",
            "_view_module": "@jupyter-widgets/controls",
            "_model_module_version": "1.5.0",
            "_view_count": null,
            "_view_module_version": "1.5.0",
            "box_style": "",
            "layout": "IPY_MODEL_69d904e834f84fb18d8c79b3890b5797",
            "_model_module": "@jupyter-widgets/controls",
            "children": [
              "IPY_MODEL_eba51773bed348c788b249ca14aad23a",
              "IPY_MODEL_506c5adb8a3246dd8eaa9ce52419b5a9"
            ]
          }
        },
        "69d904e834f84fb18d8c79b3890b5797": {
          "model_module": "@jupyter-widgets/base",
          "model_name": "LayoutModel",
          "state": {
            "_view_name": "LayoutView",
            "grid_template_rows": null,
            "right": null,
            "justify_content": null,
            "_view_module": "@jupyter-widgets/base",
            "overflow": null,
            "_model_module_version": "1.2.0",
            "_view_count": null,
            "flex_flow": null,
            "width": null,
            "min_width": null,
            "border": null,
            "align_items": null,
            "bottom": null,
            "_model_module": "@jupyter-widgets/base",
            "top": null,
            "grid_column": null,
            "overflow_y": null,
            "overflow_x": null,
            "grid_auto_flow": null,
            "grid_area": null,
            "grid_template_columns": null,
            "flex": null,
            "_model_name": "LayoutModel",
            "justify_items": null,
            "grid_row": null,
            "max_height": null,
            "align_content": null,
            "visibility": null,
            "align_self": null,
            "height": null,
            "min_height": null,
            "padding": null,
            "grid_auto_rows": null,
            "grid_gap": null,
            "max_width": null,
            "order": null,
            "_view_module_version": "1.2.0",
            "grid_template_areas": null,
            "object_position": null,
            "object_fit": null,
            "grid_auto_columns": null,
            "margin": null,
            "display": null,
            "left": null
          }
        },
        "eba51773bed348c788b249ca14aad23a": {
          "model_module": "@jupyter-widgets/controls",
          "model_name": "FloatProgressModel",
          "state": {
            "_view_name": "ProgressView",
            "style": "IPY_MODEL_84197af3ae904feca3b05641c68d67f9",
            "_dom_classes": [],
            "description": "",
            "_model_name": "FloatProgressModel",
            "bar_style": "success",
            "max": 28881,
            "_view_module": "@jupyter-widgets/controls",
            "_model_module_version": "1.5.0",
            "value": 28881,
            "_view_count": null,
            "_view_module_version": "1.5.0",
            "orientation": "horizontal",
            "min": 0,
            "description_tooltip": null,
            "_model_module": "@jupyter-widgets/controls",
            "layout": "IPY_MODEL_c870996db3584016a9c0fca831311efa"
          }
        },
        "506c5adb8a3246dd8eaa9ce52419b5a9": {
          "model_module": "@jupyter-widgets/controls",
          "model_name": "HTMLModel",
          "state": {
            "_view_name": "HTMLView",
            "style": "IPY_MODEL_42f620fa39c04cfd83fa0290468c810a",
            "_dom_classes": [],
            "description": "",
            "_model_name": "HTMLModel",
            "placeholder": "​",
            "_view_module": "@jupyter-widgets/controls",
            "_model_module_version": "1.5.0",
            "value": " 29696/? [00:47&lt;00:00, 622.62it/s]",
            "_view_count": null,
            "_view_module_version": "1.5.0",
            "description_tooltip": null,
            "_model_module": "@jupyter-widgets/controls",
            "layout": "IPY_MODEL_1ad42c3e53ea435ea3068ffe25cdfcad"
          }
        },
        "84197af3ae904feca3b05641c68d67f9": {
          "model_module": "@jupyter-widgets/controls",
          "model_name": "ProgressStyleModel",
          "state": {
            "_view_name": "StyleView",
            "_model_name": "ProgressStyleModel",
            "description_width": "initial",
            "_view_module": "@jupyter-widgets/base",
            "_model_module_version": "1.5.0",
            "_view_count": null,
            "_view_module_version": "1.2.0",
            "bar_color": null,
            "_model_module": "@jupyter-widgets/controls"
          }
        },
        "c870996db3584016a9c0fca831311efa": {
          "model_module": "@jupyter-widgets/base",
          "model_name": "LayoutModel",
          "state": {
            "_view_name": "LayoutView",
            "grid_template_rows": null,
            "right": null,
            "justify_content": null,
            "_view_module": "@jupyter-widgets/base",
            "overflow": null,
            "_model_module_version": "1.2.0",
            "_view_count": null,
            "flex_flow": null,
            "width": null,
            "min_width": null,
            "border": null,
            "align_items": null,
            "bottom": null,
            "_model_module": "@jupyter-widgets/base",
            "top": null,
            "grid_column": null,
            "overflow_y": null,
            "overflow_x": null,
            "grid_auto_flow": null,
            "grid_area": null,
            "grid_template_columns": null,
            "flex": null,
            "_model_name": "LayoutModel",
            "justify_items": null,
            "grid_row": null,
            "max_height": null,
            "align_content": null,
            "visibility": null,
            "align_self": null,
            "height": null,
            "min_height": null,
            "padding": null,
            "grid_auto_rows": null,
            "grid_gap": null,
            "max_width": null,
            "order": null,
            "_view_module_version": "1.2.0",
            "grid_template_areas": null,
            "object_position": null,
            "object_fit": null,
            "grid_auto_columns": null,
            "margin": null,
            "display": null,
            "left": null
          }
        },
        "42f620fa39c04cfd83fa0290468c810a": {
          "model_module": "@jupyter-widgets/controls",
          "model_name": "DescriptionStyleModel",
          "state": {
            "_view_name": "StyleView",
            "_model_name": "DescriptionStyleModel",
            "description_width": "",
            "_view_module": "@jupyter-widgets/base",
            "_model_module_version": "1.5.0",
            "_view_count": null,
            "_view_module_version": "1.2.0",
            "_model_module": "@jupyter-widgets/controls"
          }
        },
        "1ad42c3e53ea435ea3068ffe25cdfcad": {
          "model_module": "@jupyter-widgets/base",
          "model_name": "LayoutModel",
          "state": {
            "_view_name": "LayoutView",
            "grid_template_rows": null,
            "right": null,
            "justify_content": null,
            "_view_module": "@jupyter-widgets/base",
            "overflow": null,
            "_model_module_version": "1.2.0",
            "_view_count": null,
            "flex_flow": null,
            "width": null,
            "min_width": null,
            "border": null,
            "align_items": null,
            "bottom": null,
            "_model_module": "@jupyter-widgets/base",
            "top": null,
            "grid_column": null,
            "overflow_y": null,
            "overflow_x": null,
            "grid_auto_flow": null,
            "grid_area": null,
            "grid_template_columns": null,
            "flex": null,
            "_model_name": "LayoutModel",
            "justify_items": null,
            "grid_row": null,
            "max_height": null,
            "align_content": null,
            "visibility": null,
            "align_self": null,
            "height": null,
            "min_height": null,
            "padding": null,
            "grid_auto_rows": null,
            "grid_gap": null,
            "max_width": null,
            "order": null,
            "_view_module_version": "1.2.0",
            "grid_template_areas": null,
            "object_position": null,
            "object_fit": null,
            "grid_auto_columns": null,
            "margin": null,
            "display": null,
            "left": null
          }
        },
        "a9a541e5f6ce4a40ab3378ce9c11595e": {
          "model_module": "@jupyter-widgets/controls",
          "model_name": "HBoxModel",
          "state": {
            "_view_name": "HBoxView",
            "_dom_classes": [],
            "_model_name": "HBoxModel",
            "_view_module": "@jupyter-widgets/controls",
            "_model_module_version": "1.5.0",
            "_view_count": null,
            "_view_module_version": "1.5.0",
            "box_style": "",
            "layout": "IPY_MODEL_1a04be07aad841f8875c36a38d82f433",
            "_model_module": "@jupyter-widgets/controls",
            "children": [
              "IPY_MODEL_517efb294482454ea2de2313580772f9",
              "IPY_MODEL_127e76bb37114823818b4d9c129c8370"
            ]
          }
        },
        "1a04be07aad841f8875c36a38d82f433": {
          "model_module": "@jupyter-widgets/base",
          "model_name": "LayoutModel",
          "state": {
            "_view_name": "LayoutView",
            "grid_template_rows": null,
            "right": null,
            "justify_content": null,
            "_view_module": "@jupyter-widgets/base",
            "overflow": null,
            "_model_module_version": "1.2.0",
            "_view_count": null,
            "flex_flow": null,
            "width": null,
            "min_width": null,
            "border": null,
            "align_items": null,
            "bottom": null,
            "_model_module": "@jupyter-widgets/base",
            "top": null,
            "grid_column": null,
            "overflow_y": null,
            "overflow_x": null,
            "grid_auto_flow": null,
            "grid_area": null,
            "grid_template_columns": null,
            "flex": null,
            "_model_name": "LayoutModel",
            "justify_items": null,
            "grid_row": null,
            "max_height": null,
            "align_content": null,
            "visibility": null,
            "align_self": null,
            "height": null,
            "min_height": null,
            "padding": null,
            "grid_auto_rows": null,
            "grid_gap": null,
            "max_width": null,
            "order": null,
            "_view_module_version": "1.2.0",
            "grid_template_areas": null,
            "object_position": null,
            "object_fit": null,
            "grid_auto_columns": null,
            "margin": null,
            "display": null,
            "left": null
          }
        },
        "517efb294482454ea2de2313580772f9": {
          "model_module": "@jupyter-widgets/controls",
          "model_name": "FloatProgressModel",
          "state": {
            "_view_name": "ProgressView",
            "style": "IPY_MODEL_110c1722e8f14711a0594784a2cdec3d",
            "_dom_classes": [],
            "description": "",
            "_model_name": "FloatProgressModel",
            "bar_style": "success",
            "max": 1648877,
            "_view_module": "@jupyter-widgets/controls",
            "_model_module_version": "1.5.0",
            "value": 1648877,
            "_view_count": null,
            "_view_module_version": "1.5.0",
            "orientation": "horizontal",
            "min": 0,
            "description_tooltip": null,
            "_model_module": "@jupyter-widgets/controls",
            "layout": "IPY_MODEL_3d38df05596a4b4ea49b890923b5a8c3"
          }
        },
        "127e76bb37114823818b4d9c129c8370": {
          "model_module": "@jupyter-widgets/controls",
          "model_name": "HTMLModel",
          "state": {
            "_view_name": "HTMLView",
            "style": "IPY_MODEL_4b7c5faa029d4bf6bde80869813ba9bb",
            "_dom_classes": [],
            "description": "",
            "_model_name": "HTMLModel",
            "placeholder": "​",
            "_view_module": "@jupyter-widgets/controls",
            "_model_module_version": "1.5.0",
            "value": " 1649664/? [00:47&lt;00:00, 34689.13it/s]",
            "_view_count": null,
            "_view_module_version": "1.5.0",
            "description_tooltip": null,
            "_model_module": "@jupyter-widgets/controls",
            "layout": "IPY_MODEL_4fbf95e44a43424fa02d4bb5d5fb4573"
          }
        },
        "110c1722e8f14711a0594784a2cdec3d": {
          "model_module": "@jupyter-widgets/controls",
          "model_name": "ProgressStyleModel",
          "state": {
            "_view_name": "StyleView",
            "_model_name": "ProgressStyleModel",
            "description_width": "initial",
            "_view_module": "@jupyter-widgets/base",
            "_model_module_version": "1.5.0",
            "_view_count": null,
            "_view_module_version": "1.2.0",
            "bar_color": null,
            "_model_module": "@jupyter-widgets/controls"
          }
        },
        "3d38df05596a4b4ea49b890923b5a8c3": {
          "model_module": "@jupyter-widgets/base",
          "model_name": "LayoutModel",
          "state": {
            "_view_name": "LayoutView",
            "grid_template_rows": null,
            "right": null,
            "justify_content": null,
            "_view_module": "@jupyter-widgets/base",
            "overflow": null,
            "_model_module_version": "1.2.0",
            "_view_count": null,
            "flex_flow": null,
            "width": null,
            "min_width": null,
            "border": null,
            "align_items": null,
            "bottom": null,
            "_model_module": "@jupyter-widgets/base",
            "top": null,
            "grid_column": null,
            "overflow_y": null,
            "overflow_x": null,
            "grid_auto_flow": null,
            "grid_area": null,
            "grid_template_columns": null,
            "flex": null,
            "_model_name": "LayoutModel",
            "justify_items": null,
            "grid_row": null,
            "max_height": null,
            "align_content": null,
            "visibility": null,
            "align_self": null,
            "height": null,
            "min_height": null,
            "padding": null,
            "grid_auto_rows": null,
            "grid_gap": null,
            "max_width": null,
            "order": null,
            "_view_module_version": "1.2.0",
            "grid_template_areas": null,
            "object_position": null,
            "object_fit": null,
            "grid_auto_columns": null,
            "margin": null,
            "display": null,
            "left": null
          }
        },
        "4b7c5faa029d4bf6bde80869813ba9bb": {
          "model_module": "@jupyter-widgets/controls",
          "model_name": "DescriptionStyleModel",
          "state": {
            "_view_name": "StyleView",
            "_model_name": "DescriptionStyleModel",
            "description_width": "",
            "_view_module": "@jupyter-widgets/base",
            "_model_module_version": "1.5.0",
            "_view_count": null,
            "_view_module_version": "1.2.0",
            "_model_module": "@jupyter-widgets/controls"
          }
        },
        "4fbf95e44a43424fa02d4bb5d5fb4573": {
          "model_module": "@jupyter-widgets/base",
          "model_name": "LayoutModel",
          "state": {
            "_view_name": "LayoutView",
            "grid_template_rows": null,
            "right": null,
            "justify_content": null,
            "_view_module": "@jupyter-widgets/base",
            "overflow": null,
            "_model_module_version": "1.2.0",
            "_view_count": null,
            "flex_flow": null,
            "width": null,
            "min_width": null,
            "border": null,
            "align_items": null,
            "bottom": null,
            "_model_module": "@jupyter-widgets/base",
            "top": null,
            "grid_column": null,
            "overflow_y": null,
            "overflow_x": null,
            "grid_auto_flow": null,
            "grid_area": null,
            "grid_template_columns": null,
            "flex": null,
            "_model_name": "LayoutModel",
            "justify_items": null,
            "grid_row": null,
            "max_height": null,
            "align_content": null,
            "visibility": null,
            "align_self": null,
            "height": null,
            "min_height": null,
            "padding": null,
            "grid_auto_rows": null,
            "grid_gap": null,
            "max_width": null,
            "order": null,
            "_view_module_version": "1.2.0",
            "grid_template_areas": null,
            "object_position": null,
            "object_fit": null,
            "grid_auto_columns": null,
            "margin": null,
            "display": null,
            "left": null
          }
        },
        "7bbb6a93ec6c4939be915fc4384cbde2": {
          "model_module": "@jupyter-widgets/controls",
          "model_name": "HBoxModel",
          "state": {
            "_view_name": "HBoxView",
            "_dom_classes": [],
            "_model_name": "HBoxModel",
            "_view_module": "@jupyter-widgets/controls",
            "_model_module_version": "1.5.0",
            "_view_count": null,
            "_view_module_version": "1.5.0",
            "box_style": "",
            "layout": "IPY_MODEL_3faeb0ebdc8c4db281b1d64017ae00ce",
            "_model_module": "@jupyter-widgets/controls",
            "children": [
              "IPY_MODEL_c5f9b9161dda47ffb0ff2b970cdb5636",
              "IPY_MODEL_5813eed2878b49a1889482a0c4929c46"
            ]
          }
        },
        "3faeb0ebdc8c4db281b1d64017ae00ce": {
          "model_module": "@jupyter-widgets/base",
          "model_name": "LayoutModel",
          "state": {
            "_view_name": "LayoutView",
            "grid_template_rows": null,
            "right": null,
            "justify_content": null,
            "_view_module": "@jupyter-widgets/base",
            "overflow": null,
            "_model_module_version": "1.2.0",
            "_view_count": null,
            "flex_flow": null,
            "width": null,
            "min_width": null,
            "border": null,
            "align_items": null,
            "bottom": null,
            "_model_module": "@jupyter-widgets/base",
            "top": null,
            "grid_column": null,
            "overflow_y": null,
            "overflow_x": null,
            "grid_auto_flow": null,
            "grid_area": null,
            "grid_template_columns": null,
            "flex": null,
            "_model_name": "LayoutModel",
            "justify_items": null,
            "grid_row": null,
            "max_height": null,
            "align_content": null,
            "visibility": null,
            "align_self": null,
            "height": null,
            "min_height": null,
            "padding": null,
            "grid_auto_rows": null,
            "grid_gap": null,
            "max_width": null,
            "order": null,
            "_view_module_version": "1.2.0",
            "grid_template_areas": null,
            "object_position": null,
            "object_fit": null,
            "grid_auto_columns": null,
            "margin": null,
            "display": null,
            "left": null
          }
        },
        "c5f9b9161dda47ffb0ff2b970cdb5636": {
          "model_module": "@jupyter-widgets/controls",
          "model_name": "FloatProgressModel",
          "state": {
            "_view_name": "ProgressView",
            "style": "IPY_MODEL_b22282ec648a4fa0800d1a403034e356",
            "_dom_classes": [],
            "description": "",
            "_model_name": "FloatProgressModel",
            "bar_style": "success",
            "max": 4542,
            "_view_module": "@jupyter-widgets/controls",
            "_model_module_version": "1.5.0",
            "value": 4542,
            "_view_count": null,
            "_view_module_version": "1.5.0",
            "orientation": "horizontal",
            "min": 0,
            "description_tooltip": null,
            "_model_module": "@jupyter-widgets/controls",
            "layout": "IPY_MODEL_67704faa608944159ed6c69c43d2432a"
          }
        },
        "5813eed2878b49a1889482a0c4929c46": {
          "model_module": "@jupyter-widgets/controls",
          "model_name": "HTMLModel",
          "state": {
            "_view_name": "HTMLView",
            "style": "IPY_MODEL_52b0932db99540e989fcccfe756f6af4",
            "_dom_classes": [],
            "description": "",
            "_model_name": "HTMLModel",
            "placeholder": "​",
            "_view_module": "@jupyter-widgets/controls",
            "_model_module_version": "1.5.0",
            "value": " 5120/? [00:00&lt;00:00, 16175.65it/s]",
            "_view_count": null,
            "_view_module_version": "1.5.0",
            "description_tooltip": null,
            "_model_module": "@jupyter-widgets/controls",
            "layout": "IPY_MODEL_e286e15f55a846cdba86da1f94f2ec22"
          }
        },
        "b22282ec648a4fa0800d1a403034e356": {
          "model_module": "@jupyter-widgets/controls",
          "model_name": "ProgressStyleModel",
          "state": {
            "_view_name": "StyleView",
            "_model_name": "ProgressStyleModel",
            "description_width": "initial",
            "_view_module": "@jupyter-widgets/base",
            "_model_module_version": "1.5.0",
            "_view_count": null,
            "_view_module_version": "1.2.0",
            "bar_color": null,
            "_model_module": "@jupyter-widgets/controls"
          }
        },
        "67704faa608944159ed6c69c43d2432a": {
          "model_module": "@jupyter-widgets/base",
          "model_name": "LayoutModel",
          "state": {
            "_view_name": "LayoutView",
            "grid_template_rows": null,
            "right": null,
            "justify_content": null,
            "_view_module": "@jupyter-widgets/base",
            "overflow": null,
            "_model_module_version": "1.2.0",
            "_view_count": null,
            "flex_flow": null,
            "width": null,
            "min_width": null,
            "border": null,
            "align_items": null,
            "bottom": null,
            "_model_module": "@jupyter-widgets/base",
            "top": null,
            "grid_column": null,
            "overflow_y": null,
            "overflow_x": null,
            "grid_auto_flow": null,
            "grid_area": null,
            "grid_template_columns": null,
            "flex": null,
            "_model_name": "LayoutModel",
            "justify_items": null,
            "grid_row": null,
            "max_height": null,
            "align_content": null,
            "visibility": null,
            "align_self": null,
            "height": null,
            "min_height": null,
            "padding": null,
            "grid_auto_rows": null,
            "grid_gap": null,
            "max_width": null,
            "order": null,
            "_view_module_version": "1.2.0",
            "grid_template_areas": null,
            "object_position": null,
            "object_fit": null,
            "grid_auto_columns": null,
            "margin": null,
            "display": null,
            "left": null
          }
        },
        "52b0932db99540e989fcccfe756f6af4": {
          "model_module": "@jupyter-widgets/controls",
          "model_name": "DescriptionStyleModel",
          "state": {
            "_view_name": "StyleView",
            "_model_name": "DescriptionStyleModel",
            "description_width": "",
            "_view_module": "@jupyter-widgets/base",
            "_model_module_version": "1.5.0",
            "_view_count": null,
            "_view_module_version": "1.2.0",
            "_model_module": "@jupyter-widgets/controls"
          }
        },
        "e286e15f55a846cdba86da1f94f2ec22": {
          "model_module": "@jupyter-widgets/base",
          "model_name": "LayoutModel",
          "state": {
            "_view_name": "LayoutView",
            "grid_template_rows": null,
            "right": null,
            "justify_content": null,
            "_view_module": "@jupyter-widgets/base",
            "overflow": null,
            "_model_module_version": "1.2.0",
            "_view_count": null,
            "flex_flow": null,
            "width": null,
            "min_width": null,
            "border": null,
            "align_items": null,
            "bottom": null,
            "_model_module": "@jupyter-widgets/base",
            "top": null,
            "grid_column": null,
            "overflow_y": null,
            "overflow_x": null,
            "grid_auto_flow": null,
            "grid_area": null,
            "grid_template_columns": null,
            "flex": null,
            "_model_name": "LayoutModel",
            "justify_items": null,
            "grid_row": null,
            "max_height": null,
            "align_content": null,
            "visibility": null,
            "align_self": null,
            "height": null,
            "min_height": null,
            "padding": null,
            "grid_auto_rows": null,
            "grid_gap": null,
            "max_width": null,
            "order": null,
            "_view_module_version": "1.2.0",
            "grid_template_areas": null,
            "object_position": null,
            "object_fit": null,
            "grid_auto_columns": null,
            "margin": null,
            "display": null,
            "left": null
          }
        }
      }
    }
  },
  "cells": [
    {
      "cell_type": "markdown",
      "metadata": {
        "id": "HGxwftKo4NMJ"
      },
      "source": [
        "**Generative Adverserial Networks**"
      ]
    },
    {
      "cell_type": "code",
      "metadata": {
        "id": "CSmiuI7K4z-k"
      },
      "source": [
        "import os\n",
        "import torch\n",
        "import torchvision\n",
        "from torchvision.transforms import Compose , ToTensor , Normalize\n",
        "from torchvision.datasets import MNIST"
      ],
      "execution_count": 2,
      "outputs": []
    },
    {
      "cell_type": "code",
      "metadata": {
        "colab": {
          "base_uri": "https://localhost:8080/",
          "height": 591,
          "referenced_widgets": [
            "bd30a01f282f456cb4048decb1e8e56a",
            "9ba812aea2ff46b7acc59f24844605d6",
            "8a57d7e473954c36b7b62561e88d8c7e",
            "aad4843885df4e068a961093bc8127c4",
            "e749d36464ac45afb0b0dd799b09df08",
            "0a2f2a0c7dab458ebc5bdd6bb0d71ca5",
            "b6148ab9688b4054ba8ab9cb0a7a8017",
            "5a7720c52c8d4668b7fb329bbba51371",
            "ed630c35ca5a4d52aacb0b8858269c8d",
            "69d904e834f84fb18d8c79b3890b5797",
            "eba51773bed348c788b249ca14aad23a",
            "506c5adb8a3246dd8eaa9ce52419b5a9",
            "84197af3ae904feca3b05641c68d67f9",
            "c870996db3584016a9c0fca831311efa",
            "42f620fa39c04cfd83fa0290468c810a",
            "1ad42c3e53ea435ea3068ffe25cdfcad",
            "a9a541e5f6ce4a40ab3378ce9c11595e",
            "1a04be07aad841f8875c36a38d82f433",
            "517efb294482454ea2de2313580772f9",
            "127e76bb37114823818b4d9c129c8370",
            "110c1722e8f14711a0594784a2cdec3d",
            "3d38df05596a4b4ea49b890923b5a8c3",
            "4b7c5faa029d4bf6bde80869813ba9bb",
            "4fbf95e44a43424fa02d4bb5d5fb4573",
            "7bbb6a93ec6c4939be915fc4384cbde2",
            "3faeb0ebdc8c4db281b1d64017ae00ce",
            "c5f9b9161dda47ffb0ff2b970cdb5636",
            "5813eed2878b49a1889482a0c4929c46",
            "b22282ec648a4fa0800d1a403034e356",
            "67704faa608944159ed6c69c43d2432a",
            "52b0932db99540e989fcccfe756f6af4",
            "e286e15f55a846cdba86da1f94f2ec22"
          ]
        },
        "id": "xTo9evjG40YO",
        "outputId": "48d6ec25-07a4-40b8-e8d7-1f1a3592b355"
      },
      "source": [
        "mnist = MNIST(root='data',\n",
        "              train=True,\n",
        "              download=True,\n",
        "              transform=Compose([ToTensor(),Normalize(mean=(0.5),std=(0.5))]))"
      ],
      "execution_count": 3,
      "outputs": [
        {
          "output_type": "stream",
          "text": [
            "Downloading http://yann.lecun.com/exdb/mnist/train-images-idx3-ubyte.gz\n",
            "Downloading http://yann.lecun.com/exdb/mnist/train-images-idx3-ubyte.gz to data/MNIST/raw/train-images-idx3-ubyte.gz\n"
          ],
          "name": "stdout"
        },
        {
          "output_type": "display_data",
          "data": {
            "application/vnd.jupyter.widget-view+json": {
              "model_id": "bd30a01f282f456cb4048decb1e8e56a",
              "version_minor": 0,
              "version_major": 2
            },
            "text/plain": [
              "HBox(children=(FloatProgress(value=0.0, max=9912422.0), HTML(value='')))"
            ]
          },
          "metadata": {
            "tags": []
          }
        },
        {
          "output_type": "stream",
          "text": [
            "\n",
            "Extracting data/MNIST/raw/train-images-idx3-ubyte.gz to data/MNIST/raw\n",
            "\n",
            "Downloading http://yann.lecun.com/exdb/mnist/train-labels-idx1-ubyte.gz\n",
            "Downloading http://yann.lecun.com/exdb/mnist/train-labels-idx1-ubyte.gz to data/MNIST/raw/train-labels-idx1-ubyte.gz\n"
          ],
          "name": "stdout"
        },
        {
          "output_type": "display_data",
          "data": {
            "application/vnd.jupyter.widget-view+json": {
              "model_id": "ed630c35ca5a4d52aacb0b8858269c8d",
              "version_minor": 0,
              "version_major": 2
            },
            "text/plain": [
              "HBox(children=(FloatProgress(value=0.0, max=28881.0), HTML(value='')))"
            ]
          },
          "metadata": {
            "tags": []
          }
        },
        {
          "output_type": "stream",
          "text": [
            "\n",
            "Extracting data/MNIST/raw/train-labels-idx1-ubyte.gz to data/MNIST/raw\n",
            "\n",
            "Downloading http://yann.lecun.com/exdb/mnist/t10k-images-idx3-ubyte.gz\n",
            "Downloading http://yann.lecun.com/exdb/mnist/t10k-images-idx3-ubyte.gz to data/MNIST/raw/t10k-images-idx3-ubyte.gz\n"
          ],
          "name": "stdout"
        },
        {
          "output_type": "display_data",
          "data": {
            "application/vnd.jupyter.widget-view+json": {
              "model_id": "a9a541e5f6ce4a40ab3378ce9c11595e",
              "version_minor": 0,
              "version_major": 2
            },
            "text/plain": [
              "HBox(children=(FloatProgress(value=0.0, max=1648877.0), HTML(value='')))"
            ]
          },
          "metadata": {
            "tags": []
          }
        },
        {
          "output_type": "stream",
          "text": [
            "\n",
            "Extracting data/MNIST/raw/t10k-images-idx3-ubyte.gz to data/MNIST/raw\n",
            "\n",
            "Downloading http://yann.lecun.com/exdb/mnist/t10k-labels-idx1-ubyte.gz\n",
            "Downloading http://yann.lecun.com/exdb/mnist/t10k-labels-idx1-ubyte.gz to data/MNIST/raw/t10k-labels-idx1-ubyte.gz\n"
          ],
          "name": "stdout"
        },
        {
          "output_type": "display_data",
          "data": {
            "application/vnd.jupyter.widget-view+json": {
              "model_id": "7bbb6a93ec6c4939be915fc4384cbde2",
              "version_minor": 0,
              "version_major": 2
            },
            "text/plain": [
              "HBox(children=(FloatProgress(value=0.0, max=4542.0), HTML(value='')))"
            ]
          },
          "metadata": {
            "tags": []
          }
        },
        {
          "output_type": "stream",
          "text": [
            "\n",
            "Extracting data/MNIST/raw/t10k-labels-idx1-ubyte.gz to data/MNIST/raw\n",
            "\n",
            "Processing...\n",
            "Done!\n"
          ],
          "name": "stdout"
        },
        {
          "output_type": "stream",
          "text": [
            "/usr/local/lib/python3.7/dist-packages/torchvision/datasets/mnist.py:502: UserWarning: The given NumPy array is not writeable, and PyTorch does not support non-writeable tensors. This means you can write to the underlying (supposedly non-writeable) NumPy array using the tensor. You may want to copy the array to protect its data or make it writeable before converting it to a tensor. This type of warning will be suppressed for the rest of this program. (Triggered internally at  /pytorch/torch/csrc/utils/tensor_numpy.cpp:143.)\n",
            "  return torch.from_numpy(parsed.astype(m[2], copy=False)).view(*s)\n"
          ],
          "name": "stderr"
        }
      ]
    },
    {
      "cell_type": "code",
      "metadata": {
        "colab": {
          "base_uri": "https://localhost:8080/"
        },
        "id": "NZb86lHJ40aA",
        "outputId": "319d6f83-f373-4552-8805-a3abde78cc1b"
      },
      "source": [
        "img , label = mnist[0]\n",
        "print('Label :',label)\n",
        "print(img[:,10:15,10:16])\n",
        "torch.min(img),torch.max(img)"
      ],
      "execution_count": 4,
      "outputs": [
        {
          "output_type": "stream",
          "text": [
            "Label : 5\n",
            "tensor([[[-0.9922,  0.2078,  0.9843, -0.2941, -1.0000, -1.0000],\n",
            "         [-1.0000,  0.0902,  0.9843,  0.4902, -0.9843, -1.0000],\n",
            "         [-1.0000, -0.9137,  0.4902,  0.9843, -0.4510, -1.0000],\n",
            "         [-1.0000, -1.0000, -0.7255,  0.8902,  0.7647,  0.2549],\n",
            "         [-1.0000, -1.0000, -1.0000, -0.3647,  0.8824,  0.9843]]])\n"
          ],
          "name": "stdout"
        },
        {
          "output_type": "execute_result",
          "data": {
            "text/plain": [
              "(tensor(-1.), tensor(1.))"
            ]
          },
          "metadata": {
            "tags": []
          },
          "execution_count": 4
        }
      ]
    },
    {
      "cell_type": "code",
      "metadata": {
        "id": "hKo-QtKo40eK"
      },
      "source": [
        "def denorm(x):\n",
        "  out = (x+1)/2\n",
        "  return out.clamp(0,1)"
      ],
      "execution_count": 5,
      "outputs": []
    },
    {
      "cell_type": "code",
      "metadata": {
        "id": "TkRlUoGZ40gq"
      },
      "source": [
        "import matplotlib.pyplot as plt\n",
        "%matplotlib inline"
      ],
      "execution_count": 6,
      "outputs": []
    },
    {
      "cell_type": "code",
      "metadata": {
        "colab": {
          "base_uri": "https://localhost:8080/",
          "height": 282
        },
        "id": "Hm4KMI2v40l3",
        "outputId": "1885179d-eb7a-40a0-e774-23b3500a08aa"
      },
      "source": [
        "img_norm = denorm(img)\n",
        "plt.imshow(img_norm[0],cmap='gray')\n",
        "print('Label :',label)"
      ],
      "execution_count": 7,
      "outputs": [
        {
          "output_type": "stream",
          "text": [
            "Label : 5\n"
          ],
          "name": "stdout"
        },
        {
          "output_type": "display_data",
          "data": {
            "image/png": "[encoded data removed]",
            "text/plain": [
              "<Figure size 432x288 with 1 Axes>"
            ]
          },
          "metadata": {
            "tags": [],
            "needs_background": "light"
          }
        }
      ]
    },
    {
      "cell_type": "code",
      "metadata": {
        "id": "wfk1pxkM40nk"
      },
      "source": [
        "from torch.utils.data import DataLoader\n",
        "\n",
        "batch_size = 100\n",
        "data_loader = DataLoader(mnist,batch_size,shuffle=True)"
      ],
      "execution_count": 8,
      "outputs": []
    },
    {
      "cell_type": "code",
      "metadata": {
        "colab": {
          "base_uri": "https://localhost:8080/",
          "height": 388
        },
        "id": "tiY4VK3140sB",
        "outputId": "b21c3d08-b76c-4556-8fcb-013af9bfcdf8"
      },
      "source": [
        "for img_batch,label_batch in data_loader:\n",
        "  print('first batch:')\n",
        "  print(img_batch.shape)\n",
        "  plt.imshow(img_batch[0][0],cmap='gray')\n",
        "  print(label_batch)\n",
        "  break"
      ],
      "execution_count": 9,
      "outputs": [
        {
          "output_type": "stream",
          "text": [
            "first batch:\n",
            "torch.Size([100, 1, 28, 28])\n",
            "tensor([4, 5, 7, 0, 7, 2, 0, 3, 6, 2, 0, 9, 5, 5, 1, 2, 8, 9, 4, 4, 6, 9, 6, 1,\n",
            "        9, 6, 4, 0, 4, 0, 2, 0, 5, 5, 8, 7, 8, 8, 3, 8, 6, 5, 5, 6, 0, 9, 5, 5,\n",
            "        8, 1, 7, 4, 8, 5, 9, 9, 1, 0, 5, 7, 0, 9, 3, 2, 4, 1, 0, 4, 7, 0, 9, 6,\n",
            "        5, 1, 4, 6, 6, 4, 6, 0, 1, 4, 2, 7, 0, 9, 5, 6, 1, 7, 9, 1, 1, 6, 3, 0,\n",
            "        1, 1, 6, 7])\n"
          ],
          "name": "stdout"
        },
        {
          "output_type": "display_data",
          "data": {
            "image/png": "[encoded data removed]",
            "text/plain": [
              "<Figure size 432x288 with 1 Axes>"
            ]
          },
          "metadata": {
            "tags": [],
            "needs_background": "light"
          }
        }
      ]
    },
    {
      "cell_type": "code",
      "metadata": {
        "colab": {
          "base_uri": "https://localhost:8080/"
        },
        "id": "jLemERhC40tx",
        "outputId": "e581b491-1005-4f70-9cb1-8a27582db8f7"
      },
      "source": [
        "# device configuration\n",
        "\n",
        "device = torch.device('cuda' if torch.cuda.is_available() else 'cpu')\n",
        "device"
      ],
      "execution_count": 10,
      "outputs": [
        {
          "output_type": "execute_result",
          "data": {
            "text/plain": [
              "device(type='cuda')"
            ]
          },
          "metadata": {
            "tags": []
          },
          "execution_count": 10
        }
      ]
    },
    {
      "cell_type": "code",
      "metadata": {
        "id": "8GWq6ivH40yB"
      },
      "source": [
        "# determining image size and hidden layer size\n",
        "\n",
        "image_size = 784\n",
        "hidden_size = 256"
      ],
      "execution_count": 11,
      "outputs": []
    },
    {
      "cell_type": "markdown",
      "metadata": {
        "id": "n63EeuBOJmhG"
      },
      "source": [
        "Descriminator"
      ]
    },
    {
      "cell_type": "code",
      "metadata": {
        "id": "YUfRJlL8400a"
      },
      "source": [
        "import torch.nn as nn\n",
        "\n",
        "D = nn.Sequential(\n",
        "    nn.Linear(image_size,hidden_size),\n",
        "    nn.LeakyReLU(0.2),\n",
        "    nn.Linear(hidden_size,hidden_size),\n",
        "    nn.LeakyReLU(0.2),\n",
        "    nn.Linear(hidden_size,1),\n",
        "    nn.Sigmoid()\n",
        ")"
      ],
      "execution_count": 12,
      "outputs": []
    },
    {
      "cell_type": "code",
      "metadata": {
        "id": "9ka-P-jI403-"
      },
      "source": [
        "# LeakyReLU will be multiply negative output with passed value"
      ],
      "execution_count": 13,
      "outputs": []
    },
    {
      "cell_type": "code",
      "metadata": {
        "id": "f84u1zuG406d"
      },
      "source": [
        "D.to(device);"
      ],
      "execution_count": 14,
      "outputs": []
    },
    {
      "cell_type": "code",
      "metadata": {
        "colab": {
          "base_uri": "https://localhost:8080/"
        },
        "id": "s1LHjCpfLRzD",
        "outputId": "efc75e59-3a0f-4f41-a29b-3b5e8f8908ba"
      },
      "source": [
        "D"
      ],
      "execution_count": 16,
      "outputs": [
        {
          "output_type": "execute_result",
          "data": {
            "text/plain": [
              "Sequential(\n",
              "  (0): Linear(in_features=784, out_features=256, bias=True)\n",
              "  (1): LeakyReLU(negative_slope=0.2)\n",
              "  (2): Linear(in_features=256, out_features=256, bias=True)\n",
              "  (3): LeakyReLU(negative_slope=0.2)\n",
              "  (4): Linear(in_features=256, out_features=1, bias=True)\n",
              "  (5): Sigmoid()\n",
              ")"
            ]
          },
          "metadata": {
            "tags": []
          },
          "execution_count": 16
        }
      ]
    },
    {
      "cell_type": "markdown",
      "metadata": {
        "id": "IiD1NeWHJubz"
      },
      "source": [
        "Generator"
      ]
    },
    {
      "cell_type": "code",
      "metadata": {
        "id": "3ssTIQ3-409Z"
      },
      "source": [
        "latent_size = 64"
      ],
      "execution_count": 17,
      "outputs": []
    },
    {
      "cell_type": "code",
      "metadata": {
        "id": "jCCPlr1l40_-"
      },
      "source": [
        "G = nn.Sequential(\n",
        "    nn.Linear(latent_size,hidden_size),\n",
        "    nn.ReLU(),\n",
        "    nn.Linear(hidden_size,hidden_size),\n",
        "    nn.ReLU(),\n",
        "    nn.Linear(hidden_size,image_size),\n",
        "    nn.Tanh()\n",
        ")"
      ],
      "execution_count": 18,
      "outputs": []
    },
    {
      "cell_type": "code",
      "metadata": {
        "id": "sy3kM1EO41DF"
      },
      "source": [
        "# Tanh() will transform values in range between -1 to 1"
      ],
      "execution_count": 19,
      "outputs": []
    },
    {
      "cell_type": "code",
      "metadata": {
        "id": "TZdETKe241FE"
      },
      "source": [
        "y = G(torch.randn(2,latent_size))\n",
        "gen_imags = denorm(y.reshape((-1,28,28)).detach())"
      ],
      "execution_count": 20,
      "outputs": []
    },
    {
      "cell_type": "code",
      "metadata": {
        "id": "d2ZSMMrxNooz"
      },
      "source": [
        "# ?y.detach"
      ],
      "execution_count": 21,
      "outputs": []
    },
    {
      "cell_type": "code",
      "metadata": {
        "id": "dZOyHgZB41Iw"
      },
      "source": [
        "# detach will give only tensor value "
      ],
      "execution_count": 22,
      "outputs": []
    },
    {
      "cell_type": "code",
      "metadata": {
        "colab": {
          "base_uri": "https://localhost:8080/"
        },
        "id": "ROE9ci68LUPj",
        "outputId": "1538b060-a916-434e-f989-636fab72dc36"
      },
      "source": [
        "G"
      ],
      "execution_count": 23,
      "outputs": [
        {
          "output_type": "execute_result",
          "data": {
            "text/plain": [
              "Sequential(\n",
              "  (0): Linear(in_features=64, out_features=256, bias=True)\n",
              "  (1): ReLU()\n",
              "  (2): Linear(in_features=256, out_features=256, bias=True)\n",
              "  (3): ReLU()\n",
              "  (4): Linear(in_features=256, out_features=784, bias=True)\n",
              "  (5): Tanh()\n",
              ")"
            ]
          },
          "metadata": {
            "tags": []
          },
          "execution_count": 23
        }
      ]
    },
    {
      "cell_type": "code",
      "metadata": {
        "colab": {
          "base_uri": "https://localhost:8080/"
        },
        "id": "wWhmPYdv41Ko",
        "outputId": "6c9a35d8-bcf5-4c4f-9755-9b629ec836d7"
      },
      "source": [
        "y = G(torch.randn(2,latent_size))\n",
        "y"
      ],
      "execution_count": 24,
      "outputs": [
        {
          "output_type": "execute_result",
          "data": {
            "text/plain": [
              "tensor([[ 0.1574,  0.0630, -0.0373,  ..., -0.1346,  0.1084, -0.1085],\n",
              "        [ 0.2538,  0.0582, -0.1450,  ...,  0.0428, -0.0086, -0.0169]],\n",
              "       grad_fn=<TanhBackward>)"
            ]
          },
          "metadata": {
            "tags": []
          },
          "execution_count": 24
        }
      ]
    },
    {
      "cell_type": "code",
      "metadata": {
        "colab": {
          "base_uri": "https://localhost:8080/"
        },
        "id": "49tiYz2t41OL",
        "outputId": "1fcd8d6f-5b86-4722-b4a3-2ddb39932e40"
      },
      "source": [
        "y.shape"
      ],
      "execution_count": 25,
      "outputs": [
        {
          "output_type": "execute_result",
          "data": {
            "text/plain": [
              "torch.Size([2, 784])"
            ]
          },
          "metadata": {
            "tags": []
          },
          "execution_count": 25
        }
      ]
    },
    {
      "cell_type": "code",
      "metadata": {
        "colab": {
          "base_uri": "https://localhost:8080/"
        },
        "id": "Pms4M_zs41QG",
        "outputId": "a105ff9e-9537-4f8b-d52a-b4f549e94fb7"
      },
      "source": [
        "y.reshape(-1,28,28).shape"
      ],
      "execution_count": 26,
      "outputs": [
        {
          "output_type": "execute_result",
          "data": {
            "text/plain": [
              "torch.Size([2, 28, 28])"
            ]
          },
          "metadata": {
            "tags": []
          },
          "execution_count": 26
        }
      ]
    },
    {
      "cell_type": "code",
      "metadata": {
        "colab": {
          "base_uri": "https://localhost:8080/",
          "height": 282
        },
        "id": "zvhkor20L-GC",
        "outputId": "c6bae5ad-81d0-4c9d-f1e6-aef1a16dd925"
      },
      "source": [
        "# watching first image\n",
        "plt.imshow(gen_imags[0],cmap='gray')"
      ],
      "execution_count": 27,
      "outputs": [
        {
          "output_type": "execute_result",
          "data": {
            "text/plain": [
              "<matplotlib.image.AxesImage at 0x7f6a11b26e90>"
            ]
          },
          "metadata": {
            "tags": []
          },
          "execution_count": 27
        },
        {
          "output_type": "display_data",
          "data": {
            "image/png": "[encoded data removed]",
            "text/plain": [
              "<Figure size 432x288 with 1 Axes>"
            ]
          },
          "metadata": {
            "tags": [],
            "needs_background": "light"
          }
        }
      ]
    },
    {
      "cell_type": "code",
      "metadata": {
        "colab": {
          "base_uri": "https://localhost:8080/",
          "height": 282
        },
        "id": "-xIRYI9qMeqR",
        "outputId": "11b6fe6d-dcb1-408e-fdbe-68cf001633cb"
      },
      "source": [
        "# watching second image\n",
        "plt.imshow(gen_imags[1],cmap='gray')"
      ],
      "execution_count": 28,
      "outputs": [
        {
          "output_type": "execute_result",
          "data": {
            "text/plain": [
              "<matplotlib.image.AxesImage at 0x7f6a114a2a50>"
            ]
          },
          "metadata": {
            "tags": []
          },
          "execution_count": 28
        },
        {
          "output_type": "display_data",
          "data": {
            "image/png": "[encoded data removed]",
            "text/plain": [
              "<Figure size 432x288 with 1 Axes>"
            ]
          },
          "metadata": {
            "tags": [],
            "needs_background": "light"
          }
        }
      ]
    },
    {
      "cell_type": "code",
      "metadata": {
        "id": "pKQi2PxqMna_"
      },
      "source": [
        "# that will give some random noise"
      ],
      "execution_count": 29,
      "outputs": []
    },
    {
      "cell_type": "code",
      "metadata": {
        "id": "dg7SYVISMuZC"
      },
      "source": [
        "G.to(device);"
      ],
      "execution_count": 30,
      "outputs": []
    },
    {
      "cell_type": "markdown",
      "metadata": {
        "id": "1zmh87D2OVK0"
      },
      "source": [
        "Descriminator Training"
      ]
    },
    {
      "cell_type": "code",
      "metadata": {
        "id": "Ws6aiFF7MxKF"
      },
      "source": [
        "criterion = nn.BCELoss()\n",
        "d_optimizer = torch.optim.Adam(D.parameters(),lr=0.0002)\n",
        "g_optimizer = torch.optim.Adam(G.parameters(),lr=0.0002)"
      ],
      "execution_count": 31,
      "outputs": []
    },
    {
      "cell_type": "code",
      "metadata": {
        "id": "wyAHh5YzMxPA"
      },
      "source": [
        "# reset gradients to zero\n",
        "def reset_grad():\n",
        "  d_optimizer.zero_grad()\n",
        "  g_optimizer.zero_grad()\n",
        "\n",
        "# training descriminator\n",
        "def train_descriminator(images):\n",
        "  # creats labels which are later used as input for BCE Loss\n",
        "  real_labels = torch.ones(batch_size,1).to(device)\n",
        "  fake_labels = torch.zeros(batch_size,1).to(device)\n",
        "\n",
        "  # loss calculation for real images\n",
        "  outputs = D(images)\n",
        "  d_loss_real = criterion(outputs,real_labels)\n",
        "  real_score = outputs\n",
        "\n",
        "  # loss calculation fro fake images\n",
        "  z = torch.randn(batch_size,latent_size).to(device)\n",
        "  fake_images = G(z)\n",
        "  outputs = D(fake_images)\n",
        "  d_loss_fake = criterion(outputs,fake_labels)\n",
        "  fake_score = outputs\n",
        "\n",
        "  # combine losses\n",
        "  d_loss = d_loss_real + d_loss_fake\n",
        "\n",
        "  # reset gradients\n",
        "  reset_grad()\n",
        "\n",
        "  # computing gradients\n",
        "  d_loss.backward()\n",
        "\n",
        "  # adjust parameters using back propagation\n",
        "  d_optimizer.step()\n",
        "\n",
        "  return d_loss, real_score, fake_score\n"
      ],
      "execution_count": 32,
      "outputs": []
    },
    {
      "cell_type": "markdown",
      "metadata": {
        "id": "rI7qEa7jRpwJ"
      },
      "source": [
        "Generator Training"
      ]
    },
    {
      "cell_type": "code",
      "metadata": {
        "colab": {
          "base_uri": "https://localhost:8080/"
        },
        "id": "ATVAw83fMxV6",
        "outputId": "dd128968-bf5f-4bc8-fdba-49cffc223387"
      },
      "source": [
        "z = torch.randn(batch_size,latent_size).to(device)\n",
        "fake_images = G(z)\n",
        "D(fake_images)"
      ],
      "execution_count": 33,
      "outputs": [
        {
          "output_type": "execute_result",
          "data": {
            "text/plain": [
              "tensor([[0.4918],\n",
              "        [0.4921],\n",
              "        [0.4905],\n",
              "        [0.4897],\n",
              "        [0.4921],\n",
              "        [0.4910],\n",
              "        [0.4890],\n",
              "        [0.4909],\n",
              "        [0.4904],\n",
              "        [0.4890],\n",
              "        [0.4864],\n",
              "        [0.4895],\n",
              "        [0.4902],\n",
              "        [0.4906],\n",
              "        [0.4894],\n",
              "        [0.4913],\n",
              "        [0.4903],\n",
              "        [0.4910],\n",
              "        [0.4902],\n",
              "        [0.4888],\n",
              "        [0.4905],\n",
              "        [0.4897],\n",
              "        [0.4963],\n",
              "        [0.4923],\n",
              "        [0.4905],\n",
              "        [0.4907],\n",
              "        [0.4902],\n",
              "        [0.4903],\n",
              "        [0.4898],\n",
              "        [0.4906],\n",
              "        [0.4892],\n",
              "        [0.4922],\n",
              "        [0.4911],\n",
              "        [0.4905],\n",
              "        [0.4926],\n",
              "        [0.4914],\n",
              "        [0.4930],\n",
              "        [0.4925],\n",
              "        [0.4901],\n",
              "        [0.4905],\n",
              "        [0.4914],\n",
              "        [0.4903],\n",
              "        [0.4898],\n",
              "        [0.4901],\n",
              "        [0.4885],\n",
              "        [0.4897],\n",
              "        [0.4904],\n",
              "        [0.4909],\n",
              "        [0.4901],\n",
              "        [0.4912],\n",
              "        [0.4910],\n",
              "        [0.4912],\n",
              "        [0.4897],\n",
              "        [0.4925],\n",
              "        [0.4885],\n",
              "        [0.4906],\n",
              "        [0.4921],\n",
              "        [0.4907],\n",
              "        [0.4877],\n",
              "        [0.4901],\n",
              "        [0.4901],\n",
              "        [0.4910],\n",
              "        [0.4920],\n",
              "        [0.4892],\n",
              "        [0.4910],\n",
              "        [0.4913],\n",
              "        [0.4910],\n",
              "        [0.4906],\n",
              "        [0.4893],\n",
              "        [0.4918],\n",
              "        [0.4925],\n",
              "        [0.4901],\n",
              "        [0.4895],\n",
              "        [0.4897],\n",
              "        [0.4905],\n",
              "        [0.4911],\n",
              "        [0.4906],\n",
              "        [0.4895],\n",
              "        [0.4909],\n",
              "        [0.4897],\n",
              "        [0.4917],\n",
              "        [0.4931],\n",
              "        [0.4890],\n",
              "        [0.4893],\n",
              "        [0.4922],\n",
              "        [0.4899],\n",
              "        [0.4900],\n",
              "        [0.4908],\n",
              "        [0.4903],\n",
              "        [0.4921],\n",
              "        [0.4942],\n",
              "        [0.4918],\n",
              "        [0.4910],\n",
              "        [0.4915],\n",
              "        [0.4901],\n",
              "        [0.4921],\n",
              "        [0.4882],\n",
              "        [0.4902],\n",
              "        [0.4935],\n",
              "        [0.4916]], device='cuda:0', grad_fn=<SigmoidBackward>)"
            ]
          },
          "metadata": {
            "tags": []
          },
          "execution_count": 33
        }
      ]
    },
    {
      "cell_type": "markdown",
      "metadata": {
        "id": "RUSRIiBKUDqh"
      },
      "source": [
        "first we take random batch and passed that latent vector to Generator which gives fack images and we put that fake images in discriminator (we are not training discriminator we training generators only discriminator stay fix it will not affect )  discriminator gives out probability that images are real and to generator to become batter descriminator should not identify that as fake images (that probability should be near to 1) and after gradients performed next time discriminator output value will becoming to close to 1 (that means images are real)"
      ]
    },
    {
      "cell_type": "code",
      "metadata": {
        "id": "gDKBHPXKMxW8"
      },
      "source": [
        "# training generator\n",
        "def train_generator():\n",
        "  \n",
        "  #generate fake images and calculate loss\n",
        "  z = torch.randn(batch_size,latent_size).to(device)\n",
        "  fake_images = G(z)\n",
        "  labels = torch.ones(batch_size,1).to(device)\n",
        "  g_loss = criterion(D(fake_images),labels)\n",
        "\n",
        "  # back propagation and optimizing\n",
        "  reset_grad()\n",
        "  g_loss.backward()\n",
        "  g_optimizer.step()\n",
        "  return g_loss, fake_images "
      ],
      "execution_count": 34,
      "outputs": []
    },
    {
      "cell_type": "markdown",
      "metadata": {
        "id": "AFc3mpxiT-cc"
      },
      "source": [
        "Training Model"
      ]
    },
    {
      "cell_type": "code",
      "metadata": {
        "id": "zTkI1F09Mxa9"
      },
      "source": [
        "import os\n",
        "\n",
        "sample_dir = 'sample'\n",
        "if not os.path.exists(sample_dir):\n",
        "  os.makedirs(sample_dir)"
      ],
      "execution_count": 35,
      "outputs": []
    },
    {
      "cell_type": "code",
      "metadata": {
        "colab": {
          "base_uri": "https://localhost:8080/",
          "height": 318
        },
        "id": "nO8--QsPMxcC",
        "outputId": "45c07251-5bac-48dc-d644-cfdb6a94fc58"
      },
      "source": [
        "from IPython.display import Image\n",
        "from torchvision.utils import save_image\n",
        "\n",
        "# saving some real images\n",
        "for images,_ in data_loader:\n",
        "  images = images.reshape(images.size(0),1,28,28)\n",
        "  save_image(denorm(images),os.path.join(sample_dir,'real_images.png'),nrow=10)\n",
        "  break\n",
        "\n",
        "Image(os.path.join(sample_dir,'real_images.png'))"
      ],
      "execution_count": 36,
      "outputs": [
        {
          "output_type": "execute_result",
          "data": {
            "image/png": "[encoded data removed]",
            "text/plain": [
              "<IPython.core.display.Image object>"
            ]
          },
          "metadata": {
            "tags": []
          },
          "execution_count": 36
        }
      ]
    },
    {
      "cell_type": "code",
      "metadata": {
        "colab": {
          "base_uri": "https://localhost:8080/",
          "height": 336
        },
        "id": "POkl6R8VMxgj",
        "outputId": "f028435c-e791-401f-ec9c-df1a0aa56b69"
      },
      "source": [
        "sample_vectors = torch.randn(batch_size,latent_size).to(device)\n",
        "\n",
        "def save_fake_images(index):\n",
        "  fake_images = G(sample_vectors)\n",
        "  fake_images = fake_images.reshape(fake_images.size(0),1,28,28)\n",
        "  fake_fname = 'fake_images-{0:0=4d}.png'.format(index)\n",
        "  print('Saving ',fake_fname)\n",
        "  save_image(denorm(fake_images),os.path.join(sample_dir,fake_fname),nrow=10)\n",
        "\n",
        "# before training\n",
        "save_fake_images(0)\n",
        "Image(os.path.join(sample_dir,'fake_images-0000.png'))"
      ],
      "execution_count": 37,
      "outputs": [
        {
          "output_type": "stream",
          "text": [
            "Saving  fake_images-0000.png\n"
          ],
          "name": "stdout"
        },
        {
          "output_type": "execute_result",
          "data": {
            "image/png": "[encoded data removed]",
            "text/plain": [
              "<IPython.core.display.Image object>"
            ]
          },
          "metadata": {
            "tags": []
          },
          "execution_count": 37
        }
      ]
    },
    {
      "cell_type": "code",
      "metadata": {
        "colab": {
          "base_uri": "https://localhost:8080/"
        },
        "id": "79-HAQFPMxiL",
        "outputId": "5b012a62-39e0-4ca6-e852-f99745d0800f"
      },
      "source": [
        "%%time\n",
        "\n",
        "num_epochs = 251\n",
        "total_step = len(data_loader)\n",
        "d_losses, g_losses, real_scores, fake_scores = [],[],[],[]\n",
        "\n",
        "for epoch in range(num_epochs):\n",
        "  for i,(images,_) in enumerate(data_loader):\n",
        "    # load a batch & transform to vector\n",
        "    images = images.reshape(batch_size,-1).to(device)\n",
        "\n",
        "    # train discriminator and generator\n",
        "    d_loss,real_score,fake_score = train_descriminator(images)\n",
        "    g_loss, fake_images = train_generator()\n",
        "\n",
        "    # inspect losses\n",
        "    if(i+1)%200 ==0:\n",
        "      d_losses.append(d_loss.item())\n",
        "      g_losses.append(g_loss.item())\n",
        "      real_scores.append(real_score.mean().item())\n",
        "      fake_scores.append(fake_score.mean().item())\n",
        "      print('Epoch [{}/{}], Step : [{}/{}], d_loss : {:.4f}, g_loss : {:.4f}, D(x) : {:.2f}, D(G(z)) : {:.2f}'\n",
        "            .format(epoch,num_epochs,i+1,total_step,d_loss.item(),g_loss.item(),\n",
        "                    real_score.mean().item(),fake_score.mean().item()))\n",
        "      \n",
        "  # sample and save images\n",
        "  save_fake_images(epoch+1)"
      ],
      "execution_count": 38,
      "outputs": [
        {
          "output_type": "stream",
          "text": [
            "Epoch [0/251], Step : [200/600], d_loss : 0.0470, g_loss : 4.4100, D(x) : 0.99, D(G(z)) : 0.04\n",
            "Epoch [0/251], Step : [400/600], d_loss : 0.1189, g_loss : 5.3195, D(x) : 0.96, D(G(z)) : 0.07\n",
            "Epoch [0/251], Step : [600/600], d_loss : 0.0853, g_loss : 4.7968, D(x) : 0.97, D(G(z)) : 0.05\n",
            "Saving  fake_images-0001.png\n",
            "Epoch [1/251], Step : [200/600], d_loss : 0.0716, g_loss : 5.6971, D(x) : 0.98, D(G(z)) : 0.04\n",
            "Epoch [1/251], Step : [400/600], d_loss : 0.2234, g_loss : 3.7223, D(x) : 0.95, D(G(z)) : 0.12\n",
            "Epoch [1/251], Step : [600/600], d_loss : 0.4727, g_loss : 3.6559, D(x) : 0.83, D(G(z)) : 0.16\n",
            "Saving  fake_images-0002.png\n",
            "Epoch [2/251], Step : [200/600], d_loss : 0.2680, g_loss : 2.9964, D(x) : 0.97, D(G(z)) : 0.19\n",
            "Epoch [2/251], Step : [400/600], d_loss : 0.2037, g_loss : 3.3713, D(x) : 0.91, D(G(z)) : 0.07\n",
            "Epoch [2/251], Step : [600/600], d_loss : 0.5888, g_loss : 3.1665, D(x) : 0.80, D(G(z)) : 0.14\n",
            "Saving  fake_images-0003.png\n",
            "Epoch [3/251], Step : [200/600], d_loss : 0.3843, g_loss : 3.5786, D(x) : 0.90, D(G(z)) : 0.14\n",
            "Epoch [3/251], Step : [400/600], d_loss : 0.3480, g_loss : 2.8522, D(x) : 0.83, D(G(z)) : 0.09\n",
            "Epoch [3/251], Step : [600/600], d_loss : 0.7187, g_loss : 2.8717, D(x) : 0.77, D(G(z)) : 0.23\n",
            "Saving  fake_images-0004.png\n",
            "Epoch [4/251], Step : [200/600], d_loss : 0.8207, g_loss : 2.6792, D(x) : 0.79, D(G(z)) : 0.28\n",
            "Epoch [4/251], Step : [400/600], d_loss : 0.9017, g_loss : 1.9439, D(x) : 0.76, D(G(z)) : 0.30\n",
            "Epoch [4/251], Step : [600/600], d_loss : 0.3346, g_loss : 3.2155, D(x) : 0.85, D(G(z)) : 0.07\n",
            "Saving  fake_images-0005.png\n",
            "Epoch [5/251], Step : [200/600], d_loss : 0.3717, g_loss : 2.4914, D(x) : 0.86, D(G(z)) : 0.13\n",
            "Epoch [5/251], Step : [400/600], d_loss : 0.2833, g_loss : 3.5859, D(x) : 0.90, D(G(z)) : 0.09\n",
            "Epoch [5/251], Step : [600/600], d_loss : 0.1525, g_loss : 3.4496, D(x) : 0.95, D(G(z)) : 0.08\n",
            "Saving  fake_images-0006.png\n",
            "Epoch [6/251], Step : [200/600], d_loss : 0.3071, g_loss : 1.9688, D(x) : 0.91, D(G(z)) : 0.14\n",
            "Epoch [6/251], Step : [400/600], d_loss : 0.2417, g_loss : 3.7416, D(x) : 0.95, D(G(z)) : 0.15\n",
            "Epoch [6/251], Step : [600/600], d_loss : 0.2370, g_loss : 3.3057, D(x) : 0.93, D(G(z)) : 0.09\n",
            "Saving  fake_images-0007.png\n",
            "Epoch [7/251], Step : [200/600], d_loss : 0.2857, g_loss : 5.7803, D(x) : 0.90, D(G(z)) : 0.03\n",
            "Epoch [7/251], Step : [400/600], d_loss : 0.1239, g_loss : 5.4454, D(x) : 0.96, D(G(z)) : 0.03\n",
            "Epoch [7/251], Step : [600/600], d_loss : 0.0681, g_loss : 4.2850, D(x) : 0.98, D(G(z)) : 0.04\n",
            "Saving  fake_images-0008.png\n",
            "Epoch [8/251], Step : [200/600], d_loss : 0.1498, g_loss : 4.0302, D(x) : 0.94, D(G(z)) : 0.04\n",
            "Epoch [8/251], Step : [400/600], d_loss : 0.3532, g_loss : 2.8538, D(x) : 0.89, D(G(z)) : 0.07\n",
            "Epoch [8/251], Step : [600/600], d_loss : 0.1512, g_loss : 6.7234, D(x) : 0.96, D(G(z)) : 0.05\n",
            "Saving  fake_images-0009.png\n",
            "Epoch [9/251], Step : [200/600], d_loss : 0.2063, g_loss : 4.1754, D(x) : 0.93, D(G(z)) : 0.05\n",
            "Epoch [9/251], Step : [400/600], d_loss : 0.1587, g_loss : 4.5722, D(x) : 0.97, D(G(z)) : 0.08\n",
            "Epoch [9/251], Step : [600/600], d_loss : 0.1477, g_loss : 5.0216, D(x) : 0.95, D(G(z)) : 0.03\n",
            "Saving  fake_images-0010.png\n",
            "Epoch [10/251], Step : [200/600], d_loss : 0.0785, g_loss : 4.8343, D(x) : 0.98, D(G(z)) : 0.05\n",
            "Epoch [10/251], Step : [400/600], d_loss : 0.1484, g_loss : 5.0287, D(x) : 0.98, D(G(z)) : 0.06\n",
            "Epoch [10/251], Step : [600/600], d_loss : 0.0493, g_loss : 6.2542, D(x) : 0.99, D(G(z)) : 0.03\n",
            "Saving  fake_images-0011.png\n",
            "Epoch [11/251], Step : [200/600], d_loss : 0.1432, g_loss : 7.4618, D(x) : 0.96, D(G(z)) : 0.03\n",
            "Epoch [11/251], Step : [400/600], d_loss : 0.1219, g_loss : 4.7761, D(x) : 0.95, D(G(z)) : 0.05\n",
            "Epoch [11/251], Step : [600/600], d_loss : 0.1370, g_loss : 4.6052, D(x) : 0.97, D(G(z)) : 0.06\n",
            "Saving  fake_images-0012.png\n",
            "Epoch [12/251], Step : [200/600], d_loss : 0.0728, g_loss : 8.6392, D(x) : 0.96, D(G(z)) : 0.00\n",
            "Epoch [12/251], Step : [400/600], d_loss : 0.1222, g_loss : 8.0034, D(x) : 0.95, D(G(z)) : 0.03\n",
            "Epoch [12/251], Step : [600/600], d_loss : 0.1565, g_loss : 5.9898, D(x) : 0.94, D(G(z)) : 0.03\n",
            "Saving  fake_images-0013.png\n",
            "Epoch [13/251], Step : [200/600], d_loss : 0.1048, g_loss : 5.9799, D(x) : 0.96, D(G(z)) : 0.04\n",
            "Epoch [13/251], Step : [400/600], d_loss : 0.1568, g_loss : 6.6387, D(x) : 0.94, D(G(z)) : 0.02\n",
            "Epoch [13/251], Step : [600/600], d_loss : 0.1192, g_loss : 5.5890, D(x) : 0.98, D(G(z)) : 0.09\n",
            "Saving  fake_images-0014.png\n",
            "Epoch [14/251], Step : [200/600], d_loss : 0.1389, g_loss : 4.8579, D(x) : 0.99, D(G(z)) : 0.07\n",
            "Epoch [14/251], Step : [400/600], d_loss : 0.1218, g_loss : 4.9290, D(x) : 0.98, D(G(z)) : 0.07\n",
            "Epoch [14/251], Step : [600/600], d_loss : 0.2691, g_loss : 7.5067, D(x) : 0.93, D(G(z)) : 0.05\n",
            "Saving  fake_images-0015.png\n",
            "Epoch [15/251], Step : [200/600], d_loss : 0.1932, g_loss : 4.8230, D(x) : 0.97, D(G(z)) : 0.10\n",
            "Epoch [15/251], Step : [400/600], d_loss : 0.1763, g_loss : 6.1563, D(x) : 0.95, D(G(z)) : 0.06\n",
            "Epoch [15/251], Step : [600/600], d_loss : 0.1318, g_loss : 5.1658, D(x) : 0.95, D(G(z)) : 0.03\n",
            "Saving  fake_images-0016.png\n",
            "Epoch [16/251], Step : [200/600], d_loss : 0.3258, g_loss : 3.9733, D(x) : 0.90, D(G(z)) : 0.07\n",
            "Epoch [16/251], Step : [400/600], d_loss : 0.2296, g_loss : 5.1536, D(x) : 0.97, D(G(z)) : 0.12\n",
            "Epoch [16/251], Step : [600/600], d_loss : 0.2587, g_loss : 6.4800, D(x) : 0.90, D(G(z)) : 0.01\n",
            "Saving  fake_images-0017.png\n",
            "Epoch [17/251], Step : [200/600], d_loss : 0.4234, g_loss : 5.1829, D(x) : 0.86, D(G(z)) : 0.05\n",
            "Epoch [17/251], Step : [400/600], d_loss : 0.4464, g_loss : 3.9363, D(x) : 0.88, D(G(z)) : 0.13\n",
            "Epoch [17/251], Step : [600/600], d_loss : 0.3252, g_loss : 3.7408, D(x) : 0.91, D(G(z)) : 0.07\n",
            "Saving  fake_images-0018.png\n",
            "Epoch [18/251], Step : [200/600], d_loss : 0.7040, g_loss : 4.1277, D(x) : 0.96, D(G(z)) : 0.32\n",
            "Epoch [18/251], Step : [400/600], d_loss : 0.2641, g_loss : 3.9364, D(x) : 0.94, D(G(z)) : 0.12\n",
            "Epoch [18/251], Step : [600/600], d_loss : 0.3069, g_loss : 4.8444, D(x) : 0.90, D(G(z)) : 0.06\n",
            "Saving  fake_images-0019.png\n",
            "Epoch [19/251], Step : [200/600], d_loss : 0.4319, g_loss : 4.1701, D(x) : 0.86, D(G(z)) : 0.08\n",
            "Epoch [19/251], Step : [400/600], d_loss : 0.5201, g_loss : 4.0459, D(x) : 0.82, D(G(z)) : 0.03\n",
            "Epoch [19/251], Step : [600/600], d_loss : 0.3850, g_loss : 3.4258, D(x) : 0.90, D(G(z)) : 0.15\n",
            "Saving  fake_images-0020.png\n",
            "Epoch [20/251], Step : [200/600], d_loss : 0.4703, g_loss : 4.2161, D(x) : 0.88, D(G(z)) : 0.14\n",
            "Epoch [20/251], Step : [400/600], d_loss : 0.4295, g_loss : 4.3993, D(x) : 0.87, D(G(z)) : 0.04\n",
            "Epoch [20/251], Step : [600/600], d_loss : 0.1966, g_loss : 3.5643, D(x) : 0.95, D(G(z)) : 0.09\n",
            "Saving  fake_images-0021.png\n",
            "Epoch [21/251], Step : [200/600], d_loss : 0.4083, g_loss : 2.6720, D(x) : 0.88, D(G(z)) : 0.14\n",
            "Epoch [21/251], Step : [400/600], d_loss : 0.2465, g_loss : 3.7452, D(x) : 0.91, D(G(z)) : 0.08\n",
            "Epoch [21/251], Step : [600/600], d_loss : 0.3648, g_loss : 4.7278, D(x) : 0.92, D(G(z)) : 0.11\n",
            "Saving  fake_images-0022.png\n",
            "Epoch [22/251], Step : [200/600], d_loss : 0.2642, g_loss : 3.6536, D(x) : 0.95, D(G(z)) : 0.13\n",
            "Epoch [22/251], Step : [400/600], d_loss : 0.3613, g_loss : 4.8937, D(x) : 0.86, D(G(z)) : 0.04\n",
            "Epoch [22/251], Step : [600/600], d_loss : 0.1344, g_loss : 5.2571, D(x) : 0.95, D(G(z)) : 0.04\n",
            "Saving  fake_images-0023.png\n",
            "Epoch [23/251], Step : [200/600], d_loss : 0.3856, g_loss : 4.2125, D(x) : 0.88, D(G(z)) : 0.06\n",
            "Epoch [23/251], Step : [400/600], d_loss : 0.1793, g_loss : 5.2770, D(x) : 0.93, D(G(z)) : 0.05\n",
            "Epoch [23/251], Step : [600/600], d_loss : 0.3378, g_loss : 4.1247, D(x) : 0.97, D(G(z)) : 0.18\n",
            "Saving  fake_images-0024.png\n",
            "Epoch [24/251], Step : [200/600], d_loss : 0.2443, g_loss : 5.2207, D(x) : 0.89, D(G(z)) : 0.03\n",
            "Epoch [24/251], Step : [400/600], d_loss : 0.3600, g_loss : 4.5127, D(x) : 0.87, D(G(z)) : 0.07\n",
            "Epoch [24/251], Step : [600/600], d_loss : 0.5798, g_loss : 3.3884, D(x) : 0.81, D(G(z)) : 0.06\n",
            "Saving  fake_images-0025.png\n",
            "Epoch [25/251], Step : [200/600], d_loss : 0.4763, g_loss : 4.5127, D(x) : 0.91, D(G(z)) : 0.16\n",
            "Epoch [25/251], Step : [400/600], d_loss : 0.2932, g_loss : 3.7464, D(x) : 0.89, D(G(z)) : 0.07\n",
            "Epoch [25/251], Step : [600/600], d_loss : 0.1856, g_loss : 4.2706, D(x) : 0.94, D(G(z)) : 0.08\n",
            "Saving  fake_images-0026.png\n",
            "Epoch [26/251], Step : [200/600], d_loss : 0.2915, g_loss : 3.4268, D(x) : 0.92, D(G(z)) : 0.11\n",
            "Epoch [26/251], Step : [400/600], d_loss : 0.4541, g_loss : 4.4970, D(x) : 0.89, D(G(z)) : 0.13\n",
            "Epoch [26/251], Step : [600/600], d_loss : 0.2032, g_loss : 4.1024, D(x) : 0.91, D(G(z)) : 0.05\n",
            "Saving  fake_images-0027.png\n",
            "Epoch [27/251], Step : [200/600], d_loss : 0.4490, g_loss : 4.1074, D(x) : 0.87, D(G(z)) : 0.09\n",
            "Epoch [27/251], Step : [400/600], d_loss : 0.4669, g_loss : 4.9697, D(x) : 0.83, D(G(z)) : 0.03\n",
            "Epoch [27/251], Step : [600/600], d_loss : 0.4701, g_loss : 4.2674, D(x) : 0.82, D(G(z)) : 0.04\n",
            "Saving  fake_images-0028.png\n",
            "Epoch [28/251], Step : [200/600], d_loss : 0.3238, g_loss : 3.7666, D(x) : 0.89, D(G(z)) : 0.07\n",
            "Epoch [28/251], Step : [400/600], d_loss : 0.3035, g_loss : 3.8577, D(x) : 0.90, D(G(z)) : 0.06\n",
            "Epoch [28/251], Step : [600/600], d_loss : 0.3358, g_loss : 3.2965, D(x) : 0.92, D(G(z)) : 0.12\n",
            "Saving  fake_images-0029.png\n",
            "Epoch [29/251], Step : [200/600], d_loss : 0.1723, g_loss : 5.7891, D(x) : 0.94, D(G(z)) : 0.03\n",
            "Epoch [29/251], Step : [400/600], d_loss : 0.3008, g_loss : 4.1907, D(x) : 0.85, D(G(z)) : 0.03\n",
            "Epoch [29/251], Step : [600/600], d_loss : 0.3301, g_loss : 3.9560, D(x) : 0.90, D(G(z)) : 0.11\n",
            "Saving  fake_images-0030.png\n",
            "Epoch [30/251], Step : [200/600], d_loss : 0.3337, g_loss : 2.8889, D(x) : 0.89, D(G(z)) : 0.09\n",
            "Epoch [30/251], Step : [400/600], d_loss : 0.4746, g_loss : 3.9782, D(x) : 0.86, D(G(z)) : 0.12\n",
            "Epoch [30/251], Step : [600/600], d_loss : 0.3691, g_loss : 3.7003, D(x) : 0.90, D(G(z)) : 0.12\n",
            "Saving  fake_images-0031.png\n",
            "Epoch [31/251], Step : [200/600], d_loss : 0.2490, g_loss : 3.2333, D(x) : 0.92, D(G(z)) : 0.09\n",
            "Epoch [31/251], Step : [400/600], d_loss : 0.2669, g_loss : 4.1917, D(x) : 0.91, D(G(z)) : 0.10\n",
            "Epoch [31/251], Step : [600/600], d_loss : 0.2401, g_loss : 3.6447, D(x) : 0.91, D(G(z)) : 0.08\n",
            "Saving  fake_images-0032.png\n",
            "Epoch [32/251], Step : [200/600], d_loss : 0.2791, g_loss : 2.7409, D(x) : 0.88, D(G(z)) : 0.07\n",
            "Epoch [32/251], Step : [400/600], d_loss : 0.5971, g_loss : 3.8085, D(x) : 0.92, D(G(z)) : 0.26\n",
            "Epoch [32/251], Step : [600/600], d_loss : 0.4134, g_loss : 3.1273, D(x) : 0.90, D(G(z)) : 0.17\n",
            "Saving  fake_images-0033.png\n",
            "Epoch [33/251], Step : [200/600], d_loss : 0.2020, g_loss : 3.7357, D(x) : 0.94, D(G(z)) : 0.07\n",
            "Epoch [33/251], Step : [400/600], d_loss : 0.3837, g_loss : 3.8915, D(x) : 0.91, D(G(z)) : 0.14\n",
            "Epoch [33/251], Step : [600/600], d_loss : 0.4438, g_loss : 4.0797, D(x) : 0.85, D(G(z)) : 0.07\n",
            "Saving  fake_images-0034.png\n",
            "Epoch [34/251], Step : [200/600], d_loss : 0.4126, g_loss : 3.6769, D(x) : 0.96, D(G(z)) : 0.23\n",
            "Epoch [34/251], Step : [400/600], d_loss : 0.3693, g_loss : 3.4018, D(x) : 0.85, D(G(z)) : 0.06\n",
            "Epoch [34/251], Step : [600/600], d_loss : 0.3532, g_loss : 3.4366, D(x) : 0.90, D(G(z)) : 0.10\n",
            "Saving  fake_images-0035.png\n",
            "Epoch [35/251], Step : [200/600], d_loss : 0.3855, g_loss : 3.2463, D(x) : 0.89, D(G(z)) : 0.16\n",
            "Epoch [35/251], Step : [400/600], d_loss : 0.3301, g_loss : 3.7903, D(x) : 0.91, D(G(z)) : 0.14\n",
            "Epoch [35/251], Step : [600/600], d_loss : 0.4559, g_loss : 2.3928, D(x) : 0.86, D(G(z)) : 0.17\n",
            "Saving  fake_images-0036.png\n",
            "Epoch [36/251], Step : [200/600], d_loss : 0.3697, g_loss : 3.3669, D(x) : 0.87, D(G(z)) : 0.10\n",
            "Epoch [36/251], Step : [400/600], d_loss : 0.3927, g_loss : 2.9896, D(x) : 0.86, D(G(z)) : 0.09\n",
            "Epoch [36/251], Step : [600/600], d_loss : 0.4105, g_loss : 3.2527, D(x) : 0.85, D(G(z)) : 0.09\n",
            "Saving  fake_images-0037.png\n",
            "Epoch [37/251], Step : [200/600], d_loss : 0.4500, g_loss : 3.4757, D(x) : 0.81, D(G(z)) : 0.03\n",
            "Epoch [37/251], Step : [400/600], d_loss : 0.4793, g_loss : 2.8122, D(x) : 0.84, D(G(z)) : 0.12\n",
            "Epoch [37/251], Step : [600/600], d_loss : 0.7917, g_loss : 2.4834, D(x) : 0.88, D(G(z)) : 0.32\n",
            "Saving  fake_images-0038.png\n",
            "Epoch [38/251], Step : [200/600], d_loss : 0.3491, g_loss : 3.4319, D(x) : 0.88, D(G(z)) : 0.11\n",
            "Epoch [38/251], Step : [400/600], d_loss : 0.6019, g_loss : 2.2499, D(x) : 0.81, D(G(z)) : 0.12\n",
            "Epoch [38/251], Step : [600/600], d_loss : 0.3382, g_loss : 3.7356, D(x) : 0.89, D(G(z)) : 0.10\n",
            "Saving  fake_images-0039.png\n",
            "Epoch [39/251], Step : [200/600], d_loss : 0.4224, g_loss : 2.8208, D(x) : 0.88, D(G(z)) : 0.17\n",
            "Epoch [39/251], Step : [400/600], d_loss : 0.4762, g_loss : 3.3765, D(x) : 0.82, D(G(z)) : 0.09\n",
            "Epoch [39/251], Step : [600/600], d_loss : 0.3674, g_loss : 3.4426, D(x) : 0.86, D(G(z)) : 0.12\n",
            "Saving  fake_images-0040.png\n",
            "Epoch [40/251], Step : [200/600], d_loss : 0.6027, g_loss : 2.5045, D(x) : 0.84, D(G(z)) : 0.21\n",
            "Epoch [40/251], Step : [400/600], d_loss : 0.4453, g_loss : 4.0746, D(x) : 0.88, D(G(z)) : 0.17\n",
            "Epoch [40/251], Step : [600/600], d_loss : 0.5321, g_loss : 3.8671, D(x) : 0.84, D(G(z)) : 0.14\n",
            "Saving  fake_images-0041.png\n",
            "Epoch [41/251], Step : [200/600], d_loss : 0.5681, g_loss : 3.0560, D(x) : 0.86, D(G(z)) : 0.18\n",
            "Epoch [41/251], Step : [400/600], d_loss : 0.5229, g_loss : 2.9886, D(x) : 0.90, D(G(z)) : 0.24\n",
            "Epoch [41/251], Step : [600/600], d_loss : 0.6043, g_loss : 4.3073, D(x) : 0.78, D(G(z)) : 0.09\n",
            "Saving  fake_images-0042.png\n",
            "Epoch [42/251], Step : [200/600], d_loss : 0.4346, g_loss : 3.0992, D(x) : 0.87, D(G(z)) : 0.15\n",
            "Epoch [42/251], Step : [400/600], d_loss : 0.3345, g_loss : 3.3367, D(x) : 0.87, D(G(z)) : 0.09\n",
            "Epoch [42/251], Step : [600/600], d_loss : 0.4185, g_loss : 3.4968, D(x) : 0.92, D(G(z)) : 0.19\n",
            "Saving  fake_images-0043.png\n",
            "Epoch [43/251], Step : [200/600], d_loss : 0.5494, g_loss : 3.5891, D(x) : 0.86, D(G(z)) : 0.15\n",
            "Epoch [43/251], Step : [400/600], d_loss : 0.5050, g_loss : 3.9760, D(x) : 0.85, D(G(z)) : 0.15\n",
            "Epoch [43/251], Step : [600/600], d_loss : 0.3062, g_loss : 3.5782, D(x) : 0.86, D(G(z)) : 0.08\n",
            "Saving  fake_images-0044.png\n",
            "Epoch [44/251], Step : [200/600], d_loss : 0.3092, g_loss : 4.0186, D(x) : 0.91, D(G(z)) : 0.13\n",
            "Epoch [44/251], Step : [400/600], d_loss : 0.4699, g_loss : 3.1411, D(x) : 0.88, D(G(z)) : 0.20\n",
            "Epoch [44/251], Step : [600/600], d_loss : 0.5403, g_loss : 2.2766, D(x) : 0.93, D(G(z)) : 0.29\n",
            "Saving  fake_images-0045.png\n",
            "Epoch [45/251], Step : [200/600], d_loss : 0.4110, g_loss : 3.4065, D(x) : 0.87, D(G(z)) : 0.13\n",
            "Epoch [45/251], Step : [400/600], d_loss : 0.4914, g_loss : 3.2727, D(x) : 0.92, D(G(z)) : 0.24\n",
            "Epoch [45/251], Step : [600/600], d_loss : 0.6670, g_loss : 3.0374, D(x) : 0.84, D(G(z)) : 0.24\n",
            "Saving  fake_images-0046.png\n",
            "Epoch [46/251], Step : [200/600], d_loss : 0.2771, g_loss : 2.9451, D(x) : 0.92, D(G(z)) : 0.13\n",
            "Epoch [46/251], Step : [400/600], d_loss : 0.6060, g_loss : 3.0011, D(x) : 0.86, D(G(z)) : 0.23\n",
            "Epoch [46/251], Step : [600/600], d_loss : 0.5927, g_loss : 2.1450, D(x) : 0.86, D(G(z)) : 0.25\n",
            "Saving  fake_images-0047.png\n",
            "Epoch [47/251], Step : [200/600], d_loss : 0.6518, g_loss : 1.8555, D(x) : 0.84, D(G(z)) : 0.25\n",
            "Epoch [47/251], Step : [400/600], d_loss : 0.5055, g_loss : 2.8194, D(x) : 0.86, D(G(z)) : 0.20\n",
            "Epoch [47/251], Step : [600/600], d_loss : 0.6188, g_loss : 2.1785, D(x) : 0.79, D(G(z)) : 0.19\n",
            "Saving  fake_images-0048.png\n",
            "Epoch [48/251], Step : [200/600], d_loss : 0.6245, g_loss : 2.2132, D(x) : 0.80, D(G(z)) : 0.21\n",
            "Epoch [48/251], Step : [400/600], d_loss : 0.5362, g_loss : 3.1263, D(x) : 0.83, D(G(z)) : 0.18\n",
            "Epoch [48/251], Step : [600/600], d_loss : 0.4614, g_loss : 2.4932, D(x) : 0.86, D(G(z)) : 0.18\n",
            "Saving  fake_images-0049.png\n",
            "Epoch [49/251], Step : [200/600], d_loss : 0.5523, g_loss : 2.2297, D(x) : 0.85, D(G(z)) : 0.22\n",
            "Epoch [49/251], Step : [400/600], d_loss : 0.6512, g_loss : 1.9958, D(x) : 0.80, D(G(z)) : 0.22\n",
            "Epoch [49/251], Step : [600/600], d_loss : 0.5948, g_loss : 2.3665, D(x) : 0.86, D(G(z)) : 0.25\n",
            "Saving  fake_images-0050.png\n",
            "Epoch [50/251], Step : [200/600], d_loss : 0.5640, g_loss : 3.1103, D(x) : 0.82, D(G(z)) : 0.17\n",
            "Epoch [50/251], Step : [400/600], d_loss : 0.5720, g_loss : 2.1213, D(x) : 0.86, D(G(z)) : 0.24\n",
            "Epoch [50/251], Step : [600/600], d_loss : 0.6210, g_loss : 2.0834, D(x) : 0.89, D(G(z)) : 0.32\n",
            "Saving  fake_images-0051.png\n",
            "Epoch [51/251], Step : [200/600], d_loss : 0.5814, g_loss : 1.9692, D(x) : 0.84, D(G(z)) : 0.26\n",
            "Epoch [51/251], Step : [400/600], d_loss : 0.6687, g_loss : 3.1871, D(x) : 0.72, D(G(z)) : 0.08\n",
            "Epoch [51/251], Step : [600/600], d_loss : 0.8534, g_loss : 2.0432, D(x) : 0.79, D(G(z)) : 0.29\n",
            "Saving  fake_images-0052.png\n",
            "Epoch [52/251], Step : [200/600], d_loss : 0.4632, g_loss : 2.9505, D(x) : 0.86, D(G(z)) : 0.16\n",
            "Epoch [52/251], Step : [400/600], d_loss : 0.6627, g_loss : 2.5216, D(x) : 0.73, D(G(z)) : 0.15\n",
            "Epoch [52/251], Step : [600/600], d_loss : 0.4936, g_loss : 3.4246, D(x) : 0.80, D(G(z)) : 0.14\n",
            "Saving  fake_images-0053.png\n",
            "Epoch [53/251], Step : [200/600], d_loss : 0.5672, g_loss : 1.7404, D(x) : 0.85, D(G(z)) : 0.23\n",
            "Epoch [53/251], Step : [400/600], d_loss : 0.5719, g_loss : 2.8514, D(x) : 0.82, D(G(z)) : 0.22\n",
            "Epoch [53/251], Step : [600/600], d_loss : 0.6329, g_loss : 2.5028, D(x) : 0.77, D(G(z)) : 0.14\n",
            "Saving  fake_images-0054.png\n",
            "Epoch [54/251], Step : [200/600], d_loss : 0.3827, g_loss : 3.8688, D(x) : 0.86, D(G(z)) : 0.12\n",
            "Epoch [54/251], Step : [400/600], d_loss : 0.4932, g_loss : 2.4025, D(x) : 0.89, D(G(z)) : 0.24\n",
            "Epoch [54/251], Step : [600/600], d_loss : 0.5018, g_loss : 2.5241, D(x) : 0.84, D(G(z)) : 0.17\n",
            "Saving  fake_images-0055.png\n",
            "Epoch [55/251], Step : [200/600], d_loss : 0.3499, g_loss : 3.9130, D(x) : 0.89, D(G(z)) : 0.15\n",
            "Epoch [55/251], Step : [400/600], d_loss : 0.5224, g_loss : 2.7220, D(x) : 0.80, D(G(z)) : 0.13\n",
            "Epoch [55/251], Step : [600/600], d_loss : 0.4804, g_loss : 4.1467, D(x) : 0.80, D(G(z)) : 0.08\n",
            "Saving  fake_images-0056.png\n",
            "Epoch [56/251], Step : [200/600], d_loss : 0.4426, g_loss : 2.2183, D(x) : 0.84, D(G(z)) : 0.16\n",
            "Epoch [56/251], Step : [400/600], d_loss : 0.7737, g_loss : 3.4828, D(x) : 0.70, D(G(z)) : 0.07\n",
            "Epoch [56/251], Step : [600/600], d_loss : 0.5197, g_loss : 2.4477, D(x) : 0.84, D(G(z)) : 0.16\n",
            "Saving  fake_images-0057.png\n",
            "Epoch [57/251], Step : [200/600], d_loss : 0.4352, g_loss : 3.0836, D(x) : 0.90, D(G(z)) : 0.22\n",
            "Epoch [57/251], Step : [400/600], d_loss : 0.6243, g_loss : 2.1490, D(x) : 0.84, D(G(z)) : 0.23\n",
            "Epoch [57/251], Step : [600/600], d_loss : 0.4848, g_loss : 2.4036, D(x) : 0.82, D(G(z)) : 0.14\n",
            "Saving  fake_images-0058.png\n",
            "Epoch [58/251], Step : [200/600], d_loss : 0.5305, g_loss : 2.1672, D(x) : 0.88, D(G(z)) : 0.25\n",
            "Epoch [58/251], Step : [400/600], d_loss : 0.6217, g_loss : 2.3063, D(x) : 0.80, D(G(z)) : 0.22\n",
            "Epoch [58/251], Step : [600/600], d_loss : 0.4506, g_loss : 2.4300, D(x) : 0.83, D(G(z)) : 0.15\n",
            "Saving  fake_images-0059.png\n",
            "Epoch [59/251], Step : [200/600], d_loss : 0.6717, g_loss : 2.5588, D(x) : 0.75, D(G(z)) : 0.20\n",
            "Epoch [59/251], Step : [400/600], d_loss : 0.7617, g_loss : 2.1802, D(x) : 0.82, D(G(z)) : 0.31\n",
            "Epoch [59/251], Step : [600/600], d_loss : 0.6400, g_loss : 2.1902, D(x) : 0.80, D(G(z)) : 0.20\n",
            "Saving  fake_images-0060.png\n",
            "Epoch [60/251], Step : [200/600], d_loss : 0.5554, g_loss : 1.8862, D(x) : 0.79, D(G(z)) : 0.17\n",
            "Epoch [60/251], Step : [400/600], d_loss : 0.6693, g_loss : 2.1923, D(x) : 0.78, D(G(z)) : 0.21\n",
            "Epoch [60/251], Step : [600/600], d_loss : 0.6594, g_loss : 2.1700, D(x) : 0.79, D(G(z)) : 0.23\n",
            "Saving  fake_images-0061.png\n",
            "Epoch [61/251], Step : [200/600], d_loss : 0.9243, g_loss : 1.9014, D(x) : 0.72, D(G(z)) : 0.25\n",
            "Epoch [61/251], Step : [400/600], d_loss : 0.5365, g_loss : 2.0912, D(x) : 0.81, D(G(z)) : 0.19\n",
            "Epoch [61/251], Step : [600/600], d_loss : 0.6427, g_loss : 2.1995, D(x) : 0.82, D(G(z)) : 0.24\n",
            "Saving  fake_images-0062.png\n",
            "Epoch [62/251], Step : [200/600], d_loss : 0.8562, g_loss : 2.1629, D(x) : 0.84, D(G(z)) : 0.38\n",
            "Epoch [62/251], Step : [400/600], d_loss : 0.7653, g_loss : 2.6965, D(x) : 0.71, D(G(z)) : 0.15\n",
            "Epoch [62/251], Step : [600/600], d_loss : 0.5335, g_loss : 2.9639, D(x) : 0.83, D(G(z)) : 0.20\n",
            "Saving  fake_images-0063.png\n",
            "Epoch [63/251], Step : [200/600], d_loss : 0.7761, g_loss : 1.6530, D(x) : 0.69, D(G(z)) : 0.15\n",
            "Epoch [63/251], Step : [400/600], d_loss : 0.8287, g_loss : 2.2208, D(x) : 0.70, D(G(z)) : 0.23\n",
            "Epoch [63/251], Step : [600/600], d_loss : 0.6483, g_loss : 1.9531, D(x) : 0.80, D(G(z)) : 0.23\n",
            "Saving  fake_images-0064.png\n",
            "Epoch [64/251], Step : [200/600], d_loss : 0.7176, g_loss : 2.3875, D(x) : 0.76, D(G(z)) : 0.25\n",
            "Epoch [64/251], Step : [400/600], d_loss : 0.7415, g_loss : 2.0279, D(x) : 0.77, D(G(z)) : 0.21\n",
            "Epoch [64/251], Step : [600/600], d_loss : 0.7096, g_loss : 2.6954, D(x) : 0.74, D(G(z)) : 0.19\n",
            "Saving  fake_images-0065.png\n",
            "Epoch [65/251], Step : [200/600], d_loss : 0.4522, g_loss : 3.2553, D(x) : 0.83, D(G(z)) : 0.13\n",
            "Epoch [65/251], Step : [400/600], d_loss : 0.9475, g_loss : 2.0734, D(x) : 0.69, D(G(z)) : 0.23\n",
            "Epoch [65/251], Step : [600/600], d_loss : 0.6703, g_loss : 2.5074, D(x) : 0.81, D(G(z)) : 0.24\n",
            "Saving  fake_images-0066.png\n",
            "Epoch [66/251], Step : [200/600], d_loss : 0.5243, g_loss : 2.4148, D(x) : 0.83, D(G(z)) : 0.21\n",
            "Epoch [66/251], Step : [400/600], d_loss : 0.8454, g_loss : 2.1145, D(x) : 0.81, D(G(z)) : 0.32\n",
            "Epoch [66/251], Step : [600/600], d_loss : 0.8043, g_loss : 2.3350, D(x) : 0.75, D(G(z)) : 0.17\n",
            "Saving  fake_images-0067.png\n",
            "Epoch [67/251], Step : [200/600], d_loss : 0.8054, g_loss : 2.3842, D(x) : 0.73, D(G(z)) : 0.20\n",
            "Epoch [67/251], Step : [400/600], d_loss : 0.9227, g_loss : 2.5008, D(x) : 0.72, D(G(z)) : 0.22\n",
            "Epoch [67/251], Step : [600/600], d_loss : 0.4312, g_loss : 3.0738, D(x) : 0.85, D(G(z)) : 0.16\n",
            "Saving  fake_images-0068.png\n",
            "Epoch [68/251], Step : [200/600], d_loss : 0.6978, g_loss : 1.9080, D(x) : 0.81, D(G(z)) : 0.28\n",
            "Epoch [68/251], Step : [400/600], d_loss : 0.7118, g_loss : 2.5239, D(x) : 0.73, D(G(z)) : 0.18\n",
            "Epoch [68/251], Step : [600/600], d_loss : 0.5663, g_loss : 2.8154, D(x) : 0.76, D(G(z)) : 0.14\n",
            "Saving  fake_images-0069.png\n",
            "Epoch [69/251], Step : [200/600], d_loss : 0.4550, g_loss : 2.7394, D(x) : 0.83, D(G(z)) : 0.17\n",
            "Epoch [69/251], Step : [400/600], d_loss : 0.7421, g_loss : 1.9656, D(x) : 0.78, D(G(z)) : 0.26\n",
            "Epoch [69/251], Step : [600/600], d_loss : 0.8141, g_loss : 2.0307, D(x) : 0.82, D(G(z)) : 0.34\n",
            "Saving  fake_images-0070.png\n",
            "Epoch [70/251], Step : [200/600], d_loss : 0.7876, g_loss : 1.9010, D(x) : 0.75, D(G(z)) : 0.23\n",
            "Epoch [70/251], Step : [400/600], d_loss : 0.6882, g_loss : 2.1773, D(x) : 0.77, D(G(z)) : 0.24\n",
            "Epoch [70/251], Step : [600/600], d_loss : 0.6740, g_loss : 2.1273, D(x) : 0.80, D(G(z)) : 0.24\n",
            "Saving  fake_images-0071.png\n",
            "Epoch [71/251], Step : [200/600], d_loss : 0.6141, g_loss : 2.2695, D(x) : 0.78, D(G(z)) : 0.18\n",
            "Epoch [71/251], Step : [400/600], d_loss : 0.9363, g_loss : 2.1375, D(x) : 0.61, D(G(z)) : 0.17\n",
            "Epoch [71/251], Step : [600/600], d_loss : 0.7529, g_loss : 1.8387, D(x) : 0.81, D(G(z)) : 0.32\n",
            "Saving  fake_images-0072.png\n",
            "Epoch [72/251], Step : [200/600], d_loss : 0.7305, g_loss : 2.9369, D(x) : 0.78, D(G(z)) : 0.21\n",
            "Epoch [72/251], Step : [400/600], d_loss : 0.7073, g_loss : 1.6860, D(x) : 0.75, D(G(z)) : 0.21\n",
            "Epoch [72/251], Step : [600/600], d_loss : 0.8181, g_loss : 2.1832, D(x) : 0.71, D(G(z)) : 0.21\n",
            "Saving  fake_images-0073.png\n",
            "Epoch [73/251], Step : [200/600], d_loss : 0.8418, g_loss : 1.8513, D(x) : 0.76, D(G(z)) : 0.31\n",
            "Epoch [73/251], Step : [400/600], d_loss : 0.8447, g_loss : 2.3548, D(x) : 0.76, D(G(z)) : 0.26\n",
            "Epoch [73/251], Step : [600/600], d_loss : 0.7383, g_loss : 1.6870, D(x) : 0.73, D(G(z)) : 0.20\n",
            "Saving  fake_images-0074.png\n",
            "Epoch [74/251], Step : [200/600], d_loss : 0.7636, g_loss : 1.6135, D(x) : 0.81, D(G(z)) : 0.28\n",
            "Epoch [74/251], Step : [400/600], d_loss : 0.8836, g_loss : 1.7137, D(x) : 0.76, D(G(z)) : 0.32\n",
            "Epoch [74/251], Step : [600/600], d_loss : 0.5469, g_loss : 2.6764, D(x) : 0.84, D(G(z)) : 0.16\n",
            "Saving  fake_images-0075.png\n",
            "Epoch [75/251], Step : [200/600], d_loss : 0.7076, g_loss : 2.3639, D(x) : 0.74, D(G(z)) : 0.21\n",
            "Epoch [75/251], Step : [400/600], d_loss : 0.6337, g_loss : 2.2259, D(x) : 0.76, D(G(z)) : 0.15\n",
            "Epoch [75/251], Step : [600/600], d_loss : 0.7369, g_loss : 2.1794, D(x) : 0.71, D(G(z)) : 0.19\n",
            "Saving  fake_images-0076.png\n",
            "Epoch [76/251], Step : [200/600], d_loss : 0.6500, g_loss : 2.5359, D(x) : 0.73, D(G(z)) : 0.15\n",
            "Epoch [76/251], Step : [400/600], d_loss : 0.6746, g_loss : 1.8876, D(x) : 0.78, D(G(z)) : 0.26\n",
            "Epoch [76/251], Step : [600/600], d_loss : 1.0642, g_loss : 1.6366, D(x) : 0.75, D(G(z)) : 0.39\n",
            "Saving  fake_images-0077.png\n",
            "Epoch [77/251], Step : [200/600], d_loss : 0.8380, g_loss : 2.0420, D(x) : 0.71, D(G(z)) : 0.23\n",
            "Epoch [77/251], Step : [400/600], d_loss : 0.7010, g_loss : 2.1067, D(x) : 0.80, D(G(z)) : 0.27\n",
            "Epoch [77/251], Step : [600/600], d_loss : 0.6835, g_loss : 1.4060, D(x) : 0.78, D(G(z)) : 0.25\n",
            "Saving  fake_images-0078.png\n",
            "Epoch [78/251], Step : [200/600], d_loss : 0.6982, g_loss : 1.6461, D(x) : 0.84, D(G(z)) : 0.30\n",
            "Epoch [78/251], Step : [400/600], d_loss : 0.7056, g_loss : 2.9240, D(x) : 0.69, D(G(z)) : 0.13\n",
            "Epoch [78/251], Step : [600/600], d_loss : 0.7051, g_loss : 2.3420, D(x) : 0.85, D(G(z)) : 0.27\n",
            "Saving  fake_images-0079.png\n",
            "Epoch [79/251], Step : [200/600], d_loss : 0.6415, g_loss : 2.2635, D(x) : 0.75, D(G(z)) : 0.20\n",
            "Epoch [79/251], Step : [400/600], d_loss : 0.7597, g_loss : 2.3657, D(x) : 0.78, D(G(z)) : 0.26\n",
            "Epoch [79/251], Step : [600/600], d_loss : 0.4822, g_loss : 2.6080, D(x) : 0.86, D(G(z)) : 0.21\n",
            "Saving  fake_images-0080.png\n",
            "Epoch [80/251], Step : [200/600], d_loss : 0.5956, g_loss : 1.9710, D(x) : 0.79, D(G(z)) : 0.21\n",
            "Epoch [80/251], Step : [400/600], d_loss : 0.7176, g_loss : 1.5880, D(x) : 0.77, D(G(z)) : 0.22\n",
            "Epoch [80/251], Step : [600/600], d_loss : 0.8149, g_loss : 1.9208, D(x) : 0.79, D(G(z)) : 0.32\n",
            "Saving  fake_images-0081.png\n",
            "Epoch [81/251], Step : [200/600], d_loss : 0.9113, g_loss : 1.3130, D(x) : 0.79, D(G(z)) : 0.36\n",
            "Epoch [81/251], Step : [400/600], d_loss : 0.7371, g_loss : 2.0286, D(x) : 0.77, D(G(z)) : 0.25\n",
            "Epoch [81/251], Step : [600/600], d_loss : 0.6790, g_loss : 1.8418, D(x) : 0.82, D(G(z)) : 0.30\n",
            "Saving  fake_images-0082.png\n",
            "Epoch [82/251], Step : [200/600], d_loss : 0.7504, g_loss : 2.2743, D(x) : 0.69, D(G(z)) : 0.14\n",
            "Epoch [82/251], Step : [400/600], d_loss : 0.7759, g_loss : 2.3226, D(x) : 0.79, D(G(z)) : 0.30\n",
            "Epoch [82/251], Step : [600/600], d_loss : 0.6902, g_loss : 1.6153, D(x) : 0.80, D(G(z)) : 0.24\n",
            "Saving  fake_images-0083.png\n",
            "Epoch [83/251], Step : [200/600], d_loss : 0.5584, g_loss : 2.8021, D(x) : 0.79, D(G(z)) : 0.17\n",
            "Epoch [83/251], Step : [400/600], d_loss : 0.7262, g_loss : 2.0179, D(x) : 0.76, D(G(z)) : 0.25\n",
            "Epoch [83/251], Step : [600/600], d_loss : 0.7558, g_loss : 2.0324, D(x) : 0.76, D(G(z)) : 0.24\n",
            "Saving  fake_images-0084.png\n",
            "Epoch [84/251], Step : [200/600], d_loss : 0.6697, g_loss : 2.3061, D(x) : 0.74, D(G(z)) : 0.19\n",
            "Epoch [84/251], Step : [400/600], d_loss : 0.7160, g_loss : 2.0127, D(x) : 0.81, D(G(z)) : 0.29\n",
            "Epoch [84/251], Step : [600/600], d_loss : 0.7677, g_loss : 1.5976, D(x) : 0.67, D(G(z)) : 0.15\n",
            "Saving  fake_images-0085.png\n",
            "Epoch [85/251], Step : [200/600], d_loss : 0.6641, g_loss : 2.3171, D(x) : 0.75, D(G(z)) : 0.17\n",
            "Epoch [85/251], Step : [400/600], d_loss : 0.6088, g_loss : 2.3031, D(x) : 0.78, D(G(z)) : 0.19\n",
            "Epoch [85/251], Step : [600/600], d_loss : 0.9603, g_loss : 1.7597, D(x) : 0.78, D(G(z)) : 0.34\n",
            "Saving  fake_images-0086.png\n",
            "Epoch [86/251], Step : [200/600], d_loss : 0.8588, g_loss : 2.2001, D(x) : 0.71, D(G(z)) : 0.21\n",
            "Epoch [86/251], Step : [400/600], d_loss : 0.6917, g_loss : 2.9699, D(x) : 0.71, D(G(z)) : 0.13\n",
            "Epoch [86/251], Step : [600/600], d_loss : 0.8015, g_loss : 1.9023, D(x) : 0.78, D(G(z)) : 0.32\n",
            "Saving  fake_images-0087.png\n",
            "Epoch [87/251], Step : [200/600], d_loss : 0.9243, g_loss : 1.8504, D(x) : 0.71, D(G(z)) : 0.28\n",
            "Epoch [87/251], Step : [400/600], d_loss : 0.9851, g_loss : 1.5959, D(x) : 0.79, D(G(z)) : 0.38\n",
            "Epoch [87/251], Step : [600/600], d_loss : 0.9258, g_loss : 1.6697, D(x) : 0.81, D(G(z)) : 0.39\n",
            "Saving  fake_images-0088.png\n",
            "Epoch [88/251], Step : [200/600], d_loss : 0.7771, g_loss : 1.5472, D(x) : 0.79, D(G(z)) : 0.31\n",
            "Epoch [88/251], Step : [400/600], d_loss : 0.7697, g_loss : 1.6458, D(x) : 0.72, D(G(z)) : 0.24\n",
            "Epoch [88/251], Step : [600/600], d_loss : 0.7845, g_loss : 2.0311, D(x) : 0.74, D(G(z)) : 0.26\n",
            "Saving  fake_images-0089.png\n",
            "Epoch [89/251], Step : [200/600], d_loss : 0.6996, g_loss : 2.0725, D(x) : 0.75, D(G(z)) : 0.20\n",
            "Epoch [89/251], Step : [400/600], d_loss : 1.2302, g_loss : 1.3741, D(x) : 0.71, D(G(z)) : 0.40\n",
            "Epoch [89/251], Step : [600/600], d_loss : 0.7119, g_loss : 2.0422, D(x) : 0.77, D(G(z)) : 0.22\n",
            "Saving  fake_images-0090.png\n",
            "Epoch [90/251], Step : [200/600], d_loss : 0.5689, g_loss : 2.2642, D(x) : 0.82, D(G(z)) : 0.21\n",
            "Epoch [90/251], Step : [400/600], d_loss : 1.0063, g_loss : 1.7259, D(x) : 0.70, D(G(z)) : 0.33\n",
            "Epoch [90/251], Step : [600/600], d_loss : 0.7572, g_loss : 1.7267, D(x) : 0.77, D(G(z)) : 0.26\n",
            "Saving  fake_images-0091.png\n",
            "Epoch [91/251], Step : [200/600], d_loss : 1.0962, g_loss : 1.6226, D(x) : 0.74, D(G(z)) : 0.36\n",
            "Epoch [91/251], Step : [400/600], d_loss : 0.7034, g_loss : 1.7684, D(x) : 0.68, D(G(z)) : 0.16\n",
            "Epoch [91/251], Step : [600/600], d_loss : 0.8316, g_loss : 1.9021, D(x) : 0.71, D(G(z)) : 0.23\n",
            "Saving  fake_images-0092.png\n",
            "Epoch [92/251], Step : [200/600], d_loss : 1.0913, g_loss : 2.1143, D(x) : 0.58, D(G(z)) : 0.22\n",
            "Epoch [92/251], Step : [400/600], d_loss : 0.7261, g_loss : 1.8885, D(x) : 0.86, D(G(z)) : 0.33\n",
            "Epoch [92/251], Step : [600/600], d_loss : 0.7700, g_loss : 1.8911, D(x) : 0.77, D(G(z)) : 0.26\n",
            "Saving  fake_images-0093.png\n",
            "Epoch [93/251], Step : [200/600], d_loss : 0.7691, g_loss : 2.1512, D(x) : 0.80, D(G(z)) : 0.31\n",
            "Epoch [93/251], Step : [400/600], d_loss : 1.0413, g_loss : 1.4126, D(x) : 0.77, D(G(z)) : 0.38\n",
            "Epoch [93/251], Step : [600/600], d_loss : 0.7113, g_loss : 1.9473, D(x) : 0.73, D(G(z)) : 0.16\n",
            "Saving  fake_images-0094.png\n",
            "Epoch [94/251], Step : [200/600], d_loss : 0.9310, g_loss : 1.6958, D(x) : 0.79, D(G(z)) : 0.37\n",
            "Epoch [94/251], Step : [400/600], d_loss : 0.7344, g_loss : 2.3451, D(x) : 0.74, D(G(z)) : 0.24\n",
            "Epoch [94/251], Step : [600/600], d_loss : 0.8371, g_loss : 2.2251, D(x) : 0.82, D(G(z)) : 0.33\n",
            "Saving  fake_images-0095.png\n",
            "Epoch [95/251], Step : [200/600], d_loss : 0.7138, g_loss : 2.1972, D(x) : 0.82, D(G(z)) : 0.30\n",
            "Epoch [95/251], Step : [400/600], d_loss : 0.9016, g_loss : 1.7626, D(x) : 0.71, D(G(z)) : 0.28\n",
            "Epoch [95/251], Step : [600/600], d_loss : 0.9596, g_loss : 2.0198, D(x) : 0.63, D(G(z)) : 0.25\n",
            "Saving  fake_images-0096.png\n",
            "Epoch [96/251], Step : [200/600], d_loss : 0.7405, g_loss : 1.8517, D(x) : 0.76, D(G(z)) : 0.27\n",
            "Epoch [96/251], Step : [400/600], d_loss : 0.8094, g_loss : 1.9234, D(x) : 0.75, D(G(z)) : 0.26\n",
            "Epoch [96/251], Step : [600/600], d_loss : 0.8643, g_loss : 1.4972, D(x) : 0.71, D(G(z)) : 0.28\n",
            "Saving  fake_images-0097.png\n",
            "Epoch [97/251], Step : [200/600], d_loss : 1.0333, g_loss : 1.4285, D(x) : 0.72, D(G(z)) : 0.34\n",
            "Epoch [97/251], Step : [400/600], d_loss : 0.8444, g_loss : 1.2346, D(x) : 0.82, D(G(z)) : 0.39\n",
            "Epoch [97/251], Step : [600/600], d_loss : 0.5717, g_loss : 2.2646, D(x) : 0.78, D(G(z)) : 0.18\n",
            "Saving  fake_images-0098.png\n",
            "Epoch [98/251], Step : [200/600], d_loss : 0.6597, g_loss : 1.8989, D(x) : 0.79, D(G(z)) : 0.25\n",
            "Epoch [98/251], Step : [400/600], d_loss : 0.9081, g_loss : 1.8841, D(x) : 0.78, D(G(z)) : 0.36\n",
            "Epoch [98/251], Step : [600/600], d_loss : 0.6195, g_loss : 2.0963, D(x) : 0.78, D(G(z)) : 0.23\n",
            "Saving  fake_images-0099.png\n",
            "Epoch [99/251], Step : [200/600], d_loss : 0.8572, g_loss : 1.6082, D(x) : 0.71, D(G(z)) : 0.26\n",
            "Epoch [99/251], Step : [400/600], d_loss : 0.9078, g_loss : 1.6574, D(x) : 0.71, D(G(z)) : 0.31\n",
            "Epoch [99/251], Step : [600/600], d_loss : 0.7883, g_loss : 1.8776, D(x) : 0.69, D(G(z)) : 0.20\n",
            "Saving  fake_images-0100.png\n",
            "Epoch [100/251], Step : [200/600], d_loss : 0.8902, g_loss : 1.9810, D(x) : 0.71, D(G(z)) : 0.26\n",
            "Epoch [100/251], Step : [400/600], d_loss : 0.9847, g_loss : 1.8202, D(x) : 0.70, D(G(z)) : 0.31\n",
            "Epoch [100/251], Step : [600/600], d_loss : 0.7024, g_loss : 2.0741, D(x) : 0.82, D(G(z)) : 0.30\n",
            "Saving  fake_images-0101.png\n",
            "Epoch [101/251], Step : [200/600], d_loss : 0.5895, g_loss : 2.1064, D(x) : 0.76, D(G(z)) : 0.17\n",
            "Epoch [101/251], Step : [400/600], d_loss : 0.8136, g_loss : 1.4942, D(x) : 0.77, D(G(z)) : 0.28\n",
            "Epoch [101/251], Step : [600/600], d_loss : 0.6864, g_loss : 1.6360, D(x) : 0.73, D(G(z)) : 0.20\n",
            "Saving  fake_images-0102.png\n",
            "Epoch [102/251], Step : [200/600], d_loss : 0.9196, g_loss : 1.7969, D(x) : 0.75, D(G(z)) : 0.31\n",
            "Epoch [102/251], Step : [400/600], d_loss : 0.7347, g_loss : 1.9661, D(x) : 0.73, D(G(z)) : 0.21\n",
            "Epoch [102/251], Step : [600/600], d_loss : 0.9045, g_loss : 1.6363, D(x) : 0.67, D(G(z)) : 0.26\n",
            "Saving  fake_images-0103.png\n",
            "Epoch [103/251], Step : [200/600], d_loss : 0.8827, g_loss : 1.3334, D(x) : 0.72, D(G(z)) : 0.28\n",
            "Epoch [103/251], Step : [400/600], d_loss : 0.6175, g_loss : 2.3272, D(x) : 0.76, D(G(z)) : 0.19\n",
            "Epoch [103/251], Step : [600/600], d_loss : 0.8159, g_loss : 1.5188, D(x) : 0.71, D(G(z)) : 0.25\n",
            "Saving  fake_images-0104.png\n",
            "Epoch [104/251], Step : [200/600], d_loss : 0.7197, g_loss : 1.8066, D(x) : 0.66, D(G(z)) : 0.14\n",
            "Epoch [104/251], Step : [400/600], d_loss : 0.9693, g_loss : 1.7916, D(x) : 0.72, D(G(z)) : 0.33\n",
            "Epoch [104/251], Step : [600/600], d_loss : 0.9100, g_loss : 1.9846, D(x) : 0.79, D(G(z)) : 0.33\n",
            "Saving  fake_images-0105.png\n",
            "Epoch [105/251], Step : [200/600], d_loss : 0.7596, g_loss : 1.8130, D(x) : 0.73, D(G(z)) : 0.24\n",
            "Epoch [105/251], Step : [400/600], d_loss : 0.8542, g_loss : 2.4773, D(x) : 0.68, D(G(z)) : 0.22\n",
            "Epoch [105/251], Step : [600/600], d_loss : 1.0497, g_loss : 2.0107, D(x) : 0.65, D(G(z)) : 0.27\n",
            "Saving  fake_images-0106.png\n",
            "Epoch [106/251], Step : [200/600], d_loss : 0.8500, g_loss : 2.0474, D(x) : 0.80, D(G(z)) : 0.33\n",
            "Epoch [106/251], Step : [400/600], d_loss : 0.8560, g_loss : 1.5773, D(x) : 0.74, D(G(z)) : 0.30\n",
            "Epoch [106/251], Step : [600/600], d_loss : 0.9446, g_loss : 1.5611, D(x) : 0.67, D(G(z)) : 0.25\n",
            "Saving  fake_images-0107.png\n",
            "Epoch [107/251], Step : [200/600], d_loss : 0.9086, g_loss : 1.9210, D(x) : 0.71, D(G(z)) : 0.30\n",
            "Epoch [107/251], Step : [400/600], d_loss : 1.1143, g_loss : 2.0212, D(x) : 0.67, D(G(z)) : 0.33\n",
            "Epoch [107/251], Step : [600/600], d_loss : 0.8718, g_loss : 1.7651, D(x) : 0.70, D(G(z)) : 0.25\n",
            "Saving  fake_images-0108.png\n",
            "Epoch [108/251], Step : [200/600], d_loss : 0.9051, g_loss : 2.0259, D(x) : 0.73, D(G(z)) : 0.30\n",
            "Epoch [108/251], Step : [400/600], d_loss : 0.8063, g_loss : 1.4838, D(x) : 0.79, D(G(z)) : 0.31\n",
            "Epoch [108/251], Step : [600/600], d_loss : 0.8346, g_loss : 1.3056, D(x) : 0.77, D(G(z)) : 0.32\n",
            "Saving  fake_images-0109.png\n",
            "Epoch [109/251], Step : [200/600], d_loss : 1.0563, g_loss : 1.4997, D(x) : 0.72, D(G(z)) : 0.37\n",
            "Epoch [109/251], Step : [400/600], d_loss : 0.7664, g_loss : 1.8330, D(x) : 0.78, D(G(z)) : 0.27\n",
            "Epoch [109/251], Step : [600/600], d_loss : 0.6054, g_loss : 2.1651, D(x) : 0.81, D(G(z)) : 0.25\n",
            "Saving  fake_images-0110.png\n",
            "Epoch [110/251], Step : [200/600], d_loss : 0.7275, g_loss : 1.4191, D(x) : 0.75, D(G(z)) : 0.26\n",
            "Epoch [110/251], Step : [400/600], d_loss : 0.8681, g_loss : 1.8027, D(x) : 0.69, D(G(z)) : 0.25\n",
            "Epoch [110/251], Step : [600/600], d_loss : 0.9752, g_loss : 1.9424, D(x) : 0.59, D(G(z)) : 0.17\n",
            "Saving  fake_images-0111.png\n",
            "Epoch [111/251], Step : [200/600], d_loss : 0.9231, g_loss : 1.6478, D(x) : 0.72, D(G(z)) : 0.28\n",
            "Epoch [111/251], Step : [400/600], d_loss : 0.7513, g_loss : 1.6151, D(x) : 0.73, D(G(z)) : 0.24\n",
            "Epoch [111/251], Step : [600/600], d_loss : 1.1732, g_loss : 1.6537, D(x) : 0.64, D(G(z)) : 0.35\n",
            "Saving  fake_images-0112.png\n",
            "Epoch [112/251], Step : [200/600], d_loss : 0.7402, g_loss : 2.0016, D(x) : 0.78, D(G(z)) : 0.29\n",
            "Epoch [112/251], Step : [400/600], d_loss : 0.8334, g_loss : 1.1778, D(x) : 0.83, D(G(z)) : 0.36\n",
            "Epoch [112/251], Step : [600/600], d_loss : 0.7164, g_loss : 1.7633, D(x) : 0.74, D(G(z)) : 0.21\n",
            "Saving  fake_images-0113.png\n",
            "Epoch [113/251], Step : [200/600], d_loss : 0.7517, g_loss : 2.2498, D(x) : 0.77, D(G(z)) : 0.29\n",
            "Epoch [113/251], Step : [400/600], d_loss : 0.9093, g_loss : 1.5979, D(x) : 0.73, D(G(z)) : 0.31\n",
            "Epoch [113/251], Step : [600/600], d_loss : 0.9457, g_loss : 1.3670, D(x) : 0.66, D(G(z)) : 0.26\n",
            "Saving  fake_images-0114.png\n",
            "Epoch [114/251], Step : [200/600], d_loss : 1.0084, g_loss : 1.9195, D(x) : 0.65, D(G(z)) : 0.22\n",
            "Epoch [114/251], Step : [400/600], d_loss : 0.6707, g_loss : 1.5099, D(x) : 0.79, D(G(z)) : 0.27\n",
            "Epoch [114/251], Step : [600/600], d_loss : 0.9057, g_loss : 1.5564, D(x) : 0.75, D(G(z)) : 0.34\n",
            "Saving  fake_images-0115.png\n",
            "Epoch [115/251], Step : [200/600], d_loss : 0.7760, g_loss : 1.8814, D(x) : 0.69, D(G(z)) : 0.19\n",
            "Epoch [115/251], Step : [400/600], d_loss : 0.8681, g_loss : 1.4980, D(x) : 0.72, D(G(z)) : 0.28\n",
            "Epoch [115/251], Step : [600/600], d_loss : 0.7288, g_loss : 1.4045, D(x) : 0.71, D(G(z)) : 0.21\n",
            "Saving  fake_images-0116.png\n",
            "Epoch [116/251], Step : [200/600], d_loss : 0.8221, g_loss : 2.0358, D(x) : 0.74, D(G(z)) : 0.27\n",
            "Epoch [116/251], Step : [400/600], d_loss : 0.8828, g_loss : 1.8251, D(x) : 0.71, D(G(z)) : 0.26\n",
            "Epoch [116/251], Step : [600/600], d_loss : 0.7224, g_loss : 1.6422, D(x) : 0.75, D(G(z)) : 0.26\n",
            "Saving  fake_images-0117.png\n",
            "Epoch [117/251], Step : [200/600], d_loss : 0.9411, g_loss : 1.3337, D(x) : 0.74, D(G(z)) : 0.35\n",
            "Epoch [117/251], Step : [400/600], d_loss : 0.7408, g_loss : 1.6328, D(x) : 0.75, D(G(z)) : 0.28\n",
            "Epoch [117/251], Step : [600/600], d_loss : 0.8017, g_loss : 1.7665, D(x) : 0.74, D(G(z)) : 0.27\n",
            "Saving  fake_images-0118.png\n",
            "Epoch [118/251], Step : [200/600], d_loss : 1.0670, g_loss : 1.6043, D(x) : 0.73, D(G(z)) : 0.38\n",
            "Epoch [118/251], Step : [400/600], d_loss : 0.8642, g_loss : 1.7337, D(x) : 0.67, D(G(z)) : 0.23\n",
            "Epoch [118/251], Step : [600/600], d_loss : 0.6610, g_loss : 2.0584, D(x) : 0.78, D(G(z)) : 0.23\n",
            "Saving  fake_images-0119.png\n",
            "Epoch [119/251], Step : [200/600], d_loss : 0.9471, g_loss : 1.9019, D(x) : 0.64, D(G(z)) : 0.24\n",
            "Epoch [119/251], Step : [400/600], d_loss : 0.9372, g_loss : 1.8443, D(x) : 0.72, D(G(z)) : 0.31\n",
            "Epoch [119/251], Step : [600/600], d_loss : 0.9599, g_loss : 1.7097, D(x) : 0.73, D(G(z)) : 0.34\n",
            "Saving  fake_images-0120.png\n",
            "Epoch [120/251], Step : [200/600], d_loss : 0.6532, g_loss : 1.9603, D(x) : 0.80, D(G(z)) : 0.26\n",
            "Epoch [120/251], Step : [400/600], d_loss : 0.6819, g_loss : 2.2275, D(x) : 0.70, D(G(z)) : 0.16\n",
            "Epoch [120/251], Step : [600/600], d_loss : 0.9264, g_loss : 1.6968, D(x) : 0.72, D(G(z)) : 0.28\n",
            "Saving  fake_images-0121.png\n",
            "Epoch [121/251], Step : [200/600], d_loss : 0.9811, g_loss : 1.7385, D(x) : 0.67, D(G(z)) : 0.26\n",
            "Epoch [121/251], Step : [400/600], d_loss : 0.9644, g_loss : 2.0843, D(x) : 0.70, D(G(z)) : 0.29\n",
            "Epoch [121/251], Step : [600/600], d_loss : 0.9293, g_loss : 1.6253, D(x) : 0.69, D(G(z)) : 0.30\n",
            "Saving  fake_images-0122.png\n",
            "Epoch [122/251], Step : [200/600], d_loss : 1.1065, g_loss : 1.4860, D(x) : 0.66, D(G(z)) : 0.36\n",
            "Epoch [122/251], Step : [400/600], d_loss : 0.9390, g_loss : 1.7107, D(x) : 0.65, D(G(z)) : 0.25\n",
            "Epoch [122/251], Step : [600/600], d_loss : 0.9737, g_loss : 1.5350, D(x) : 0.70, D(G(z)) : 0.35\n",
            "Saving  fake_images-0123.png\n",
            "Epoch [123/251], Step : [200/600], d_loss : 0.7881, g_loss : 2.1288, D(x) : 0.79, D(G(z)) : 0.30\n",
            "Epoch [123/251], Step : [400/600], d_loss : 0.9342, g_loss : 1.7154, D(x) : 0.79, D(G(z)) : 0.40\n",
            "Epoch [123/251], Step : [600/600], d_loss : 0.8273, g_loss : 1.5288, D(x) : 0.71, D(G(z)) : 0.27\n",
            "Saving  fake_images-0124.png\n",
            "Epoch [124/251], Step : [200/600], d_loss : 0.6017, g_loss : 1.8898, D(x) : 0.77, D(G(z)) : 0.21\n",
            "Epoch [124/251], Step : [400/600], d_loss : 0.7735, g_loss : 1.7551, D(x) : 0.76, D(G(z)) : 0.30\n",
            "Epoch [124/251], Step : [600/600], d_loss : 1.0985, g_loss : 1.2404, D(x) : 0.66, D(G(z)) : 0.36\n",
            "Saving  fake_images-0125.png\n",
            "Epoch [125/251], Step : [200/600], d_loss : 0.7897, g_loss : 1.7228, D(x) : 0.70, D(G(z)) : 0.22\n",
            "Epoch [125/251], Step : [400/600], d_loss : 0.8469, g_loss : 1.5986, D(x) : 0.82, D(G(z)) : 0.40\n",
            "Epoch [125/251], Step : [600/600], d_loss : 1.0752, g_loss : 1.4437, D(x) : 0.70, D(G(z)) : 0.37\n",
            "Saving  fake_images-0126.png\n",
            "Epoch [126/251], Step : [200/600], d_loss : 0.8510, g_loss : 1.6093, D(x) : 0.80, D(G(z)) : 0.35\n",
            "Epoch [126/251], Step : [400/600], d_loss : 1.2183, g_loss : 1.5025, D(x) : 0.65, D(G(z)) : 0.37\n",
            "Epoch [126/251], Step : [600/600], d_loss : 0.6994, g_loss : 2.0105, D(x) : 0.75, D(G(z)) : 0.24\n",
            "Saving  fake_images-0127.png\n",
            "Epoch [127/251], Step : [200/600], d_loss : 1.0902, g_loss : 1.9217, D(x) : 0.61, D(G(z)) : 0.25\n",
            "Epoch [127/251], Step : [400/600], d_loss : 1.0554, g_loss : 1.3549, D(x) : 0.67, D(G(z)) : 0.31\n",
            "Epoch [127/251], Step : [600/600], d_loss : 0.8177, g_loss : 1.4875, D(x) : 0.77, D(G(z)) : 0.29\n",
            "Saving  fake_images-0128.png\n",
            "Epoch [128/251], Step : [200/600], d_loss : 0.7734, g_loss : 1.5313, D(x) : 0.79, D(G(z)) : 0.34\n",
            "Epoch [128/251], Step : [400/600], d_loss : 0.7933, g_loss : 1.4793, D(x) : 0.75, D(G(z)) : 0.30\n",
            "Epoch [128/251], Step : [600/600], d_loss : 0.9478, g_loss : 2.0827, D(x) : 0.68, D(G(z)) : 0.27\n",
            "Saving  fake_images-0129.png\n",
            "Epoch [129/251], Step : [200/600], d_loss : 0.7611, g_loss : 2.1246, D(x) : 0.72, D(G(z)) : 0.25\n",
            "Epoch [129/251], Step : [400/600], d_loss : 0.8370, g_loss : 1.6191, D(x) : 0.70, D(G(z)) : 0.26\n",
            "Epoch [129/251], Step : [600/600], d_loss : 0.7624, g_loss : 2.2753, D(x) : 0.71, D(G(z)) : 0.21\n",
            "Saving  fake_images-0130.png\n",
            "Epoch [130/251], Step : [200/600], d_loss : 1.0903, g_loss : 1.4489, D(x) : 0.69, D(G(z)) : 0.37\n",
            "Epoch [130/251], Step : [400/600], d_loss : 0.8734, g_loss : 2.2519, D(x) : 0.70, D(G(z)) : 0.27\n",
            "Epoch [130/251], Step : [600/600], d_loss : 0.8578, g_loss : 1.7133, D(x) : 0.72, D(G(z)) : 0.31\n",
            "Saving  fake_images-0131.png\n",
            "Epoch [131/251], Step : [200/600], d_loss : 0.7498, g_loss : 1.9245, D(x) : 0.72, D(G(z)) : 0.26\n",
            "Epoch [131/251], Step : [400/600], d_loss : 0.9392, g_loss : 1.8494, D(x) : 0.65, D(G(z)) : 0.24\n",
            "Epoch [131/251], Step : [600/600], d_loss : 0.8609, g_loss : 1.9397, D(x) : 0.69, D(G(z)) : 0.26\n",
            "Saving  fake_images-0132.png\n",
            "Epoch [132/251], Step : [200/600], d_loss : 0.7360, g_loss : 1.9230, D(x) : 0.71, D(G(z)) : 0.19\n",
            "Epoch [132/251], Step : [400/600], d_loss : 0.7912, g_loss : 2.0808, D(x) : 0.65, D(G(z)) : 0.18\n",
            "Epoch [132/251], Step : [600/600], d_loss : 0.8724, g_loss : 1.5892, D(x) : 0.64, D(G(z)) : 0.22\n",
            "Saving  fake_images-0133.png\n",
            "Epoch [133/251], Step : [200/600], d_loss : 0.9082, g_loss : 1.8876, D(x) : 0.70, D(G(z)) : 0.30\n",
            "Epoch [133/251], Step : [400/600], d_loss : 1.1806, g_loss : 1.3669, D(x) : 0.67, D(G(z)) : 0.40\n",
            "Epoch [133/251], Step : [600/600], d_loss : 1.0342, g_loss : 1.8998, D(x) : 0.59, D(G(z)) : 0.23\n",
            "Saving  fake_images-0134.png\n",
            "Epoch [134/251], Step : [200/600], d_loss : 0.8858, g_loss : 1.5179, D(x) : 0.72, D(G(z)) : 0.31\n",
            "Epoch [134/251], Step : [400/600], d_loss : 0.6353, g_loss : 2.1084, D(x) : 0.80, D(G(z)) : 0.25\n",
            "Epoch [134/251], Step : [600/600], d_loss : 0.8935, g_loss : 2.0480, D(x) : 0.68, D(G(z)) : 0.26\n",
            "Saving  fake_images-0135.png\n",
            "Epoch [135/251], Step : [200/600], d_loss : 1.1622, g_loss : 1.3487, D(x) : 0.55, D(G(z)) : 0.26\n",
            "Epoch [135/251], Step : [400/600], d_loss : 0.9248, g_loss : 1.6160, D(x) : 0.73, D(G(z)) : 0.35\n",
            "Epoch [135/251], Step : [600/600], d_loss : 1.0027, g_loss : 1.4666, D(x) : 0.72, D(G(z)) : 0.35\n",
            "Saving  fake_images-0136.png\n",
            "Epoch [136/251], Step : [200/600], d_loss : 0.9284, g_loss : 1.9722, D(x) : 0.64, D(G(z)) : 0.22\n",
            "Epoch [136/251], Step : [400/600], d_loss : 0.8815, g_loss : 1.4750, D(x) : 0.76, D(G(z)) : 0.34\n",
            "Epoch [136/251], Step : [600/600], d_loss : 1.0878, g_loss : 1.3412, D(x) : 0.67, D(G(z)) : 0.36\n",
            "Saving  fake_images-0137.png\n",
            "Epoch [137/251], Step : [200/600], d_loss : 0.8576, g_loss : 1.5923, D(x) : 0.70, D(G(z)) : 0.27\n",
            "Epoch [137/251], Step : [400/600], d_loss : 0.9751, g_loss : 1.5043, D(x) : 0.71, D(G(z)) : 0.34\n",
            "Epoch [137/251], Step : [600/600], d_loss : 0.7902, g_loss : 1.7513, D(x) : 0.76, D(G(z)) : 0.30\n",
            "Saving  fake_images-0138.png\n",
            "Epoch [138/251], Step : [200/600], d_loss : 0.8123, g_loss : 1.5415, D(x) : 0.81, D(G(z)) : 0.35\n",
            "Epoch [138/251], Step : [400/600], d_loss : 0.7452, g_loss : 1.8653, D(x) : 0.77, D(G(z)) : 0.26\n",
            "Epoch [138/251], Step : [600/600], d_loss : 0.9753, g_loss : 2.1927, D(x) : 0.70, D(G(z)) : 0.29\n",
            "Saving  fake_images-0139.png\n",
            "Epoch [139/251], Step : [200/600], d_loss : 1.0361, g_loss : 1.6433, D(x) : 0.62, D(G(z)) : 0.27\n",
            "Epoch [139/251], Step : [400/600], d_loss : 1.0405, g_loss : 1.5142, D(x) : 0.71, D(G(z)) : 0.39\n",
            "Epoch [139/251], Step : [600/600], d_loss : 0.8893, g_loss : 1.6737, D(x) : 0.71, D(G(z)) : 0.30\n",
            "Saving  fake_images-0140.png\n",
            "Epoch [140/251], Step : [200/600], d_loss : 0.6635, g_loss : 1.7031, D(x) : 0.76, D(G(z)) : 0.23\n",
            "Epoch [140/251], Step : [400/600], d_loss : 1.1033, g_loss : 1.5687, D(x) : 0.61, D(G(z)) : 0.29\n",
            "Epoch [140/251], Step : [600/600], d_loss : 1.1976, g_loss : 1.2217, D(x) : 0.65, D(G(z)) : 0.39\n",
            "Saving  fake_images-0141.png\n",
            "Epoch [141/251], Step : [200/600], d_loss : 0.9192, g_loss : 1.3003, D(x) : 0.77, D(G(z)) : 0.37\n",
            "Epoch [141/251], Step : [400/600], d_loss : 0.9189, g_loss : 1.7177, D(x) : 0.74, D(G(z)) : 0.35\n",
            "Epoch [141/251], Step : [600/600], d_loss : 0.9833, g_loss : 1.7171, D(x) : 0.67, D(G(z)) : 0.29\n",
            "Saving  fake_images-0142.png\n",
            "Epoch [142/251], Step : [200/600], d_loss : 0.9927, g_loss : 1.8321, D(x) : 0.69, D(G(z)) : 0.30\n",
            "Epoch [142/251], Step : [400/600], d_loss : 0.9461, g_loss : 2.0053, D(x) : 0.58, D(G(z)) : 0.15\n",
            "Epoch [142/251], Step : [600/600], d_loss : 0.9203, g_loss : 1.8534, D(x) : 0.69, D(G(z)) : 0.31\n",
            "Saving  fake_images-0143.png\n",
            "Epoch [143/251], Step : [200/600], d_loss : 0.8584, g_loss : 1.3874, D(x) : 0.73, D(G(z)) : 0.33\n",
            "Epoch [143/251], Step : [400/600], d_loss : 0.8417, g_loss : 1.8298, D(x) : 0.73, D(G(z)) : 0.31\n",
            "Epoch [143/251], Step : [600/600], d_loss : 0.8617, g_loss : 1.5086, D(x) : 0.76, D(G(z)) : 0.35\n",
            "Saving  fake_images-0144.png\n",
            "Epoch [144/251], Step : [200/600], d_loss : 1.0345, g_loss : 1.7590, D(x) : 0.61, D(G(z)) : 0.24\n",
            "Epoch [144/251], Step : [400/600], d_loss : 1.0807, g_loss : 1.3938, D(x) : 0.70, D(G(z)) : 0.38\n",
            "Epoch [144/251], Step : [600/600], d_loss : 0.8269, g_loss : 1.6935, D(x) : 0.70, D(G(z)) : 0.27\n",
            "Saving  fake_images-0145.png\n",
            "Epoch [145/251], Step : [200/600], d_loss : 0.8712, g_loss : 1.6286, D(x) : 0.70, D(G(z)) : 0.27\n",
            "Epoch [145/251], Step : [400/600], d_loss : 0.8958, g_loss : 1.3268, D(x) : 0.73, D(G(z)) : 0.33\n",
            "Epoch [145/251], Step : [600/600], d_loss : 1.2769, g_loss : 1.6024, D(x) : 0.56, D(G(z)) : 0.29\n",
            "Saving  fake_images-0146.png\n",
            "Epoch [146/251], Step : [200/600], d_loss : 0.9974, g_loss : 1.7197, D(x) : 0.71, D(G(z)) : 0.35\n",
            "Epoch [146/251], Step : [400/600], d_loss : 0.7649, g_loss : 1.9617, D(x) : 0.68, D(G(z)) : 0.19\n",
            "Epoch [146/251], Step : [600/600], d_loss : 0.8655, g_loss : 1.3769, D(x) : 0.71, D(G(z)) : 0.31\n",
            "Saving  fake_images-0147.png\n",
            "Epoch [147/251], Step : [200/600], d_loss : 1.0145, g_loss : 1.2932, D(x) : 0.71, D(G(z)) : 0.35\n",
            "Epoch [147/251], Step : [400/600], d_loss : 0.8773, g_loss : 1.6242, D(x) : 0.70, D(G(z)) : 0.27\n",
            "Epoch [147/251], Step : [600/600], d_loss : 1.1092, g_loss : 1.6067, D(x) : 0.62, D(G(z)) : 0.28\n",
            "Saving  fake_images-0148.png\n",
            "Epoch [148/251], Step : [200/600], d_loss : 0.9877, g_loss : 1.4555, D(x) : 0.73, D(G(z)) : 0.38\n",
            "Epoch [148/251], Step : [400/600], d_loss : 0.8251, g_loss : 1.6835, D(x) : 0.74, D(G(z)) : 0.30\n",
            "Epoch [148/251], Step : [600/600], d_loss : 0.8915, g_loss : 1.6854, D(x) : 0.69, D(G(z)) : 0.28\n",
            "Saving  fake_images-0149.png\n",
            "Epoch [149/251], Step : [200/600], d_loss : 0.9462, g_loss : 1.8786, D(x) : 0.61, D(G(z)) : 0.20\n",
            "Epoch [149/251], Step : [400/600], d_loss : 1.1904, g_loss : 1.1065, D(x) : 0.54, D(G(z)) : 0.24\n",
            "Epoch [149/251], Step : [600/600], d_loss : 0.8987, g_loss : 1.4653, D(x) : 0.73, D(G(z)) : 0.32\n",
            "Saving  fake_images-0150.png\n",
            "Epoch [150/251], Step : [200/600], d_loss : 1.0534, g_loss : 1.4370, D(x) : 0.70, D(G(z)) : 0.38\n",
            "Epoch [150/251], Step : [400/600], d_loss : 0.9995, g_loss : 1.5174, D(x) : 0.66, D(G(z)) : 0.30\n",
            "Epoch [150/251], Step : [600/600], d_loss : 0.9323, g_loss : 1.4607, D(x) : 0.70, D(G(z)) : 0.33\n",
            "Saving  fake_images-0151.png\n",
            "Epoch [151/251], Step : [200/600], d_loss : 0.9918, g_loss : 1.4347, D(x) : 0.66, D(G(z)) : 0.31\n",
            "Epoch [151/251], Step : [400/600], d_loss : 1.0132, g_loss : 1.4189, D(x) : 0.71, D(G(z)) : 0.35\n",
            "Epoch [151/251], Step : [600/600], d_loss : 0.9864, g_loss : 1.5453, D(x) : 0.69, D(G(z)) : 0.32\n",
            "Saving  fake_images-0152.png\n",
            "Epoch [152/251], Step : [200/600], d_loss : 0.9456, g_loss : 1.1475, D(x) : 0.72, D(G(z)) : 0.36\n",
            "Epoch [152/251], Step : [400/600], d_loss : 0.7808, g_loss : 1.8806, D(x) : 0.75, D(G(z)) : 0.28\n",
            "Epoch [152/251], Step : [600/600], d_loss : 0.7395, g_loss : 1.8408, D(x) : 0.74, D(G(z)) : 0.27\n",
            "Saving  fake_images-0153.png\n",
            "Epoch [153/251], Step : [200/600], d_loss : 0.7265, g_loss : 1.8989, D(x) : 0.81, D(G(z)) : 0.32\n",
            "Epoch [153/251], Step : [400/600], d_loss : 1.0203, g_loss : 1.7140, D(x) : 0.65, D(G(z)) : 0.30\n",
            "Epoch [153/251], Step : [600/600], d_loss : 0.8793, g_loss : 2.0502, D(x) : 0.80, D(G(z)) : 0.36\n",
            "Saving  fake_images-0154.png\n",
            "Epoch [154/251], Step : [200/600], d_loss : 1.0440, g_loss : 1.8693, D(x) : 0.56, D(G(z)) : 0.19\n",
            "Epoch [154/251], Step : [400/600], d_loss : 0.7311, g_loss : 1.5825, D(x) : 0.73, D(G(z)) : 0.25\n",
            "Epoch [154/251], Step : [600/600], d_loss : 0.9542, g_loss : 1.2790, D(x) : 0.73, D(G(z)) : 0.37\n",
            "Saving  fake_images-0155.png\n",
            "Epoch [155/251], Step : [200/600], d_loss : 0.8991, g_loss : 1.1501, D(x) : 0.71, D(G(z)) : 0.32\n",
            "Epoch [155/251], Step : [400/600], d_loss : 0.8459, g_loss : 1.8487, D(x) : 0.74, D(G(z)) : 0.33\n",
            "Epoch [155/251], Step : [600/600], d_loss : 0.9343, g_loss : 1.4878, D(x) : 0.70, D(G(z)) : 0.31\n",
            "Saving  fake_images-0156.png\n",
            "Epoch [156/251], Step : [200/600], d_loss : 0.8692, g_loss : 1.6966, D(x) : 0.73, D(G(z)) : 0.32\n",
            "Epoch [156/251], Step : [400/600], d_loss : 0.9211, g_loss : 1.3251, D(x) : 0.65, D(G(z)) : 0.28\n",
            "Epoch [156/251], Step : [600/600], d_loss : 1.2549, g_loss : 1.3728, D(x) : 0.74, D(G(z)) : 0.49\n",
            "Saving  fake_images-0157.png\n",
            "Epoch [157/251], Step : [200/600], d_loss : 1.0839, g_loss : 1.2440, D(x) : 0.67, D(G(z)) : 0.36\n",
            "Epoch [157/251], Step : [400/600], d_loss : 1.0852, g_loss : 1.3839, D(x) : 0.72, D(G(z)) : 0.40\n",
            "Epoch [157/251], Step : [600/600], d_loss : 1.1007, g_loss : 1.5191, D(x) : 0.61, D(G(z)) : 0.31\n",
            "Saving  fake_images-0158.png\n",
            "Epoch [158/251], Step : [200/600], d_loss : 1.0198, g_loss : 1.3538, D(x) : 0.72, D(G(z)) : 0.41\n",
            "Epoch [158/251], Step : [400/600], d_loss : 1.0315, g_loss : 1.1563, D(x) : 0.70, D(G(z)) : 0.35\n",
            "Epoch [158/251], Step : [600/600], d_loss : 1.0052, g_loss : 1.0967, D(x) : 0.69, D(G(z)) : 0.34\n",
            "Saving  fake_images-0159.png\n",
            "Epoch [159/251], Step : [200/600], d_loss : 0.8708, g_loss : 1.5277, D(x) : 0.70, D(G(z)) : 0.29\n",
            "Epoch [159/251], Step : [400/600], d_loss : 0.9756, g_loss : 1.5593, D(x) : 0.67, D(G(z)) : 0.27\n",
            "Epoch [159/251], Step : [600/600], d_loss : 1.0986, g_loss : 1.6603, D(x) : 0.62, D(G(z)) : 0.28\n",
            "Saving  fake_images-0160.png\n",
            "Epoch [160/251], Step : [200/600], d_loss : 0.9854, g_loss : 1.4982, D(x) : 0.63, D(G(z)) : 0.26\n",
            "Epoch [160/251], Step : [400/600], d_loss : 0.9171, g_loss : 1.4338, D(x) : 0.72, D(G(z)) : 0.32\n",
            "Epoch [160/251], Step : [600/600], d_loss : 1.0820, g_loss : 1.3933, D(x) : 0.74, D(G(z)) : 0.43\n",
            "Saving  fake_images-0161.png\n",
            "Epoch [161/251], Step : [200/600], d_loss : 0.9721, g_loss : 1.5139, D(x) : 0.65, D(G(z)) : 0.30\n",
            "Epoch [161/251], Step : [400/600], d_loss : 0.8814, g_loss : 1.7378, D(x) : 0.67, D(G(z)) : 0.27\n",
            "Epoch [161/251], Step : [600/600], d_loss : 0.9915, g_loss : 1.1780, D(x) : 0.72, D(G(z)) : 0.36\n",
            "Saving  fake_images-0162.png\n",
            "Epoch [162/251], Step : [200/600], d_loss : 0.7968, g_loss : 1.5332, D(x) : 0.71, D(G(z)) : 0.26\n",
            "Epoch [162/251], Step : [400/600], d_loss : 0.9008, g_loss : 1.6328, D(x) : 0.65, D(G(z)) : 0.26\n",
            "Epoch [162/251], Step : [600/600], d_loss : 0.9362, g_loss : 1.3969, D(x) : 0.69, D(G(z)) : 0.31\n",
            "Saving  fake_images-0163.png\n",
            "Epoch [163/251], Step : [200/600], d_loss : 1.0471, g_loss : 1.3879, D(x) : 0.72, D(G(z)) : 0.38\n",
            "Epoch [163/251], Step : [400/600], d_loss : 1.1213, g_loss : 1.4806, D(x) : 0.60, D(G(z)) : 0.31\n",
            "Epoch [163/251], Step : [600/600], d_loss : 0.8927, g_loss : 2.0347, D(x) : 0.67, D(G(z)) : 0.25\n",
            "Saving  fake_images-0164.png\n",
            "Epoch [164/251], Step : [200/600], d_loss : 0.9354, g_loss : 1.7900, D(x) : 0.62, D(G(z)) : 0.23\n",
            "Epoch [164/251], Step : [400/600], d_loss : 0.8879, g_loss : 1.6877, D(x) : 0.68, D(G(z)) : 0.28\n",
            "Epoch [164/251], Step : [600/600], d_loss : 1.0202, g_loss : 1.7059, D(x) : 0.68, D(G(z)) : 0.35\n",
            "Saving  fake_images-0165.png\n",
            "Epoch [165/251], Step : [200/600], d_loss : 0.9039, g_loss : 1.5120, D(x) : 0.68, D(G(z)) : 0.27\n",
            "Epoch [165/251], Step : [400/600], d_loss : 0.8674, g_loss : 1.4746, D(x) : 0.73, D(G(z)) : 0.30\n",
            "Epoch [165/251], Step : [600/600], d_loss : 0.9763, g_loss : 1.5199, D(x) : 0.68, D(G(z)) : 0.33\n",
            "Saving  fake_images-0166.png\n",
            "Epoch [166/251], Step : [200/600], d_loss : 0.8970, g_loss : 1.5249, D(x) : 0.78, D(G(z)) : 0.38\n",
            "Epoch [166/251], Step : [400/600], d_loss : 0.8018, g_loss : 2.1865, D(x) : 0.70, D(G(z)) : 0.24\n",
            "Epoch [166/251], Step : [600/600], d_loss : 0.9590, g_loss : 1.2646, D(x) : 0.72, D(G(z)) : 0.35\n",
            "Saving  fake_images-0167.png\n",
            "Epoch [167/251], Step : [200/600], d_loss : 0.9624, g_loss : 1.5403, D(x) : 0.68, D(G(z)) : 0.29\n",
            "Epoch [167/251], Step : [400/600], d_loss : 0.9312, g_loss : 1.3308, D(x) : 0.69, D(G(z)) : 0.32\n",
            "Epoch [167/251], Step : [600/600], d_loss : 1.0746, g_loss : 1.4513, D(x) : 0.63, D(G(z)) : 0.32\n",
            "Saving  fake_images-0168.png\n",
            "Epoch [168/251], Step : [200/600], d_loss : 0.7590, g_loss : 1.6607, D(x) : 0.75, D(G(z)) : 0.29\n",
            "Epoch [168/251], Step : [400/600], d_loss : 0.8676, g_loss : 1.6962, D(x) : 0.72, D(G(z)) : 0.32\n",
            "Epoch [168/251], Step : [600/600], d_loss : 0.8197, g_loss : 1.7448, D(x) : 0.69, D(G(z)) : 0.25\n",
            "Saving  fake_images-0169.png\n",
            "Epoch [169/251], Step : [200/600], d_loss : 0.9799, g_loss : 1.4597, D(x) : 0.70, D(G(z)) : 0.36\n",
            "Epoch [169/251], Step : [400/600], d_loss : 1.1475, g_loss : 1.9771, D(x) : 0.56, D(G(z)) : 0.25\n",
            "Epoch [169/251], Step : [600/600], d_loss : 1.2488, g_loss : 1.3566, D(x) : 0.63, D(G(z)) : 0.38\n",
            "Saving  fake_images-0170.png\n",
            "Epoch [170/251], Step : [200/600], d_loss : 1.0944, g_loss : 1.2659, D(x) : 0.67, D(G(z)) : 0.37\n",
            "Epoch [170/251], Step : [400/600], d_loss : 1.1527, g_loss : 1.5126, D(x) : 0.59, D(G(z)) : 0.31\n",
            "Epoch [170/251], Step : [600/600], d_loss : 0.8873, g_loss : 1.6953, D(x) : 0.66, D(G(z)) : 0.26\n",
            "Saving  fake_images-0171.png\n",
            "Epoch [171/251], Step : [200/600], d_loss : 0.9505, g_loss : 1.8310, D(x) : 0.66, D(G(z)) : 0.28\n",
            "Epoch [171/251], Step : [400/600], d_loss : 0.7924, g_loss : 1.5674, D(x) : 0.76, D(G(z)) : 0.32\n",
            "Epoch [171/251], Step : [600/600], d_loss : 1.1341, g_loss : 1.3306, D(x) : 0.64, D(G(z)) : 0.35\n",
            "Saving  fake_images-0172.png\n",
            "Epoch [172/251], Step : [200/600], d_loss : 1.1107, g_loss : 1.6623, D(x) : 0.64, D(G(z)) : 0.31\n",
            "Epoch [172/251], Step : [400/600], d_loss : 0.7843, g_loss : 1.4601, D(x) : 0.72, D(G(z)) : 0.27\n",
            "Epoch [172/251], Step : [600/600], d_loss : 0.8799, g_loss : 1.5369, D(x) : 0.73, D(G(z)) : 0.32\n",
            "Saving  fake_images-0173.png\n",
            "Epoch [173/251], Step : [200/600], d_loss : 1.0187, g_loss : 1.5503, D(x) : 0.69, D(G(z)) : 0.34\n",
            "Epoch [173/251], Step : [400/600], d_loss : 0.9170, g_loss : 1.4871, D(x) : 0.67, D(G(z)) : 0.24\n",
            "Epoch [173/251], Step : [600/600], d_loss : 1.0603, g_loss : 1.5920, D(x) : 0.67, D(G(z)) : 0.34\n",
            "Saving  fake_images-0174.png\n",
            "Epoch [174/251], Step : [200/600], d_loss : 0.8053, g_loss : 1.5597, D(x) : 0.70, D(G(z)) : 0.26\n",
            "Epoch [174/251], Step : [400/600], d_loss : 1.0575, g_loss : 1.4046, D(x) : 0.69, D(G(z)) : 0.36\n",
            "Epoch [174/251], Step : [600/600], d_loss : 0.9719, g_loss : 1.7486, D(x) : 0.74, D(G(z)) : 0.36\n",
            "Saving  fake_images-0175.png\n",
            "Epoch [175/251], Step : [200/600], d_loss : 0.9349, g_loss : 1.7155, D(x) : 0.62, D(G(z)) : 0.25\n",
            "Epoch [175/251], Step : [400/600], d_loss : 0.9250, g_loss : 1.6604, D(x) : 0.69, D(G(z)) : 0.30\n",
            "Epoch [175/251], Step : [600/600], d_loss : 1.0972, g_loss : 1.5001, D(x) : 0.56, D(G(z)) : 0.26\n",
            "Saving  fake_images-0176.png\n",
            "Epoch [176/251], Step : [200/600], d_loss : 0.9264, g_loss : 1.3478, D(x) : 0.73, D(G(z)) : 0.34\n",
            "Epoch [176/251], Step : [400/600], d_loss : 0.9896, g_loss : 1.5331, D(x) : 0.63, D(G(z)) : 0.28\n",
            "Epoch [176/251], Step : [600/600], d_loss : 0.9504, g_loss : 1.4148, D(x) : 0.65, D(G(z)) : 0.28\n",
            "Saving  fake_images-0177.png\n",
            "Epoch [177/251], Step : [200/600], d_loss : 0.7813, g_loss : 1.5471, D(x) : 0.72, D(G(z)) : 0.29\n",
            "Epoch [177/251], Step : [400/600], d_loss : 0.9421, g_loss : 1.9943, D(x) : 0.60, D(G(z)) : 0.21\n",
            "Epoch [177/251], Step : [600/600], d_loss : 1.1714, g_loss : 1.7097, D(x) : 0.60, D(G(z)) : 0.30\n",
            "Saving  fake_images-0178.png\n",
            "Epoch [178/251], Step : [200/600], d_loss : 1.1210, g_loss : 1.4305, D(x) : 0.61, D(G(z)) : 0.33\n",
            "Epoch [178/251], Step : [400/600], d_loss : 0.7894, g_loss : 1.3058, D(x) : 0.77, D(G(z)) : 0.33\n",
            "Epoch [178/251], Step : [600/600], d_loss : 1.0994, g_loss : 1.2707, D(x) : 0.66, D(G(z)) : 0.37\n",
            "Saving  fake_images-0179.png\n",
            "Epoch [179/251], Step : [200/600], d_loss : 1.0460, g_loss : 1.2327, D(x) : 0.68, D(G(z)) : 0.36\n",
            "Epoch [179/251], Step : [400/600], d_loss : 0.9235, g_loss : 1.6396, D(x) : 0.71, D(G(z)) : 0.32\n",
            "Epoch [179/251], Step : [600/600], d_loss : 0.9847, g_loss : 1.8531, D(x) : 0.63, D(G(z)) : 0.28\n",
            "Saving  fake_images-0180.png\n",
            "Epoch [180/251], Step : [200/600], d_loss : 1.0807, g_loss : 1.4803, D(x) : 0.63, D(G(z)) : 0.33\n",
            "Epoch [180/251], Step : [400/600], d_loss : 0.7914, g_loss : 1.7136, D(x) : 0.73, D(G(z)) : 0.30\n",
            "Epoch [180/251], Step : [600/600], d_loss : 0.9062, g_loss : 1.6586, D(x) : 0.62, D(G(z)) : 0.21\n",
            "Saving  fake_images-0181.png\n",
            "Epoch [181/251], Step : [200/600], d_loss : 0.8890, g_loss : 1.9580, D(x) : 0.63, D(G(z)) : 0.23\n",
            "Epoch [181/251], Step : [400/600], d_loss : 0.8853, g_loss : 1.5154, D(x) : 0.69, D(G(z)) : 0.29\n",
            "Epoch [181/251], Step : [600/600], d_loss : 0.9488, g_loss : 1.8448, D(x) : 0.65, D(G(z)) : 0.27\n",
            "Saving  fake_images-0182.png\n",
            "Epoch [182/251], Step : [200/600], d_loss : 1.0217, g_loss : 1.4990, D(x) : 0.65, D(G(z)) : 0.32\n",
            "Epoch [182/251], Step : [400/600], d_loss : 0.9033, g_loss : 1.8163, D(x) : 0.72, D(G(z)) : 0.33\n",
            "Epoch [182/251], Step : [600/600], d_loss : 0.9538, g_loss : 1.4483, D(x) : 0.68, D(G(z)) : 0.32\n",
            "Saving  fake_images-0183.png\n",
            "Epoch [183/251], Step : [200/600], d_loss : 1.2211, g_loss : 1.6721, D(x) : 0.52, D(G(z)) : 0.23\n",
            "Epoch [183/251], Step : [400/600], d_loss : 0.7687, g_loss : 1.8400, D(x) : 0.80, D(G(z)) : 0.32\n",
            "Epoch [183/251], Step : [600/600], d_loss : 0.8551, g_loss : 1.3903, D(x) : 0.74, D(G(z)) : 0.33\n",
            "Saving  fake_images-0184.png\n",
            "Epoch [184/251], Step : [200/600], d_loss : 0.8001, g_loss : 1.6233, D(x) : 0.75, D(G(z)) : 0.30\n",
            "Epoch [184/251], Step : [400/600], d_loss : 0.9860, g_loss : 1.8760, D(x) : 0.69, D(G(z)) : 0.32\n",
            "Epoch [184/251], Step : [600/600], d_loss : 0.9253, g_loss : 1.4442, D(x) : 0.74, D(G(z)) : 0.35\n",
            "Saving  fake_images-0185.png\n",
            "Epoch [185/251], Step : [200/600], d_loss : 1.0283, g_loss : 1.4146, D(x) : 0.70, D(G(z)) : 0.36\n",
            "Epoch [185/251], Step : [400/600], d_loss : 1.0483, g_loss : 1.7899, D(x) : 0.72, D(G(z)) : 0.36\n",
            "Epoch [185/251], Step : [600/600], d_loss : 0.9268, g_loss : 1.3996, D(x) : 0.65, D(G(z)) : 0.29\n",
            "Saving  fake_images-0186.png\n",
            "Epoch [186/251], Step : [200/600], d_loss : 0.8190, g_loss : 1.5034, D(x) : 0.72, D(G(z)) : 0.30\n",
            "Epoch [186/251], Step : [400/600], d_loss : 1.1406, g_loss : 1.5166, D(x) : 0.65, D(G(z)) : 0.34\n",
            "Epoch [186/251], Step : [600/600], d_loss : 1.1979, g_loss : 1.3191, D(x) : 0.63, D(G(z)) : 0.38\n",
            "Saving  fake_images-0187.png\n",
            "Epoch [187/251], Step : [200/600], d_loss : 0.9961, g_loss : 1.3371, D(x) : 0.67, D(G(z)) : 0.32\n",
            "Epoch [187/251], Step : [400/600], d_loss : 0.8328, g_loss : 2.0550, D(x) : 0.64, D(G(z)) : 0.20\n",
            "Epoch [187/251], Step : [600/600], d_loss : 0.8970, g_loss : 1.8750, D(x) : 0.71, D(G(z)) : 0.31\n",
            "Saving  fake_images-0188.png\n",
            "Epoch [188/251], Step : [200/600], d_loss : 0.9705, g_loss : 1.4996, D(x) : 0.63, D(G(z)) : 0.24\n",
            "Epoch [188/251], Step : [400/600], d_loss : 1.1193, g_loss : 1.5884, D(x) : 0.66, D(G(z)) : 0.39\n",
            "Epoch [188/251], Step : [600/600], d_loss : 1.1398, g_loss : 1.5220, D(x) : 0.63, D(G(z)) : 0.33\n",
            "Saving  fake_images-0189.png\n",
            "Epoch [189/251], Step : [200/600], d_loss : 1.0265, g_loss : 1.5517, D(x) : 0.64, D(G(z)) : 0.31\n",
            "Epoch [189/251], Step : [400/600], d_loss : 0.7882, g_loss : 1.5814, D(x) : 0.78, D(G(z)) : 0.31\n",
            "Epoch [189/251], Step : [600/600], d_loss : 0.8817, g_loss : 1.4218, D(x) : 0.68, D(G(z)) : 0.30\n",
            "Saving  fake_images-0190.png\n",
            "Epoch [190/251], Step : [200/600], d_loss : 1.0153, g_loss : 1.7213, D(x) : 0.61, D(G(z)) : 0.26\n",
            "Epoch [190/251], Step : [400/600], d_loss : 1.0633, g_loss : 1.2591, D(x) : 0.64, D(G(z)) : 0.36\n",
            "Epoch [190/251], Step : [600/600], d_loss : 1.0721, g_loss : 1.4465, D(x) : 0.64, D(G(z)) : 0.33\n",
            "Saving  fake_images-0191.png\n",
            "Epoch [191/251], Step : [200/600], d_loss : 0.9943, g_loss : 1.4594, D(x) : 0.70, D(G(z)) : 0.36\n",
            "Epoch [191/251], Step : [400/600], d_loss : 0.9922, g_loss : 1.7631, D(x) : 0.61, D(G(z)) : 0.24\n",
            "Epoch [191/251], Step : [600/600], d_loss : 1.0295, g_loss : 1.6855, D(x) : 0.67, D(G(z)) : 0.31\n",
            "Saving  fake_images-0192.png\n",
            "Epoch [192/251], Step : [200/600], d_loss : 0.9898, g_loss : 1.5517, D(x) : 0.74, D(G(z)) : 0.40\n",
            "Epoch [192/251], Step : [400/600], d_loss : 0.8648, g_loss : 1.8593, D(x) : 0.66, D(G(z)) : 0.25\n",
            "Epoch [192/251], Step : [600/600], d_loss : 0.9015, g_loss : 1.5213, D(x) : 0.73, D(G(z)) : 0.35\n",
            "Saving  fake_images-0193.png\n",
            "Epoch [193/251], Step : [200/600], d_loss : 0.9863, g_loss : 1.3122, D(x) : 0.75, D(G(z)) : 0.41\n",
            "Epoch [193/251], Step : [400/600], d_loss : 0.9903, g_loss : 1.6620, D(x) : 0.59, D(G(z)) : 0.23\n",
            "Epoch [193/251], Step : [600/600], d_loss : 0.9347, g_loss : 1.2880, D(x) : 0.75, D(G(z)) : 0.37\n",
            "Saving  fake_images-0194.png\n",
            "Epoch [194/251], Step : [200/600], d_loss : 1.0774, g_loss : 1.4702, D(x) : 0.60, D(G(z)) : 0.30\n",
            "Epoch [194/251], Step : [400/600], d_loss : 0.9544, g_loss : 1.5912, D(x) : 0.65, D(G(z)) : 0.28\n",
            "Epoch [194/251], Step : [600/600], d_loss : 1.0125, g_loss : 1.8114, D(x) : 0.71, D(G(z)) : 0.35\n",
            "Saving  fake_images-0195.png\n",
            "Epoch [195/251], Step : [200/600], d_loss : 0.9072, g_loss : 1.2502, D(x) : 0.74, D(G(z)) : 0.36\n",
            "Epoch [195/251], Step : [400/600], d_loss : 0.8873, g_loss : 1.5681, D(x) : 0.70, D(G(z)) : 0.30\n",
            "Epoch [195/251], Step : [600/600], d_loss : 1.0051, g_loss : 1.4584, D(x) : 0.70, D(G(z)) : 0.34\n",
            "Saving  fake_images-0196.png\n",
            "Epoch [196/251], Step : [200/600], d_loss : 0.8962, g_loss : 1.3508, D(x) : 0.70, D(G(z)) : 0.32\n",
            "Epoch [196/251], Step : [400/600], d_loss : 0.9256, g_loss : 1.6036, D(x) : 0.70, D(G(z)) : 0.32\n",
            "Epoch [196/251], Step : [600/600], d_loss : 0.9412, g_loss : 1.4043, D(x) : 0.77, D(G(z)) : 0.38\n",
            "Saving  fake_images-0197.png\n",
            "Epoch [197/251], Step : [200/600], d_loss : 0.9763, g_loss : 1.2844, D(x) : 0.73, D(G(z)) : 0.37\n",
            "Epoch [197/251], Step : [400/600], d_loss : 0.9336, g_loss : 1.4135, D(x) : 0.71, D(G(z)) : 0.33\n",
            "Epoch [197/251], Step : [600/600], d_loss : 0.9768, g_loss : 1.7278, D(x) : 0.60, D(G(z)) : 0.24\n",
            "Saving  fake_images-0198.png\n",
            "Epoch [198/251], Step : [200/600], d_loss : 0.9156, g_loss : 1.5612, D(x) : 0.68, D(G(z)) : 0.30\n",
            "Epoch [198/251], Step : [400/600], d_loss : 0.9916, g_loss : 1.2636, D(x) : 0.70, D(G(z)) : 0.40\n",
            "Epoch [198/251], Step : [600/600], d_loss : 1.0328, g_loss : 1.7169, D(x) : 0.69, D(G(z)) : 0.36\n",
            "Saving  fake_images-0199.png\n",
            "Epoch [199/251], Step : [200/600], d_loss : 1.1895, g_loss : 1.5419, D(x) : 0.63, D(G(z)) : 0.37\n",
            "Epoch [199/251], Step : [400/600], d_loss : 1.1663, g_loss : 1.5043, D(x) : 0.67, D(G(z)) : 0.41\n",
            "Epoch [199/251], Step : [600/600], d_loss : 0.9409, g_loss : 1.4302, D(x) : 0.74, D(G(z)) : 0.38\n",
            "Saving  fake_images-0200.png\n",
            "Epoch [200/251], Step : [200/600], d_loss : 0.8350, g_loss : 1.6336, D(x) : 0.67, D(G(z)) : 0.25\n",
            "Epoch [200/251], Step : [400/600], d_loss : 1.0378, g_loss : 1.4907, D(x) : 0.69, D(G(z)) : 0.36\n",
            "Epoch [200/251], Step : [600/600], d_loss : 0.9910, g_loss : 1.0856, D(x) : 0.69, D(G(z)) : 0.36\n",
            "Saving  fake_images-0201.png\n",
            "Epoch [201/251], Step : [200/600], d_loss : 1.2269, g_loss : 1.2996, D(x) : 0.59, D(G(z)) : 0.34\n",
            "Epoch [201/251], Step : [400/600], d_loss : 0.9313, g_loss : 1.7657, D(x) : 0.69, D(G(z)) : 0.29\n",
            "Epoch [201/251], Step : [600/600], d_loss : 1.1284, g_loss : 1.5207, D(x) : 0.55, D(G(z)) : 0.29\n",
            "Saving  fake_images-0202.png\n",
            "Epoch [202/251], Step : [200/600], d_loss : 1.0207, g_loss : 1.3031, D(x) : 0.63, D(G(z)) : 0.29\n",
            "Epoch [202/251], Step : [400/600], d_loss : 0.9510, g_loss : 1.4359, D(x) : 0.67, D(G(z)) : 0.30\n",
            "Epoch [202/251], Step : [600/600], d_loss : 0.9835, g_loss : 1.4328, D(x) : 0.66, D(G(z)) : 0.29\n",
            "Saving  fake_images-0203.png\n",
            "Epoch [203/251], Step : [200/600], d_loss : 1.0041, g_loss : 1.4236, D(x) : 0.72, D(G(z)) : 0.38\n",
            "Epoch [203/251], Step : [400/600], d_loss : 0.9706, g_loss : 1.4332, D(x) : 0.75, D(G(z)) : 0.37\n",
            "Epoch [203/251], Step : [600/600], d_loss : 0.7921, g_loss : 1.5871, D(x) : 0.69, D(G(z)) : 0.25\n",
            "Saving  fake_images-0204.png\n",
            "Epoch [204/251], Step : [200/600], d_loss : 0.9960, g_loss : 1.4665, D(x) : 0.69, D(G(z)) : 0.35\n",
            "Epoch [204/251], Step : [400/600], d_loss : 0.9742, g_loss : 1.7125, D(x) : 0.62, D(G(z)) : 0.26\n",
            "Epoch [204/251], Step : [600/600], d_loss : 1.0254, g_loss : 1.3615, D(x) : 0.73, D(G(z)) : 0.39\n",
            "Saving  fake_images-0205.png\n",
            "Epoch [205/251], Step : [200/600], d_loss : 1.0252, g_loss : 1.5234, D(x) : 0.63, D(G(z)) : 0.29\n",
            "Epoch [205/251], Step : [400/600], d_loss : 1.0137, g_loss : 1.2577, D(x) : 0.82, D(G(z)) : 0.44\n",
            "Epoch [205/251], Step : [600/600], d_loss : 1.0507, g_loss : 1.4368, D(x) : 0.70, D(G(z)) : 0.40\n",
            "Saving  fake_images-0206.png\n",
            "Epoch [206/251], Step : [200/600], d_loss : 0.9291, g_loss : 2.1027, D(x) : 0.61, D(G(z)) : 0.22\n",
            "Epoch [206/251], Step : [400/600], d_loss : 1.2642, g_loss : 1.5902, D(x) : 0.51, D(G(z)) : 0.26\n",
            "Epoch [206/251], Step : [600/600], d_loss : 0.8626, g_loss : 1.3950, D(x) : 0.77, D(G(z)) : 0.38\n",
            "Saving  fake_images-0207.png\n",
            "Epoch [207/251], Step : [200/600], d_loss : 0.9544, g_loss : 1.3880, D(x) : 0.67, D(G(z)) : 0.31\n",
            "Epoch [207/251], Step : [400/600], d_loss : 0.8224, g_loss : 1.3106, D(x) : 0.69, D(G(z)) : 0.27\n",
            "Epoch [207/251], Step : [600/600], d_loss : 0.8337, g_loss : 1.3829, D(x) : 0.72, D(G(z)) : 0.31\n",
            "Saving  fake_images-0208.png\n",
            "Epoch [208/251], Step : [200/600], d_loss : 1.1070, g_loss : 1.5650, D(x) : 0.61, D(G(z)) : 0.31\n",
            "Epoch [208/251], Step : [400/600], d_loss : 1.1020, g_loss : 1.1554, D(x) : 0.62, D(G(z)) : 0.34\n",
            "Epoch [208/251], Step : [600/600], d_loss : 0.9059, g_loss : 1.7283, D(x) : 0.69, D(G(z)) : 0.28\n",
            "Saving  fake_images-0209.png\n",
            "Epoch [209/251], Step : [200/600], d_loss : 0.7807, g_loss : 1.6203, D(x) : 0.77, D(G(z)) : 0.30\n",
            "Epoch [209/251], Step : [400/600], d_loss : 1.1491, g_loss : 1.4427, D(x) : 0.60, D(G(z)) : 0.32\n",
            "Epoch [209/251], Step : [600/600], d_loss : 1.0422, g_loss : 1.2806, D(x) : 0.66, D(G(z)) : 0.35\n",
            "Saving  fake_images-0210.png\n",
            "Epoch [210/251], Step : [200/600], d_loss : 0.8519, g_loss : 1.5020, D(x) : 0.67, D(G(z)) : 0.25\n",
            "Epoch [210/251], Step : [400/600], d_loss : 1.0412, g_loss : 1.5229, D(x) : 0.61, D(G(z)) : 0.30\n",
            "Epoch [210/251], Step : [600/600], d_loss : 0.7265, g_loss : 1.7681, D(x) : 0.78, D(G(z)) : 0.31\n",
            "Saving  fake_images-0211.png\n",
            "Epoch [211/251], Step : [200/600], d_loss : 0.8920, g_loss : 1.7335, D(x) : 0.73, D(G(z)) : 0.36\n",
            "Epoch [211/251], Step : [400/600], d_loss : 0.8375, g_loss : 1.4380, D(x) : 0.76, D(G(z)) : 0.34\n",
            "Epoch [211/251], Step : [600/600], d_loss : 1.0673, g_loss : 1.2141, D(x) : 0.68, D(G(z)) : 0.36\n",
            "Saving  fake_images-0212.png\n",
            "Epoch [212/251], Step : [200/600], d_loss : 1.1670, g_loss : 1.3199, D(x) : 0.69, D(G(z)) : 0.42\n",
            "Epoch [212/251], Step : [400/600], d_loss : 0.8531, g_loss : 1.6081, D(x) : 0.67, D(G(z)) : 0.24\n",
            "Epoch [212/251], Step : [600/600], d_loss : 0.9382, g_loss : 1.4856, D(x) : 0.66, D(G(z)) : 0.31\n",
            "Saving  fake_images-0213.png\n",
            "Epoch [213/251], Step : [200/600], d_loss : 0.8146, g_loss : 1.6743, D(x) : 0.67, D(G(z)) : 0.24\n",
            "Epoch [213/251], Step : [400/600], d_loss : 1.1150, g_loss : 1.3463, D(x) : 0.67, D(G(z)) : 0.37\n",
            "Epoch [213/251], Step : [600/600], d_loss : 1.0098, g_loss : 1.5860, D(x) : 0.68, D(G(z)) : 0.31\n",
            "Saving  fake_images-0214.png\n",
            "Epoch [214/251], Step : [200/600], d_loss : 0.9803, g_loss : 1.7546, D(x) : 0.62, D(G(z)) : 0.25\n",
            "Epoch [214/251], Step : [400/600], d_loss : 0.8670, g_loss : 1.3116, D(x) : 0.74, D(G(z)) : 0.34\n",
            "Epoch [214/251], Step : [600/600], d_loss : 1.1992, g_loss : 1.3513, D(x) : 0.62, D(G(z)) : 0.35\n",
            "Saving  fake_images-0215.png\n",
            "Epoch [215/251], Step : [200/600], d_loss : 1.1142, g_loss : 1.6085, D(x) : 0.66, D(G(z)) : 0.36\n",
            "Epoch [215/251], Step : [400/600], d_loss : 0.8415, g_loss : 1.6287, D(x) : 0.66, D(G(z)) : 0.23\n",
            "Epoch [215/251], Step : [600/600], d_loss : 1.1146, g_loss : 1.5226, D(x) : 0.61, D(G(z)) : 0.30\n",
            "Saving  fake_images-0216.png\n",
            "Epoch [216/251], Step : [200/600], d_loss : 1.0500, g_loss : 1.2209, D(x) : 0.70, D(G(z)) : 0.40\n",
            "Epoch [216/251], Step : [400/600], d_loss : 1.0037, g_loss : 1.2703, D(x) : 0.70, D(G(z)) : 0.35\n",
            "Epoch [216/251], Step : [600/600], d_loss : 0.9358, g_loss : 1.4109, D(x) : 0.65, D(G(z)) : 0.25\n",
            "Saving  fake_images-0217.png\n",
            "Epoch [217/251], Step : [200/600], d_loss : 1.0134, g_loss : 1.6843, D(x) : 0.64, D(G(z)) : 0.32\n",
            "Epoch [217/251], Step : [400/600], d_loss : 1.0009, g_loss : 1.4277, D(x) : 0.71, D(G(z)) : 0.37\n",
            "Epoch [217/251], Step : [600/600], d_loss : 0.9909, g_loss : 1.2804, D(x) : 0.65, D(G(z)) : 0.32\n",
            "Saving  fake_images-0218.png\n",
            "Epoch [218/251], Step : [200/600], d_loss : 0.9327, g_loss : 1.4181, D(x) : 0.66, D(G(z)) : 0.30\n",
            "Epoch [218/251], Step : [400/600], d_loss : 1.0572, g_loss : 1.4200, D(x) : 0.59, D(G(z)) : 0.28\n",
            "Epoch [218/251], Step : [600/600], d_loss : 1.1540, g_loss : 1.8008, D(x) : 0.60, D(G(z)) : 0.33\n",
            "Saving  fake_images-0219.png\n",
            "Epoch [219/251], Step : [200/600], d_loss : 0.9777, g_loss : 1.6692, D(x) : 0.64, D(G(z)) : 0.27\n",
            "Epoch [219/251], Step : [400/600], d_loss : 0.7015, g_loss : 1.3714, D(x) : 0.78, D(G(z)) : 0.29\n",
            "Epoch [219/251], Step : [600/600], d_loss : 1.1471, g_loss : 1.6733, D(x) : 0.58, D(G(z)) : 0.27\n",
            "Saving  fake_images-0220.png\n",
            "Epoch [220/251], Step : [200/600], d_loss : 1.0294, g_loss : 1.5188, D(x) : 0.59, D(G(z)) : 0.25\n",
            "Epoch [220/251], Step : [400/600], d_loss : 0.8740, g_loss : 1.1859, D(x) : 0.67, D(G(z)) : 0.25\n",
            "Epoch [220/251], Step : [600/600], d_loss : 1.0110, g_loss : 1.6429, D(x) : 0.61, D(G(z)) : 0.28\n",
            "Saving  fake_images-0221.png\n",
            "Epoch [221/251], Step : [200/600], d_loss : 0.8651, g_loss : 1.6423, D(x) : 0.65, D(G(z)) : 0.25\n",
            "Epoch [221/251], Step : [400/600], d_loss : 0.9345, g_loss : 1.4730, D(x) : 0.67, D(G(z)) : 0.29\n",
            "Epoch [221/251], Step : [600/600], d_loss : 0.9167, g_loss : 1.4954, D(x) : 0.67, D(G(z)) : 0.29\n",
            "Saving  fake_images-0222.png\n",
            "Epoch [222/251], Step : [200/600], d_loss : 0.8974, g_loss : 1.3788, D(x) : 0.70, D(G(z)) : 0.31\n",
            "Epoch [222/251], Step : [400/600], d_loss : 0.9313, g_loss : 1.3075, D(x) : 0.73, D(G(z)) : 0.37\n",
            "Epoch [222/251], Step : [600/600], d_loss : 0.9883, g_loss : 1.3429, D(x) : 0.68, D(G(z)) : 0.34\n",
            "Saving  fake_images-0223.png\n",
            "Epoch [223/251], Step : [200/600], d_loss : 0.8022, g_loss : 1.4661, D(x) : 0.74, D(G(z)) : 0.30\n",
            "Epoch [223/251], Step : [400/600], d_loss : 0.9221, g_loss : 1.7020, D(x) : 0.73, D(G(z)) : 0.33\n",
            "Epoch [223/251], Step : [600/600], d_loss : 0.9037, g_loss : 1.2121, D(x) : 0.66, D(G(z)) : 0.27\n",
            "Saving  fake_images-0224.png\n",
            "Epoch [224/251], Step : [200/600], d_loss : 0.9872, g_loss : 1.4995, D(x) : 0.67, D(G(z)) : 0.30\n",
            "Epoch [224/251], Step : [400/600], d_loss : 0.9677, g_loss : 1.6321, D(x) : 0.60, D(G(z)) : 0.20\n",
            "Epoch [224/251], Step : [600/600], d_loss : 1.1088, g_loss : 1.2467, D(x) : 0.67, D(G(z)) : 0.40\n",
            "Saving  fake_images-0225.png\n",
            "Epoch [225/251], Step : [200/600], d_loss : 1.0620, g_loss : 1.1337, D(x) : 0.68, D(G(z)) : 0.35\n",
            "Epoch [225/251], Step : [400/600], d_loss : 0.8555, g_loss : 1.3751, D(x) : 0.68, D(G(z)) : 0.28\n",
            "Epoch [225/251], Step : [600/600], d_loss : 0.8048, g_loss : 1.5293, D(x) : 0.73, D(G(z)) : 0.29\n",
            "Saving  fake_images-0226.png\n",
            "Epoch [226/251], Step : [200/600], d_loss : 1.1414, g_loss : 1.5167, D(x) : 0.59, D(G(z)) : 0.30\n",
            "Epoch [226/251], Step : [400/600], d_loss : 0.9624, g_loss : 1.3905, D(x) : 0.66, D(G(z)) : 0.32\n",
            "Epoch [226/251], Step : [600/600], d_loss : 1.0103, g_loss : 1.4272, D(x) : 0.69, D(G(z)) : 0.33\n",
            "Saving  fake_images-0227.png\n",
            "Epoch [227/251], Step : [200/600], d_loss : 0.9721, g_loss : 1.6453, D(x) : 0.63, D(G(z)) : 0.28\n",
            "Epoch [227/251], Step : [400/600], d_loss : 0.9464, g_loss : 1.5295, D(x) : 0.69, D(G(z)) : 0.30\n",
            "Epoch [227/251], Step : [600/600], d_loss : 1.0704, g_loss : 1.5009, D(x) : 0.68, D(G(z)) : 0.36\n",
            "Saving  fake_images-0228.png\n",
            "Epoch [228/251], Step : [200/600], d_loss : 1.0022, g_loss : 1.5571, D(x) : 0.67, D(G(z)) : 0.33\n",
            "Epoch [228/251], Step : [400/600], d_loss : 1.0293, g_loss : 1.5158, D(x) : 0.60, D(G(z)) : 0.28\n",
            "Epoch [228/251], Step : [600/600], d_loss : 1.0513, g_loss : 1.1529, D(x) : 0.66, D(G(z)) : 0.36\n",
            "Saving  fake_images-0229.png\n",
            "Epoch [229/251], Step : [200/600], d_loss : 1.0135, g_loss : 1.4861, D(x) : 0.64, D(G(z)) : 0.31\n",
            "Epoch [229/251], Step : [400/600], d_loss : 0.8226, g_loss : 1.8361, D(x) : 0.68, D(G(z)) : 0.25\n",
            "Epoch [229/251], Step : [600/600], d_loss : 0.9575, g_loss : 1.2758, D(x) : 0.72, D(G(z)) : 0.35\n",
            "Saving  fake_images-0230.png\n",
            "Epoch [230/251], Step : [200/600], d_loss : 0.9792, g_loss : 1.4289, D(x) : 0.68, D(G(z)) : 0.32\n",
            "Epoch [230/251], Step : [400/600], d_loss : 0.9990, g_loss : 1.1805, D(x) : 0.78, D(G(z)) : 0.43\n",
            "Epoch [230/251], Step : [600/600], d_loss : 0.8737, g_loss : 1.4279, D(x) : 0.73, D(G(z)) : 0.32\n",
            "Saving  fake_images-0231.png\n",
            "Epoch [231/251], Step : [200/600], d_loss : 0.8961, g_loss : 1.2904, D(x) : 0.66, D(G(z)) : 0.26\n",
            "Epoch [231/251], Step : [400/600], d_loss : 0.8484, g_loss : 1.5919, D(x) : 0.70, D(G(z)) : 0.28\n",
            "Epoch [231/251], Step : [600/600], d_loss : 0.8851, g_loss : 1.5457, D(x) : 0.66, D(G(z)) : 0.25\n",
            "Saving  fake_images-0232.png\n",
            "Epoch [232/251], Step : [200/600], d_loss : 1.0328, g_loss : 1.5289, D(x) : 0.63, D(G(z)) : 0.28\n",
            "Epoch [232/251], Step : [400/600], d_loss : 0.9640, g_loss : 1.2834, D(x) : 0.65, D(G(z)) : 0.28\n",
            "Epoch [232/251], Step : [600/600], d_loss : 0.7400, g_loss : 1.4920, D(x) : 0.71, D(G(z)) : 0.23\n",
            "Saving  fake_images-0233.png\n",
            "Epoch [233/251], Step : [200/600], d_loss : 0.8085, g_loss : 1.6779, D(x) : 0.71, D(G(z)) : 0.28\n",
            "Epoch [233/251], Step : [400/600], d_loss : 0.9215, g_loss : 1.6419, D(x) : 0.74, D(G(z)) : 0.36\n",
            "Epoch [233/251], Step : [600/600], d_loss : 0.9702, g_loss : 1.5479, D(x) : 0.64, D(G(z)) : 0.29\n",
            "Saving  fake_images-0234.png\n",
            "Epoch [234/251], Step : [200/600], d_loss : 0.9174, g_loss : 1.5301, D(x) : 0.70, D(G(z)) : 0.30\n",
            "Epoch [234/251], Step : [400/600], d_loss : 0.9583, g_loss : 1.6796, D(x) : 0.68, D(G(z)) : 0.29\n",
            "Epoch [234/251], Step : [600/600], d_loss : 0.9516, g_loss : 1.2392, D(x) : 0.73, D(G(z)) : 0.37\n",
            "Saving  fake_images-0235.png\n",
            "Epoch [235/251], Step : [200/600], d_loss : 0.9783, g_loss : 1.7212, D(x) : 0.72, D(G(z)) : 0.36\n",
            "Epoch [235/251], Step : [400/600], d_loss : 1.0135, g_loss : 1.4767, D(x) : 0.62, D(G(z)) : 0.31\n",
            "Epoch [235/251], Step : [600/600], d_loss : 1.1766, g_loss : 1.2170, D(x) : 0.68, D(G(z)) : 0.41\n",
            "Saving  fake_images-0236.png\n",
            "Epoch [236/251], Step : [200/600], d_loss : 0.9830, g_loss : 1.5334, D(x) : 0.68, D(G(z)) : 0.32\n",
            "Epoch [236/251], Step : [400/600], d_loss : 0.8481, g_loss : 1.5084, D(x) : 0.76, D(G(z)) : 0.37\n",
            "Epoch [236/251], Step : [600/600], d_loss : 1.0043, g_loss : 1.2454, D(x) : 0.65, D(G(z)) : 0.30\n",
            "Saving  fake_images-0237.png\n",
            "Epoch [237/251], Step : [200/600], d_loss : 0.9166, g_loss : 2.0240, D(x) : 0.65, D(G(z)) : 0.26\n",
            "Epoch [237/251], Step : [400/600], d_loss : 1.0025, g_loss : 1.5005, D(x) : 0.60, D(G(z)) : 0.26\n",
            "Epoch [237/251], Step : [600/600], d_loss : 1.0040, g_loss : 1.4112, D(x) : 0.67, D(G(z)) : 0.34\n",
            "Saving  fake_images-0238.png\n",
            "Epoch [238/251], Step : [200/600], d_loss : 1.0018, g_loss : 1.5094, D(x) : 0.65, D(G(z)) : 0.30\n",
            "Epoch [238/251], Step : [400/600], d_loss : 1.2577, g_loss : 1.5566, D(x) : 0.60, D(G(z)) : 0.36\n",
            "Epoch [238/251], Step : [600/600], d_loss : 0.8675, g_loss : 1.4694, D(x) : 0.68, D(G(z)) : 0.27\n",
            "Saving  fake_images-0239.png\n",
            "Epoch [239/251], Step : [200/600], d_loss : 0.8695, g_loss : 2.0714, D(x) : 0.75, D(G(z)) : 0.34\n",
            "Epoch [239/251], Step : [400/600], d_loss : 1.0153, g_loss : 1.3872, D(x) : 0.64, D(G(z)) : 0.31\n",
            "Epoch [239/251], Step : [600/600], d_loss : 1.0856, g_loss : 1.3244, D(x) : 0.67, D(G(z)) : 0.37\n",
            "Saving  fake_images-0240.png\n",
            "Epoch [240/251], Step : [200/600], d_loss : 0.9895, g_loss : 1.6832, D(x) : 0.62, D(G(z)) : 0.27\n",
            "Epoch [240/251], Step : [400/600], d_loss : 1.0547, g_loss : 1.4389, D(x) : 0.60, D(G(z)) : 0.30\n",
            "Epoch [240/251], Step : [600/600], d_loss : 0.8820, g_loss : 1.3502, D(x) : 0.68, D(G(z)) : 0.31\n",
            "Saving  fake_images-0241.png\n",
            "Epoch [241/251], Step : [200/600], d_loss : 1.1597, g_loss : 1.9198, D(x) : 0.54, D(G(z)) : 0.25\n",
            "Epoch [241/251], Step : [400/600], d_loss : 0.9146, g_loss : 1.2525, D(x) : 0.73, D(G(z)) : 0.35\n",
            "Epoch [241/251], Step : [600/600], d_loss : 0.9825, g_loss : 1.4891, D(x) : 0.68, D(G(z)) : 0.33\n",
            "Saving  fake_images-0242.png\n",
            "Epoch [242/251], Step : [200/600], d_loss : 1.0802, g_loss : 1.4030, D(x) : 0.60, D(G(z)) : 0.30\n",
            "Epoch [242/251], Step : [400/600], d_loss : 1.0060, g_loss : 1.1665, D(x) : 0.67, D(G(z)) : 0.35\n",
            "Epoch [242/251], Step : [600/600], d_loss : 0.9551, g_loss : 1.3306, D(x) : 0.69, D(G(z)) : 0.34\n",
            "Saving  fake_images-0243.png\n",
            "Epoch [243/251], Step : [200/600], d_loss : 0.9769, g_loss : 1.9873, D(x) : 0.66, D(G(z)) : 0.31\n",
            "Epoch [243/251], Step : [400/600], d_loss : 0.9555, g_loss : 1.3573, D(x) : 0.68, D(G(z)) : 0.31\n",
            "Epoch [243/251], Step : [600/600], d_loss : 0.8348, g_loss : 1.4464, D(x) : 0.65, D(G(z)) : 0.22\n",
            "Saving  fake_images-0244.png\n",
            "Epoch [244/251], Step : [200/600], d_loss : 0.9002, g_loss : 1.1733, D(x) : 0.72, D(G(z)) : 0.35\n",
            "Epoch [244/251], Step : [400/600], d_loss : 1.0273, g_loss : 1.3238, D(x) : 0.64, D(G(z)) : 0.31\n",
            "Epoch [244/251], Step : [600/600], d_loss : 0.9489, g_loss : 1.2876, D(x) : 0.74, D(G(z)) : 0.37\n",
            "Saving  fake_images-0245.png\n",
            "Epoch [245/251], Step : [200/600], d_loss : 0.9119, g_loss : 1.4097, D(x) : 0.67, D(G(z)) : 0.29\n",
            "Epoch [245/251], Step : [400/600], d_loss : 0.9932, g_loss : 1.7980, D(x) : 0.63, D(G(z)) : 0.31\n",
            "Epoch [245/251], Step : [600/600], d_loss : 0.9501, g_loss : 1.5618, D(x) : 0.65, D(G(z)) : 0.25\n",
            "Saving  fake_images-0246.png\n",
            "Epoch [246/251], Step : [200/600], d_loss : 0.9005, g_loss : 1.1915, D(x) : 0.77, D(G(z)) : 0.37\n",
            "Epoch [246/251], Step : [400/600], d_loss : 1.0185, g_loss : 1.7314, D(x) : 0.67, D(G(z)) : 0.33\n",
            "Epoch [246/251], Step : [600/600], d_loss : 1.0268, g_loss : 1.2592, D(x) : 0.69, D(G(z)) : 0.36\n",
            "Saving  fake_images-0247.png\n",
            "Epoch [247/251], Step : [200/600], d_loss : 1.0454, g_loss : 1.4024, D(x) : 0.69, D(G(z)) : 0.39\n",
            "Epoch [247/251], Step : [400/600], d_loss : 0.9338, g_loss : 1.7645, D(x) : 0.65, D(G(z)) : 0.25\n",
            "Epoch [247/251], Step : [600/600], d_loss : 0.9554, g_loss : 1.5045, D(x) : 0.67, D(G(z)) : 0.31\n",
            "Saving  fake_images-0248.png\n",
            "Epoch [248/251], Step : [200/600], d_loss : 1.1805, g_loss : 1.2158, D(x) : 0.57, D(G(z)) : 0.30\n",
            "Epoch [248/251], Step : [400/600], d_loss : 0.9036, g_loss : 1.7052, D(x) : 0.67, D(G(z)) : 0.27\n",
            "Epoch [248/251], Step : [600/600], d_loss : 0.9616, g_loss : 1.2461, D(x) : 0.70, D(G(z)) : 0.35\n",
            "Saving  fake_images-0249.png\n",
            "Epoch [249/251], Step : [200/600], d_loss : 0.7320, g_loss : 1.7022, D(x) : 0.72, D(G(z)) : 0.24\n",
            "Epoch [249/251], Step : [400/600], d_loss : 1.0064, g_loss : 1.4331, D(x) : 0.62, D(G(z)) : 0.28\n",
            "Epoch [249/251], Step : [600/600], d_loss : 0.9396, g_loss : 1.4943, D(x) : 0.72, D(G(z)) : 0.35\n",
            "Saving  fake_images-0250.png\n",
            "Epoch [250/251], Step : [200/600], d_loss : 0.9303, g_loss : 1.3313, D(x) : 0.68, D(G(z)) : 0.33\n",
            "Epoch [250/251], Step : [400/600], d_loss : 0.7933, g_loss : 1.2539, D(x) : 0.76, D(G(z)) : 0.33\n",
            "Epoch [250/251], Step : [600/600], d_loss : 0.8030, g_loss : 1.3540, D(x) : 0.73, D(G(z)) : 0.27\n",
            "Saving  fake_images-0251.png\n",
            "CPU times: user 40min 28s, sys: 22.9 s, total: 40min 51s\n",
            "Wall time: 40min 46s\n"
          ],
          "name": "stdout"
        }
      ]
    },
    {
      "cell_type": "code",
      "metadata": {
        "id": "o0tSYAf1Mxma"
      },
      "source": [
        "# save model checkpoints\n",
        "torch.save(G.state_dict(),'G.ckpt')\n",
        "torch.save(D.state_dict(),'D.ckpt')"
      ],
      "execution_count": 39,
      "outputs": []
    },
    {
      "cell_type": "code",
      "metadata": {
        "colab": {
          "base_uri": "https://localhost:8080/",
          "height": 33
        },
        "id": "di-6a3ZKMxnf",
        "outputId": "c42242c0-5833-45fc-e1fe-92fa5915e4ba"
      },
      "source": [
        "import cv2\n",
        "import os\n",
        "from IPython.display import FileLink\n",
        "\n",
        "vid_fname = 'gans_training.avi'\n",
        "\n",
        "files = [os.path.join(sample_dir, f) for f in os.listdir(sample_dir) if 'fake_images' in f]\n",
        "files.sort()\n",
        "\n",
        "out = cv2.VideoWriter(vid_fname,cv2.VideoWriter_fourcc(*'MP4V'), 8, (302,302))\n",
        "[out.write(cv2.imread(fname)) for fname in files]\n",
        "out.release()\n",
        "FileLink('gans_training.avi')"
      ],
      "execution_count": 41,
      "outputs": [
        {
          "output_type": "execute_result",
          "data": {
            "text/html": [
              "<a href='gans_training.avi' target='_blank'>gans_training.avi</a><br>"
            ],
            "text/plain": [
              "/content/gans_training.avi"
            ]
          },
          "metadata": {
            "tags": []
          },
          "execution_count": 41
        }
      ]
    },
    {
      "cell_type": "code",
      "metadata": {
        "colab": {
          "base_uri": "https://localhost:8080/",
          "height": 312
        },
        "id": "iRmtoTrUMxrs",
        "outputId": "4f61364f-8fd0-48fd-9816-d949d9729f0d"
      },
      "source": [
        "plt.plot(d_losses,'-')\n",
        "plt.plot(g_losses,'-')\n",
        "plt.xlabel('Epoch')\n",
        "plt.ylabel('Loss')\n",
        "plt.legend(['Discriminator','Generator'])\n",
        "plt.title('Losses')"
      ],
      "execution_count": 42,
      "outputs": [
        {
          "output_type": "execute_result",
          "data": {
            "text/plain": [
              "Text(0.5, 1.0, 'Losses')"
            ]
          },
          "metadata": {
            "tags": []
          },
          "execution_count": 42
        },
        {
          "output_type": "display_data",
          "data": {
            "image/png": "[encoded data removed]",
            "text/plain": [
              "<Figure size 432x288 with 1 Axes>"
            ]
          },
          "metadata": {
            "tags": [],
            "needs_background": "light"
          }
        }
      ]
    },
    {
      "cell_type": "code",
      "metadata": {
        "colab": {
          "base_uri": "https://localhost:8080/",
          "height": 312
        },
        "id": "cqOeo5ABnlya",
        "outputId": "2df729fa-2b33-4392-b557-b06ea46e0afd"
      },
      "source": [
        "plt.plot(real_scores,'-')\n",
        "plt.plot(fake_scores,'-')\n",
        "plt.xlabel('Epoch')\n",
        "plt.ylabel('Score')\n",
        "plt.legend(['Real Score','Fake Score'])\n",
        "plt.title('Scores')"
      ],
      "execution_count": 43,
      "outputs": [
        {
          "output_type": "execute_result",
          "data": {
            "text/plain": [
              "Text(0.5, 1.0, 'Scores')"
            ]
          },
          "metadata": {
            "tags": []
          },
          "execution_count": 43
        },
        {
          "output_type": "display_data",
          "data": {
            "image/png": "[encoded data removed]",
            "text/plain": [
              "<Figure size 432x288 with 1 Axes>"
            ]
          },
          "metadata": {
            "tags": [],
            "needs_background": "light"
          }
        }
      ]
    },
    {
      "cell_type": "code",
      "metadata": {
        "id": "NuDaZS2RMxs2"
      },
      "source": [
        ""
      ],
      "execution_count": null,
      "outputs": []
    },
    {
      "cell_type": "code",
      "metadata": {
        "id": "0zjukhv8Mxw9"
      },
      "source": [
        ""
      ],
      "execution_count": null,
      "outputs": []
    },
    {
      "cell_type": "code",
      "metadata": {
        "id": "ogrMMAevMxyH"
      },
      "source": [
        ""
      ],
      "execution_count": null,
      "outputs": []
    },
    {
      "cell_type": "code",
      "metadata": {
        "id": "fna1kn1WMx2o"
      },
      "source": [
        ""
      ],
      "execution_count": null,
      "outputs": []
    },
    {
      "cell_type": "code",
      "metadata": {
        "id": "LADEWAzsMx4F"
      },
      "source": [
        ""
      ],
      "execution_count": null,
      "outputs": []
    },
    {
      "cell_type": "code",
      "metadata": {
        "id": "z7ZEYeveMx7p"
      },
      "source": [
        ""
      ],
      "execution_count": null,
      "outputs": []
    },
    {
      "cell_type": "code",
      "metadata": {
        "id": "aG69KVBPMx99"
      },
      "source": [
        ""
      ],
      "execution_count": null,
      "outputs": []
    },
    {
      "cell_type": "code",
      "metadata": {
        "id": "xk9Aq1MyMyA4"
      },
      "source": [
        ""
      ],
      "execution_count": null,
      "outputs": []
    },
    {
      "cell_type": "code",
      "metadata": {
        "id": "YrhPVgwbMyDS"
      },
      "source": [
        ""
      ],
      "execution_count": null,
      "outputs": []
    }
  ]
}